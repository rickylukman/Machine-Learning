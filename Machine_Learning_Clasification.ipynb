{
  "nbformat": 4,
  "nbformat_minor": 0,
  "metadata": {
    "colab": {
      "name": "Machine Learning - Clasification",
      "provenance": [],
      "collapsed_sections": [],
      "authorship_tag": "ABX9TyO9pCe7+g9Pjk0BerTPqSiV",
      "include_colab_link": true
    },
    "kernelspec": {
      "name": "python3",
      "display_name": "Python 3"
    }
  },
  "cells": [
    {
      "cell_type": "markdown",
      "metadata": {
        "id": "view-in-github",
        "colab_type": "text"
      },
      "source": [
        "<a href=\"https://colab.research.google.com/github/rickylukman/Machine-Learning/blob/master/Machine_Learning_Clasification.ipynb\" target=\"_parent\"><img src=\"https://colab.research.google.com/assets/colab-badge.svg\" alt=\"Open In Colab\"/></a>"
      ]
    },
    {
      "cell_type": "markdown",
      "metadata": {
        "id": "dDrOFOFF0YyX",
        "colab_type": "text"
      },
      "source": [
        "4/ygFLCLVquVZ_Wabgm-dXb3dcCe6A_lnD4ZadEQNIPXUjvB58zjw_tCY"
      ]
    },
    {
      "cell_type": "code",
      "metadata": {
        "id": "Mhvg1JPJ0GJ5",
        "colab_type": "code",
        "outputId": "224222fa-0087-49f7-f2e2-c5ebe470ae72",
        "colab": {
          "base_uri": "https://localhost:8080/",
          "height": 122
        }
      },
      "source": [
        "from google.colab import drive\n",
        "drive.mount('/content/gdrive')"
      ],
      "execution_count": 2,
      "outputs": [
        {
          "output_type": "stream",
          "text": [
            "Go to this URL in a browser: https://accounts.google.com/o/oauth2/auth?client_id=947318989803-6bn6qk8qdgf4n4g3pfee6491hc0brc4i.apps.googleusercontent.com&redirect_uri=urn%3aietf%3awg%3aoauth%3a2.0%3aoob&response_type=code&scope=email%20https%3a%2f%2fwww.googleapis.com%2fauth%2fdocs.test%20https%3a%2f%2fwww.googleapis.com%2fauth%2fdrive%20https%3a%2f%2fwww.googleapis.com%2fauth%2fdrive.photos.readonly%20https%3a%2f%2fwww.googleapis.com%2fauth%2fpeopleapi.readonly\n",
            "\n",
            "Enter your authorization code:\n",
            "··········\n",
            "Mounted at /content/gdrive\n"
          ],
          "name": "stdout"
        }
      ]
    },
    {
      "cell_type": "code",
      "metadata": {
        "id": "KF9TyvFd0O1Q",
        "colab_type": "code",
        "outputId": "355c3ba5-9143-4aa2-9fa2-5817689b12f9",
        "colab": {
          "base_uri": "https://localhost:8080/",
          "height": 34
        }
      },
      "source": [
        "import pandas as pd\n",
        "df=pd.read_csv('gdrive/My Drive/used_cars_olah.csv')\n",
        "df.shape"
      ],
      "execution_count": 41,
      "outputs": [
        {
          "output_type": "execute_result",
          "data": {
            "text/plain": [
              "(20001, 8)"
            ]
          },
          "metadata": {
            "tags": []
          },
          "execution_count": 41
        }
      ]
    },
    {
      "cell_type": "code",
      "metadata": {
        "id": "YT09bgs21GgT",
        "colab_type": "code",
        "outputId": "dc833e9f-75fc-4463-9df3-36dc3db9ae75",
        "colab": {
          "base_uri": "https://localhost:8080/",
          "height": 204
        }
      },
      "source": [
        "df.head()"
      ],
      "execution_count": 4,
      "outputs": [
        {
          "output_type": "execute_result",
          "data": {
            "text/html": [
              "<div>\n",
              "<style scoped>\n",
              "    .dataframe tbody tr th:only-of-type {\n",
              "        vertical-align: middle;\n",
              "    }\n",
              "\n",
              "    .dataframe tbody tr th {\n",
              "        vertical-align: top;\n",
              "    }\n",
              "\n",
              "    .dataframe thead th {\n",
              "        text-align: right;\n",
              "    }\n",
              "</style>\n",
              "<table border=\"1\" class=\"dataframe\">\n",
              "  <thead>\n",
              "    <tr style=\"text-align: right;\">\n",
              "      <th></th>\n",
              "      <th>Unnamed: 0</th>\n",
              "      <th>price</th>\n",
              "      <th>year</th>\n",
              "      <th>manufacturer</th>\n",
              "      <th>fuel</th>\n",
              "      <th>title_status</th>\n",
              "      <th>transmission</th>\n",
              "      <th>state</th>\n",
              "    </tr>\n",
              "  </thead>\n",
              "  <tbody>\n",
              "    <tr>\n",
              "      <th>0</th>\n",
              "      <td>0</td>\n",
              "      <td>0.000015</td>\n",
              "      <td>0.922330</td>\n",
              "      <td>0.974359</td>\n",
              "      <td>0.5</td>\n",
              "      <td>0.0</td>\n",
              "      <td>0.5</td>\n",
              "      <td>0.0</td>\n",
              "    </tr>\n",
              "    <tr>\n",
              "      <th>1</th>\n",
              "      <td>1</td>\n",
              "      <td>0.000000</td>\n",
              "      <td>0.961165</td>\n",
              "      <td>0.307692</td>\n",
              "      <td>0.5</td>\n",
              "      <td>0.0</td>\n",
              "      <td>0.0</td>\n",
              "      <td>0.0</td>\n",
              "    </tr>\n",
              "    <tr>\n",
              "      <th>2</th>\n",
              "      <td>2</td>\n",
              "      <td>0.000040</td>\n",
              "      <td>0.951456</td>\n",
              "      <td>0.333333</td>\n",
              "      <td>0.5</td>\n",
              "      <td>0.0</td>\n",
              "      <td>0.0</td>\n",
              "      <td>0.0</td>\n",
              "    </tr>\n",
              "    <tr>\n",
              "      <th>3</th>\n",
              "      <td>3</td>\n",
              "      <td>0.000000</td>\n",
              "      <td>0.961165</td>\n",
              "      <td>0.307692</td>\n",
              "      <td>0.5</td>\n",
              "      <td>0.0</td>\n",
              "      <td>0.0</td>\n",
              "      <td>0.0</td>\n",
              "    </tr>\n",
              "    <tr>\n",
              "      <th>4</th>\n",
              "      <td>4</td>\n",
              "      <td>0.000043</td>\n",
              "      <td>0.980583</td>\n",
              "      <td>0.307692</td>\n",
              "      <td>0.0</td>\n",
              "      <td>0.0</td>\n",
              "      <td>0.0</td>\n",
              "      <td>0.0</td>\n",
              "    </tr>\n",
              "  </tbody>\n",
              "</table>\n",
              "</div>"
            ],
            "text/plain": [
              "   Unnamed: 0     price      year  ...  title_status  transmission  state\n",
              "0           0  0.000015  0.922330  ...           0.0           0.5    0.0\n",
              "1           1  0.000000  0.961165  ...           0.0           0.0    0.0\n",
              "2           2  0.000040  0.951456  ...           0.0           0.0    0.0\n",
              "3           3  0.000000  0.961165  ...           0.0           0.0    0.0\n",
              "4           4  0.000043  0.980583  ...           0.0           0.0    0.0\n",
              "\n",
              "[5 rows x 8 columns]"
            ]
          },
          "metadata": {
            "tags": []
          },
          "execution_count": 4
        }
      ]
    },
    {
      "cell_type": "markdown",
      "metadata": {
        "id": "edySXkiO1B6o",
        "colab_type": "text"
      },
      "source": [
        "Menentukan label, price"
      ]
    },
    {
      "cell_type": "code",
      "metadata": {
        "id": "G2Ru6WHf0eAN",
        "colab_type": "code",
        "colab": {}
      },
      "source": [
        "label = df['state'].copy()\n",
        "df = df.drop(columns=['state'])"
      ],
      "execution_count": 0,
      "outputs": []
    },
    {
      "cell_type": "markdown",
      "metadata": {
        "id": "881mbhce2hWt",
        "colab_type": "text"
      },
      "source": [
        "Split menjadi train dan test"
      ]
    },
    {
      "cell_type": "code",
      "metadata": {
        "id": "QF7QwCCN1579",
        "colab_type": "code",
        "colab": {}
      },
      "source": [
        "from sklearn.model_selection import train_test_split\n",
        "xTrain, xTest, yTrain, yTest = train_test_split(df, label, test_size = 0.3, random_state = 0)"
      ],
      "execution_count": 0,
      "outputs": []
    },
    {
      "cell_type": "markdown",
      "metadata": {
        "id": "arse5mzT2fUb",
        "colab_type": "text"
      },
      "source": [
        "Training"
      ]
    },
    {
      "cell_type": "code",
      "metadata": {
        "id": "Q18j-zBV2bx1",
        "colab_type": "code",
        "colab": {}
      },
      "source": [
        "# from sklearn.naive_bayes import MultinomialNB\n",
        "# nb = MultinomialNB()\n",
        "# nb.fit(xTrain.astype('int'),yTrain.astype('int'))\n",
        "# yPredict = nb.predict(xTest.astype('int'))\n",
        "\n",
        "from sklearn.neighbors import KNeighborsClassifier\n",
        "neigh = KNeighborsClassifier(n_neighbors=3)\n",
        "neigh.fit(xTrain.astype('int'),yTrain.astype('int'))\n",
        "yPredict = neigh.predict(xTest.astype('int'))"
      ],
      "execution_count": 0,
      "outputs": []
    },
    {
      "cell_type": "markdown",
      "metadata": {
        "id": "gdXBy8P58NU1",
        "colab_type": "text"
      },
      "source": [
        "Evaluasi"
      ]
    },
    {
      "cell_type": "code",
      "metadata": {
        "id": "C3icHINl8OYZ",
        "colab_type": "code",
        "outputId": "2b29fbfa-b530-45f7-f69a-30eb01c472f3",
        "colab": {
          "base_uri": "https://localhost:8080/",
          "height": 111
        }
      },
      "source": [
        "y_Actual = pd.Series(yTest.astype('int'), name='Actual')\n",
        "y_Predict = pd.Series(yPredict, name='Predicted')\n",
        "df_confusion = pd.crosstab(y_Actual, y_Predict)\n",
        "df_confusion"
      ],
      "execution_count": 45,
      "outputs": [
        {
          "output_type": "execute_result",
          "data": {
            "text/html": [
              "<div>\n",
              "<style scoped>\n",
              "    .dataframe tbody tr th:only-of-type {\n",
              "        vertical-align: middle;\n",
              "    }\n",
              "\n",
              "    .dataframe tbody tr th {\n",
              "        vertical-align: top;\n",
              "    }\n",
              "\n",
              "    .dataframe thead th {\n",
              "        text-align: right;\n",
              "    }\n",
              "</style>\n",
              "<table border=\"1\" class=\"dataframe\">\n",
              "  <thead>\n",
              "    <tr style=\"text-align: right;\">\n",
              "      <th>Predicted</th>\n",
              "      <th>0</th>\n",
              "      <th>1</th>\n",
              "    </tr>\n",
              "    <tr>\n",
              "      <th>Actual</th>\n",
              "      <th></th>\n",
              "      <th></th>\n",
              "    </tr>\n",
              "  </thead>\n",
              "  <tbody>\n",
              "    <tr>\n",
              "      <th>0</th>\n",
              "      <td>1452</td>\n",
              "      <td>307</td>\n",
              "    </tr>\n",
              "  </tbody>\n",
              "</table>\n",
              "</div>"
            ],
            "text/plain": [
              "Predicted     0    1\n",
              "Actual              \n",
              "0          1452  307"
            ]
          },
          "metadata": {
            "tags": []
          },
          "execution_count": 45
        }
      ]
    },
    {
      "cell_type": "markdown",
      "metadata": {
        "id": "ZazSQ_z68voB",
        "colab_type": "text"
      },
      "source": [
        "Akurasi"
      ]
    },
    {
      "cell_type": "code",
      "metadata": {
        "id": "XUUKNRW_8kNW",
        "colab_type": "code",
        "colab": {}
      },
      "source": [
        "from sklearn.metrics import classification_report"
      ],
      "execution_count": 0,
      "outputs": []
    },
    {
      "cell_type": "code",
      "metadata": {
        "id": "2_dx9Hov80o4",
        "colab_type": "code",
        "outputId": "f2d1dc15-528a-43da-badb-e9e63c7d7f0e",
        "colab": {
          "base_uri": "https://localhost:8080/",
          "height": 170
        }
      },
      "source": [
        "print(classification_report(yTest.astype('int'),yPredict))"
      ],
      "execution_count": 46,
      "outputs": [
        {
          "output_type": "stream",
          "text": [
            "              precision    recall  f1-score   support\n",
            "\n",
            "           0       1.00      1.00      1.00      4934\n",
            "           1       1.00      0.99      1.00      1067\n",
            "\n",
            "    accuracy                           1.00      6001\n",
            "   macro avg       1.00      1.00      1.00      6001\n",
            "weighted avg       1.00      1.00      1.00      6001\n",
            "\n"
          ],
          "name": "stdout"
        }
      ]
    },
    {
      "cell_type": "code",
      "metadata": {
        "id": "TNbVClMJ89SP",
        "colab_type": "code",
        "outputId": "e182f28c-fae3-46b7-d3f8-2828b66a3877",
        "colab": {
          "base_uri": "https://localhost:8080/",
          "height": 34
        }
      },
      "source": [
        "from sklearn import metrics\n",
        "print(\"Akurasi \",metrics.accuracy_score(yTest.astype('int'),yPredict))"
      ],
      "execution_count": 47,
      "outputs": [
        {
          "output_type": "stream",
          "text": [
            "Akurasi  0.9983336110648225\n"
          ],
          "name": "stdout"
        }
      ]
    },
    {
      "cell_type": "code",
      "metadata": {
        "id": "0ZSe9j4PnsKE",
        "colab_type": "code",
        "colab": {}
      },
      "source": [
        ""
      ],
      "execution_count": 0,
      "outputs": []
    }
  ]
}