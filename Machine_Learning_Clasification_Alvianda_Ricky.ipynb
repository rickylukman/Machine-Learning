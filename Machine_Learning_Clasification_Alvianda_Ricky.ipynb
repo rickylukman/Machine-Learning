{
  "nbformat": 4,
  "nbformat_minor": 0,
  "metadata": {
    "colab": {
      "name": "Machine Learning - Clasification - Alvianda Ricky",
      "provenance": [],
      "collapsed_sections": [
        "j-dLNN3C7flj",
        "8f_zr1WX8IyE",
        "edySXkiO1B6o",
        "881mbhce2hWt",
        "arse5mzT2fUb",
        "UqEjLmR34C6l",
        "YGju01ZO8c_A",
        "zNX-JnCB4aUj",
        "D5HST4fB4aUz"
      ],
      "authorship_tag": "ABX9TyMlSVc4iw95oUK700Q62G6o",
      "include_colab_link": true
    },
    "kernelspec": {
      "name": "python3",
      "display_name": "Python 3"
    }
  },
  "cells": [
    {
      "cell_type": "markdown",
      "metadata": {
        "id": "view-in-github",
        "colab_type": "text"
      },
      "source": [
        "<a href=\"https://colab.research.google.com/github/rickylukman/Machine-Learning/blob/master/Machine_Learning_Clasification_Alvianda_Ricky.ipynb\" target=\"_parent\"><img src=\"https://colab.research.google.com/assets/colab-badge.svg\" alt=\"Open In Colab\"/></a>"
      ]
    },
    {
      "cell_type": "markdown",
      "metadata": {
        "id": "j-dLNN3C7flj",
        "colab_type": "text"
      },
      "source": [
        "# Import File dari gdrive"
      ]
    },
    {
      "cell_type": "code",
      "metadata": {
        "id": "Mhvg1JPJ0GJ5",
        "colab_type": "code",
        "outputId": "4b61c2f8-021c-4366-caa9-c7781308d196",
        "colab": {
          "base_uri": "https://localhost:8080/",
          "height": 122
        }
      },
      "source": [
        "from google.colab import drive\n",
        "drive.mount('/content/gdrive')"
      ],
      "execution_count": 0,
      "outputs": [
        {
          "output_type": "stream",
          "text": [
            "Go to this URL in a browser: https://accounts.google.com/o/oauth2/auth?client_id=947318989803-6bn6qk8qdgf4n4g3pfee6491hc0brc4i.apps.googleusercontent.com&redirect_uri=urn%3aietf%3awg%3aoauth%3a2.0%3aoob&response_type=code&scope=email%20https%3a%2f%2fwww.googleapis.com%2fauth%2fdocs.test%20https%3a%2f%2fwww.googleapis.com%2fauth%2fdrive%20https%3a%2f%2fwww.googleapis.com%2fauth%2fdrive.photos.readonly%20https%3a%2f%2fwww.googleapis.com%2fauth%2fpeopleapi.readonly\n",
            "\n",
            "Enter your authorization code:\n",
            "··········\n",
            "Mounted at /content/gdrive\n"
          ],
          "name": "stdout"
        }
      ]
    },
    {
      "cell_type": "code",
      "metadata": {
        "id": "KF9TyvFd0O1Q",
        "colab_type": "code",
        "outputId": "9c654e6d-8810-4b4e-bf3b-bbc2bd0ab144",
        "colab": {
          "base_uri": "https://localhost:8080/",
          "height": 34
        }
      },
      "source": [
        "# Baca file\n",
        "import pandas as pd\n",
        "df=pd.read_csv('gdrive/My Drive/used_cars_olah.csv')\n",
        "df.shape"
      ],
      "execution_count": 0,
      "outputs": [
        {
          "output_type": "execute_result",
          "data": {
            "text/plain": [
              "(20001, 12)"
            ]
          },
          "metadata": {
            "tags": []
          },
          "execution_count": 53
        }
      ]
    },
    {
      "cell_type": "code",
      "metadata": {
        "id": "YT09bgs21GgT",
        "colab_type": "code",
        "outputId": "f5c8e2c7-0716-4658-e5fa-6cfc22febf2d",
        "colab": {
          "base_uri": "https://localhost:8080/",
          "height": 204
        }
      },
      "source": [
        "df.head()"
      ],
      "execution_count": 0,
      "outputs": [
        {
          "output_type": "execute_result",
          "data": {
            "text/html": [
              "<div>\n",
              "<style scoped>\n",
              "    .dataframe tbody tr th:only-of-type {\n",
              "        vertical-align: middle;\n",
              "    }\n",
              "\n",
              "    .dataframe tbody tr th {\n",
              "        vertical-align: top;\n",
              "    }\n",
              "\n",
              "    .dataframe thead th {\n",
              "        text-align: right;\n",
              "    }\n",
              "</style>\n",
              "<table border=\"1\" class=\"dataframe\">\n",
              "  <thead>\n",
              "    <tr style=\"text-align: right;\">\n",
              "      <th></th>\n",
              "      <th>Unnamed: 0</th>\n",
              "      <th>price</th>\n",
              "      <th>year</th>\n",
              "      <th>manufacturer</th>\n",
              "      <th>model</th>\n",
              "      <th>condition</th>\n",
              "      <th>fuel</th>\n",
              "      <th>title_status</th>\n",
              "      <th>transmission</th>\n",
              "      <th>drive</th>\n",
              "      <th>paint_color</th>\n",
              "      <th>state</th>\n",
              "    </tr>\n",
              "  </thead>\n",
              "  <tbody>\n",
              "    <tr>\n",
              "      <th>0</th>\n",
              "      <td>0</td>\n",
              "      <td>0.000015</td>\n",
              "      <td>0.922330</td>\n",
              "      <td>0.974359</td>\n",
              "      <td>0.530292</td>\n",
              "      <td>0.0</td>\n",
              "      <td>0.5</td>\n",
              "      <td>0.0</td>\n",
              "      <td>0.5</td>\n",
              "      <td>0.0</td>\n",
              "      <td>0.000000</td>\n",
              "      <td>0.0</td>\n",
              "    </tr>\n",
              "    <tr>\n",
              "      <th>1</th>\n",
              "      <td>1</td>\n",
              "      <td>0.000000</td>\n",
              "      <td>0.961165</td>\n",
              "      <td>0.307692</td>\n",
              "      <td>0.425778</td>\n",
              "      <td>0.0</td>\n",
              "      <td>0.5</td>\n",
              "      <td>0.0</td>\n",
              "      <td>0.0</td>\n",
              "      <td>0.0</td>\n",
              "      <td>0.909091</td>\n",
              "      <td>0.0</td>\n",
              "    </tr>\n",
              "    <tr>\n",
              "      <th>2</th>\n",
              "      <td>2</td>\n",
              "      <td>0.000040</td>\n",
              "      <td>0.951456</td>\n",
              "      <td>0.333333</td>\n",
              "      <td>0.792904</td>\n",
              "      <td>0.0</td>\n",
              "      <td>0.5</td>\n",
              "      <td>0.0</td>\n",
              "      <td>0.0</td>\n",
              "      <td>0.0</td>\n",
              "      <td>0.909091</td>\n",
              "      <td>0.0</td>\n",
              "    </tr>\n",
              "    <tr>\n",
              "      <th>3</th>\n",
              "      <td>3</td>\n",
              "      <td>0.000000</td>\n",
              "      <td>0.961165</td>\n",
              "      <td>0.307692</td>\n",
              "      <td>0.425778</td>\n",
              "      <td>0.0</td>\n",
              "      <td>0.5</td>\n",
              "      <td>0.0</td>\n",
              "      <td>0.0</td>\n",
              "      <td>0.0</td>\n",
              "      <td>0.909091</td>\n",
              "      <td>0.0</td>\n",
              "    </tr>\n",
              "    <tr>\n",
              "      <th>4</th>\n",
              "      <td>4</td>\n",
              "      <td>0.000043</td>\n",
              "      <td>0.980583</td>\n",
              "      <td>0.307692</td>\n",
              "      <td>0.444847</td>\n",
              "      <td>0.0</td>\n",
              "      <td>0.0</td>\n",
              "      <td>0.0</td>\n",
              "      <td>0.0</td>\n",
              "      <td>0.0</td>\n",
              "      <td>0.909091</td>\n",
              "      <td>0.0</td>\n",
              "    </tr>\n",
              "  </tbody>\n",
              "</table>\n",
              "</div>"
            ],
            "text/plain": [
              "   Unnamed: 0     price      year  ...  drive  paint_color  state\n",
              "0           0  0.000015  0.922330  ...    0.0     0.000000    0.0\n",
              "1           1  0.000000  0.961165  ...    0.0     0.909091    0.0\n",
              "2           2  0.000040  0.951456  ...    0.0     0.909091    0.0\n",
              "3           3  0.000000  0.961165  ...    0.0     0.909091    0.0\n",
              "4           4  0.000043  0.980583  ...    0.0     0.909091    0.0\n",
              "\n",
              "[5 rows x 12 columns]"
            ]
          },
          "metadata": {
            "tags": []
          },
          "execution_count": 3
        }
      ]
    },
    {
      "cell_type": "markdown",
      "metadata": {
        "id": "K2TbbFyZ70my",
        "colab_type": "text"
      },
      "source": [
        "# Clasification"
      ]
    },
    {
      "cell_type": "markdown",
      "metadata": {
        "id": "8f_zr1WX8IyE",
        "colab_type": "text"
      },
      "source": [
        "## Pemodelan"
      ]
    },
    {
      "cell_type": "markdown",
      "metadata": {
        "id": "edySXkiO1B6o",
        "colab_type": "text"
      },
      "source": [
        "### Pelabelan"
      ]
    },
    {
      "cell_type": "code",
      "metadata": {
        "id": "G2Ru6WHf0eAN",
        "colab_type": "code",
        "colab": {}
      },
      "source": [
        "label = df['fuel'].copy()\n",
        "# df = df.drop(columns=['fuel'])\n",
        "df2 = df[['transmission','drive']]"
      ],
      "execution_count": 0,
      "outputs": []
    },
    {
      "cell_type": "markdown",
      "metadata": {
        "id": "881mbhce2hWt",
        "colab_type": "text"
      },
      "source": [
        "### Split menjadi train dan test"
      ]
    },
    {
      "cell_type": "code",
      "metadata": {
        "id": "QF7QwCCN1579",
        "colab_type": "code",
        "colab": {}
      },
      "source": [
        "from sklearn.model_selection import train_test_split\n",
        "xTrain, xTest, yTrain, yTest = train_test_split(df2, label, test_size = 0.3, random_state = 0)"
      ],
      "execution_count": 0,
      "outputs": []
    },
    {
      "cell_type": "markdown",
      "metadata": {
        "id": "arse5mzT2fUb",
        "colab_type": "text"
      },
      "source": [
        "### Training"
      ]
    },
    {
      "cell_type": "code",
      "metadata": {
        "id": "Q18j-zBV2bx1",
        "colab_type": "code",
        "colab": {}
      },
      "source": [
        "# from sklearn.naive_bayes import MultinomialNB\n",
        "# nb = MultinomialNB()\n",
        "# nb.fit(xTrain.astype('int'),yTrain.astype('int'))\n",
        "# yPredict = nb.predict(xTest.astype('int'))\n",
        "\n",
        "from sklearn.neighbors import KNeighborsClassifier\n",
        "neigh = KNeighborsClassifier(n_neighbors=3)\n",
        "neigh.fit(xTrain.astype('int'),yTrain.astype('int'))\n",
        "yPredict = neigh.predict(xTest.astype('int'))\n"
      ],
      "execution_count": 0,
      "outputs": []
    },
    {
      "cell_type": "markdown",
      "metadata": {
        "id": "gdXBy8P58NU1",
        "colab_type": "text"
      },
      "source": [
        "Evaluasi"
      ]
    },
    {
      "cell_type": "code",
      "metadata": {
        "id": "C3icHINl8OYZ",
        "colab_type": "code",
        "outputId": "fe8d5029-f995-44dc-e45f-0bc40fcb445e",
        "colab": {
          "base_uri": "https://localhost:8080/",
          "height": 142
        }
      },
      "source": [
        "y_Actual = pd.Series(yTest.astype('int'), name='Actual')\n",
        "y_Predict = pd.Series(yPredict, name='Predicted')\n",
        "df_confusion = pd.crosstab(y_Actual, y_Predict)\n",
        "df_confusion"
      ],
      "execution_count": 0,
      "outputs": [
        {
          "output_type": "execute_result",
          "data": {
            "text/html": [
              "<div>\n",
              "<style scoped>\n",
              "    .dataframe tbody tr th:only-of-type {\n",
              "        vertical-align: middle;\n",
              "    }\n",
              "\n",
              "    .dataframe tbody tr th {\n",
              "        vertical-align: top;\n",
              "    }\n",
              "\n",
              "    .dataframe thead th {\n",
              "        text-align: right;\n",
              "    }\n",
              "</style>\n",
              "<table border=\"1\" class=\"dataframe\">\n",
              "  <thead>\n",
              "    <tr style=\"text-align: right;\">\n",
              "      <th>Predicted</th>\n",
              "      <th>0</th>\n",
              "    </tr>\n",
              "    <tr>\n",
              "      <th>Actual</th>\n",
              "      <th></th>\n",
              "    </tr>\n",
              "  </thead>\n",
              "  <tbody>\n",
              "    <tr>\n",
              "      <th>0</th>\n",
              "      <td>1715</td>\n",
              "    </tr>\n",
              "    <tr>\n",
              "      <th>1</th>\n",
              "      <td>44</td>\n",
              "    </tr>\n",
              "  </tbody>\n",
              "</table>\n",
              "</div>"
            ],
            "text/plain": [
              "Predicted     0\n",
              "Actual         \n",
              "0          1715\n",
              "1            44"
            ]
          },
          "metadata": {
            "tags": []
          },
          "execution_count": 57
        }
      ]
    },
    {
      "cell_type": "markdown",
      "metadata": {
        "id": "ZazSQ_z68voB",
        "colab_type": "text"
      },
      "source": [
        "Akurasi"
      ]
    },
    {
      "cell_type": "code",
      "metadata": {
        "id": "XUUKNRW_8kNW",
        "colab_type": "code",
        "colab": {}
      },
      "source": [
        "from sklearn.metrics import classification_report"
      ],
      "execution_count": 0,
      "outputs": []
    },
    {
      "cell_type": "code",
      "metadata": {
        "id": "2_dx9Hov80o4",
        "colab_type": "code",
        "outputId": "15b41d04-55a5-4ecd-8285-38edfb7716af",
        "colab": {
          "base_uri": "https://localhost:8080/",
          "height": 224
        }
      },
      "source": [
        "print(classification_report(yTest.astype('int'),yPredict))"
      ],
      "execution_count": 0,
      "outputs": [
        {
          "output_type": "stream",
          "text": [
            "              precision    recall  f1-score   support\n",
            "\n",
            "           0       0.98      1.00      0.99      5871\n",
            "           1       0.00      0.00      0.00       130\n",
            "\n",
            "    accuracy                           0.98      6001\n",
            "   macro avg       0.49      0.50      0.49      6001\n",
            "weighted avg       0.96      0.98      0.97      6001\n",
            "\n"
          ],
          "name": "stdout"
        },
        {
          "output_type": "stream",
          "text": [
            "/usr/local/lib/python3.6/dist-packages/sklearn/metrics/_classification.py:1272: UndefinedMetricWarning: Precision and F-score are ill-defined and being set to 0.0 in labels with no predicted samples. Use `zero_division` parameter to control this behavior.\n",
            "  _warn_prf(average, modifier, msg_start, len(result))\n"
          ],
          "name": "stderr"
        }
      ]
    },
    {
      "cell_type": "code",
      "metadata": {
        "id": "TNbVClMJ89SP",
        "colab_type": "code",
        "outputId": "03f2f4ad-2edf-4fec-9d3a-4715f39a9b6f",
        "colab": {
          "base_uri": "https://localhost:8080/",
          "height": 34
        }
      },
      "source": [
        "from sklearn import metrics\n",
        "print(\"Akurasi \",metrics.accuracy_score(yTest.astype('int'),yPredict))"
      ],
      "execution_count": 0,
      "outputs": [
        {
          "output_type": "stream",
          "text": [
            "Akurasi  0.9783369438426929\n"
          ],
          "name": "stdout"
        }
      ]
    },
    {
      "cell_type": "markdown",
      "metadata": {
        "id": "UqEjLmR34C6l",
        "colab_type": "text"
      },
      "source": [
        "## Eksperimen"
      ]
    },
    {
      "cell_type": "markdown",
      "metadata": {
        "id": "YGju01ZO8c_A",
        "colab_type": "text"
      },
      "source": [
        "### Pelabelan"
      ]
    },
    {
      "cell_type": "code",
      "metadata": {
        "id": "yf6p7hh46ObR",
        "colab_type": "code",
        "colab": {}
      },
      "source": [
        "label = df['condition'].copy()"
      ],
      "execution_count": 0,
      "outputs": []
    },
    {
      "cell_type": "markdown",
      "metadata": {
        "colab_type": "text",
        "id": "zNX-JnCB4aUj"
      },
      "source": [
        "### Split menjadi train dan test"
      ]
    },
    {
      "cell_type": "code",
      "metadata": {
        "colab_type": "code",
        "id": "QjUlAosl4aUm",
        "colab": {}
      },
      "source": [
        "xTrain, xTest, yTrain, yTest = train_test_split(df2, label, test_size = 0.3, random_state = 0)"
      ],
      "execution_count": 0,
      "outputs": []
    },
    {
      "cell_type": "markdown",
      "metadata": {
        "colab_type": "text",
        "id": "D5HST4fB4aUz"
      },
      "source": [
        "### Training"
      ]
    },
    {
      "cell_type": "code",
      "metadata": {
        "colab_type": "code",
        "id": "d0jPnrzX4aU2",
        "colab": {}
      },
      "source": [
        "# from sklearn.naive_bayes import MultinomialNB\n",
        "# nb = MultinomialNB()\n",
        "# nb.fit(xTrain.astype('int'),yTrain.astype('int'))\n",
        "# yPredict = nb.predict(xTest.astype('int'))\n",
        "\n",
        "from sklearn.neighbors import KNeighborsClassifier\n",
        "neigh = KNeighborsClassifier(n_neighbors=3)\n",
        "neigh.fit(xTrain.astype('int'),yTrain.astype('int'))\n",
        "yPredict = neigh.predict(xTest.astype('int'))"
      ],
      "execution_count": 0,
      "outputs": []
    },
    {
      "cell_type": "markdown",
      "metadata": {
        "colab_type": "text",
        "id": "y1RO1MlK4aVD"
      },
      "source": [
        "Evaluasi"
      ]
    },
    {
      "cell_type": "code",
      "metadata": {
        "colab_type": "code",
        "outputId": "0e3aebf6-0d3b-4f94-ab56-f6c1791a70d8",
        "id": "wj6ASzak4aVF",
        "colab": {
          "base_uri": "https://localhost:8080/",
          "height": 142
        }
      },
      "source": [
        "y_Actual = pd.Series(yTest.astype('int'), name='Actual')\n",
        "y_Predict = pd.Series(yPredict, name='Predicted')\n",
        "df_confusion = pd.crosstab(y_Actual, y_Predict)\n",
        "df_confusion"
      ],
      "execution_count": 0,
      "outputs": [
        {
          "output_type": "execute_result",
          "data": {
            "text/html": [
              "<div>\n",
              "<style scoped>\n",
              "    .dataframe tbody tr th:only-of-type {\n",
              "        vertical-align: middle;\n",
              "    }\n",
              "\n",
              "    .dataframe tbody tr th {\n",
              "        vertical-align: top;\n",
              "    }\n",
              "\n",
              "    .dataframe thead th {\n",
              "        text-align: right;\n",
              "    }\n",
              "</style>\n",
              "<table border=\"1\" class=\"dataframe\">\n",
              "  <thead>\n",
              "    <tr style=\"text-align: right;\">\n",
              "      <th>Predicted</th>\n",
              "      <th>0</th>\n",
              "    </tr>\n",
              "    <tr>\n",
              "      <th>Actual</th>\n",
              "      <th></th>\n",
              "    </tr>\n",
              "  </thead>\n",
              "  <tbody>\n",
              "    <tr>\n",
              "      <th>0</th>\n",
              "      <td>1756</td>\n",
              "    </tr>\n",
              "    <tr>\n",
              "      <th>1</th>\n",
              "      <td>3</td>\n",
              "    </tr>\n",
              "  </tbody>\n",
              "</table>\n",
              "</div>"
            ],
            "text/plain": [
              "Predicted     0\n",
              "Actual         \n",
              "0          1756\n",
              "1             3"
            ]
          },
          "metadata": {
            "tags": []
          },
          "execution_count": 77
        }
      ]
    },
    {
      "cell_type": "markdown",
      "metadata": {
        "colab_type": "text",
        "id": "SW0se9Bz4aVW"
      },
      "source": [
        "Akurasi"
      ]
    },
    {
      "cell_type": "code",
      "metadata": {
        "colab_type": "code",
        "outputId": "79fbaa02-ab2c-4407-db6f-b01485a01396",
        "id": "FFrEJpbD4aVf",
        "colab": {
          "base_uri": "https://localhost:8080/",
          "height": 224
        }
      },
      "source": [
        "print(classification_report(yTest.astype('int'),yPredict))"
      ],
      "execution_count": 0,
      "outputs": [
        {
          "output_type": "stream",
          "text": [
            "              precision    recall  f1-score   support\n",
            "\n",
            "           0       1.00      1.00      1.00      5990\n",
            "           1       0.00      0.00      0.00        11\n",
            "\n",
            "    accuracy                           1.00      6001\n",
            "   macro avg       0.50      0.50      0.50      6001\n",
            "weighted avg       1.00      1.00      1.00      6001\n",
            "\n"
          ],
          "name": "stdout"
        },
        {
          "output_type": "stream",
          "text": [
            "/usr/local/lib/python3.6/dist-packages/sklearn/metrics/_classification.py:1272: UndefinedMetricWarning: Precision and F-score are ill-defined and being set to 0.0 in labels with no predicted samples. Use `zero_division` parameter to control this behavior.\n",
            "  _warn_prf(average, modifier, msg_start, len(result))\n"
          ],
          "name": "stderr"
        }
      ]
    },
    {
      "cell_type": "code",
      "metadata": {
        "colab_type": "code",
        "outputId": "8756230a-b7d6-4be0-da8d-cc32f82b3b63",
        "id": "4Nl5WpRA4aVr",
        "colab": {
          "base_uri": "https://localhost:8080/",
          "height": 34
        }
      },
      "source": [
        "print(\"Akurasi \",metrics.accuracy_score(yTest.astype('int'),yPredict))"
      ],
      "execution_count": 0,
      "outputs": [
        {
          "output_type": "stream",
          "text": [
            "Akurasi  0.9981669721713048\n"
          ],
          "name": "stdout"
        }
      ]
    },
    {
      "cell_type": "code",
      "metadata": {
        "id": "dRAmIWUYtN40",
        "colab_type": "code",
        "colab": {}
      },
      "source": [
        ""
      ],
      "execution_count": 0,
      "outputs": []
    }
  ]
}