{
  "nbformat": 4,
  "nbformat_minor": 0,
  "metadata": {
    "colab": {
      "name": "Machine Learning - Clustering - Alvianda Ricky",
      "provenance": [],
      "collapsed_sections": [],
      "authorship_tag": "ABX9TyOXsGSW62aqleZv/R5E8CWG",
      "include_colab_link": true
    },
    "kernelspec": {
      "name": "python3",
      "display_name": "Python 3"
    }
  },
  "cells": [
    {
      "cell_type": "markdown",
      "metadata": {
        "id": "view-in-github",
        "colab_type": "text"
      },
      "source": [
        "<a href=\"https://colab.research.google.com/github/rickylukman/Machine-Learning/blob/master/Machine_Learning_Clustering_Alvianda_Ricky.ipynb\" target=\"_parent\"><img src=\"https://colab.research.google.com/assets/colab-badge.svg\" alt=\"Open In Colab\"/></a>"
      ]
    },
    {
      "cell_type": "code",
      "metadata": {
        "id": "uZP9XrjqwtuA",
        "colab_type": "code",
        "outputId": "60aefb27-ad37-4bdb-c2e3-e21a0e01e711",
        "colab": {
          "base_uri": "https://localhost:8080/",
          "height": 122
        }
      },
      "source": [
        "from google.colab import drive\n",
        "drive.mount('/content/gdrive')"
      ],
      "execution_count": 1,
      "outputs": [
        {
          "output_type": "stream",
          "text": [
            "Go to this URL in a browser: https://accounts.google.com/o/oauth2/auth?client_id=947318989803-6bn6qk8qdgf4n4g3pfee6491hc0brc4i.apps.googleusercontent.com&redirect_uri=urn%3aietf%3awg%3aoauth%3a2.0%3aoob&response_type=code&scope=email%20https%3a%2f%2fwww.googleapis.com%2fauth%2fdocs.test%20https%3a%2f%2fwww.googleapis.com%2fauth%2fdrive%20https%3a%2f%2fwww.googleapis.com%2fauth%2fdrive.photos.readonly%20https%3a%2f%2fwww.googleapis.com%2fauth%2fpeopleapi.readonly\n",
            "\n",
            "Enter your authorization code:\n",
            "··········\n",
            "Mounted at /content/gdrive\n"
          ],
          "name": "stdout"
        }
      ]
    },
    {
      "cell_type": "code",
      "metadata": {
        "id": "rTOGAKMD1zq1",
        "colab_type": "code",
        "outputId": "952367af-8601-45eb-cf04-9f9ed323f470",
        "colab": {
          "base_uri": "https://localhost:8080/",
          "height": 34
        }
      },
      "source": [
        "import pandas as pd\n",
        "df=pd.read_csv('gdrive/My Drive/used_cars_olah.csv')\n",
        "df.shape"
      ],
      "execution_count": 2,
      "outputs": [
        {
          "output_type": "execute_result",
          "data": {
            "text/plain": [
              "(20001, 12)"
            ]
          },
          "metadata": {
            "tags": []
          },
          "execution_count": 2
        }
      ]
    },
    {
      "cell_type": "code",
      "metadata": {
        "id": "CTXHn2d92Nzn",
        "colab_type": "code",
        "outputId": "c83794f9-e3ca-44ff-f425-8d19b389969d",
        "colab": {
          "base_uri": "https://localhost:8080/",
          "height": 204
        }
      },
      "source": [
        "df.head()"
      ],
      "execution_count": 0,
      "outputs": [
        {
          "output_type": "execute_result",
          "data": {
            "text/html": [
              "<div>\n",
              "<style scoped>\n",
              "    .dataframe tbody tr th:only-of-type {\n",
              "        vertical-align: middle;\n",
              "    }\n",
              "\n",
              "    .dataframe tbody tr th {\n",
              "        vertical-align: top;\n",
              "    }\n",
              "\n",
              "    .dataframe thead th {\n",
              "        text-align: right;\n",
              "    }\n",
              "</style>\n",
              "<table border=\"1\" class=\"dataframe\">\n",
              "  <thead>\n",
              "    <tr style=\"text-align: right;\">\n",
              "      <th></th>\n",
              "      <th>Unnamed: 0</th>\n",
              "      <th>price</th>\n",
              "      <th>year</th>\n",
              "      <th>manufacturer</th>\n",
              "      <th>model</th>\n",
              "      <th>condition</th>\n",
              "      <th>fuel</th>\n",
              "      <th>title_status</th>\n",
              "      <th>transmission</th>\n",
              "      <th>drive</th>\n",
              "      <th>paint_color</th>\n",
              "      <th>state</th>\n",
              "    </tr>\n",
              "  </thead>\n",
              "  <tbody>\n",
              "    <tr>\n",
              "      <th>0</th>\n",
              "      <td>0</td>\n",
              "      <td>0.000015</td>\n",
              "      <td>0.922330</td>\n",
              "      <td>0.974359</td>\n",
              "      <td>0.530292</td>\n",
              "      <td>0.0</td>\n",
              "      <td>0.5</td>\n",
              "      <td>0.0</td>\n",
              "      <td>0.5</td>\n",
              "      <td>0.0</td>\n",
              "      <td>0.000000</td>\n",
              "      <td>0.0</td>\n",
              "    </tr>\n",
              "    <tr>\n",
              "      <th>1</th>\n",
              "      <td>1</td>\n",
              "      <td>0.000000</td>\n",
              "      <td>0.961165</td>\n",
              "      <td>0.307692</td>\n",
              "      <td>0.425778</td>\n",
              "      <td>0.0</td>\n",
              "      <td>0.5</td>\n",
              "      <td>0.0</td>\n",
              "      <td>0.0</td>\n",
              "      <td>0.0</td>\n",
              "      <td>0.909091</td>\n",
              "      <td>0.0</td>\n",
              "    </tr>\n",
              "    <tr>\n",
              "      <th>2</th>\n",
              "      <td>2</td>\n",
              "      <td>0.000040</td>\n",
              "      <td>0.951456</td>\n",
              "      <td>0.333333</td>\n",
              "      <td>0.792904</td>\n",
              "      <td>0.0</td>\n",
              "      <td>0.5</td>\n",
              "      <td>0.0</td>\n",
              "      <td>0.0</td>\n",
              "      <td>0.0</td>\n",
              "      <td>0.909091</td>\n",
              "      <td>0.0</td>\n",
              "    </tr>\n",
              "    <tr>\n",
              "      <th>3</th>\n",
              "      <td>3</td>\n",
              "      <td>0.000000</td>\n",
              "      <td>0.961165</td>\n",
              "      <td>0.307692</td>\n",
              "      <td>0.425778</td>\n",
              "      <td>0.0</td>\n",
              "      <td>0.5</td>\n",
              "      <td>0.0</td>\n",
              "      <td>0.0</td>\n",
              "      <td>0.0</td>\n",
              "      <td>0.909091</td>\n",
              "      <td>0.0</td>\n",
              "    </tr>\n",
              "    <tr>\n",
              "      <th>4</th>\n",
              "      <td>4</td>\n",
              "      <td>0.000043</td>\n",
              "      <td>0.980583</td>\n",
              "      <td>0.307692</td>\n",
              "      <td>0.444847</td>\n",
              "      <td>0.0</td>\n",
              "      <td>0.0</td>\n",
              "      <td>0.0</td>\n",
              "      <td>0.0</td>\n",
              "      <td>0.0</td>\n",
              "      <td>0.909091</td>\n",
              "      <td>0.0</td>\n",
              "    </tr>\n",
              "  </tbody>\n",
              "</table>\n",
              "</div>"
            ],
            "text/plain": [
              "   Unnamed: 0     price      year  ...  drive  paint_color  state\n",
              "0           0  0.000015  0.922330  ...    0.0     0.000000    0.0\n",
              "1           1  0.000000  0.961165  ...    0.0     0.909091    0.0\n",
              "2           2  0.000040  0.951456  ...    0.0     0.909091    0.0\n",
              "3           3  0.000000  0.961165  ...    0.0     0.909091    0.0\n",
              "4           4  0.000043  0.980583  ...    0.0     0.909091    0.0\n",
              "\n",
              "[5 rows x 12 columns]"
            ]
          },
          "metadata": {
            "tags": []
          },
          "execution_count": 3
        }
      ]
    },
    {
      "cell_type": "markdown",
      "metadata": {
        "id": "KoUUdQgpieE7",
        "colab_type": "text"
      },
      "source": [
        "Ambil 2 kolom untuk clustering"
      ]
    },
    {
      "cell_type": "code",
      "metadata": {
        "id": "Vgdce8-gNoWe",
        "colab_type": "code",
        "colab": {}
      },
      "source": [
        "from sklearn.cluster import KMeans\n",
        "from scipy.spatial.distance import cdist"
      ],
      "execution_count": 0,
      "outputs": []
    },
    {
      "cell_type": "code",
      "metadata": {
        "id": "IAjQplmV-thZ",
        "colab_type": "code",
        "outputId": "a4fb225f-2e0a-4538-d878-a9535eadfe6e",
        "colab": {
          "base_uri": "https://localhost:8080/",
          "height": 255
        }
      },
      "source": [
        "#manufacturer ,paint color\n",
        "print(df.iloc[:, [3, 10]])\n",
        "cluster = df.iloc[:, [3, 10]].values"
      ],
      "execution_count": 4,
      "outputs": [
        {
          "output_type": "stream",
          "text": [
            "       manufacturer  paint_color\n",
            "0          0.974359     0.000000\n",
            "1          0.307692     0.909091\n",
            "2          0.333333     0.909091\n",
            "3          0.307692     0.909091\n",
            "4          0.307692     0.909091\n",
            "...             ...          ...\n",
            "19996      0.820513     0.454545\n",
            "19997      0.743590     0.909091\n",
            "19998      0.487179     0.909091\n",
            "19999      0.948718     0.909091\n",
            "20000      0.948718     0.000000\n",
            "\n",
            "[20001 rows x 2 columns]\n"
          ],
          "name": "stdout"
        }
      ]
    },
    {
      "cell_type": "markdown",
      "metadata": {
        "id": "epZUAiSQii5B",
        "colab_type": "text"
      },
      "source": [
        "Cari nilai K menggunakan elbow method"
      ]
    },
    {
      "cell_type": "code",
      "metadata": {
        "id": "HsQQR4q1Gthk",
        "colab_type": "code",
        "colab": {}
      },
      "source": [
        "from matplotlib import pyplot as plt\n",
        "import numpy as np\n",
        "\n",
        "distortions = []\n",
        "K = range(1,10)\n",
        "for i in K:\n",
        "  kmeanModel = KMeans(n_clusters=i).fit(cluster)\n",
        "  kmeanModel.fit(cluster)\n",
        "  distortions.append(sum(np.min(cdist(cluster, kmeanModel.cluster_centers_, 'euclidean'), axis=1)) /cluster.shape[0] ) "
      ],
      "execution_count": 0,
      "outputs": []
    },
    {
      "cell_type": "code",
      "metadata": {
        "id": "M3GCpllEIIiK",
        "colab_type": "code",
        "outputId": "0ccdeff0-8cd2-4d69-e0e9-d046c5df714f",
        "colab": {
          "base_uri": "https://localhost:8080/",
          "height": 329
        }
      },
      "source": [
        "#plot elbow method\n",
        "plt.plot(K, distortions, 'bx-')\n",
        "plt.xlabel('values of k')\n",
        "plt.ylabel('distortion')\n",
        "plt.title('The Elbow Method using Distortion')\n",
        "fig = plt.figure(figsize=(5, 5))\n",
        "plt.show\n"
      ],
      "execution_count": 7,
      "outputs": [
        {
          "output_type": "execute_result",
          "data": {
            "text/plain": [
              "<function matplotlib.pyplot.show>"
            ]
          },
          "metadata": {
            "tags": []
          },
          "execution_count": 7
        },
        {
          "output_type": "display_data",
          "data": {
            "image/png": "[encoded data removed]",
            "text/plain": [
              "<Figure size 432x288 with 1 Axes>"
            ]
          },
          "metadata": {
            "tags": [],
            "needs_background": "light"
          }
        },
        {
          "output_type": "display_data",
          "data": {
            "text/plain": [
              "<Figure size 360x360 with 0 Axes>"
            ]
          },
          "metadata": {
            "tags": []
          }
        }
      ]
    },
    {
      "cell_type": "code",
      "metadata": {
        "id": "MCYmv4F6SnGC",
        "colab_type": "code",
        "outputId": "1467c912-1365-403c-95fe-9eca6e897ff0",
        "colab": {
          "base_uri": "https://localhost:8080/",
          "height": 34
        }
      },
      "source": [
        "cluster.shape"
      ],
      "execution_count": 0,
      "outputs": [
        {
          "output_type": "execute_result",
          "data": {
            "text/plain": [
              "(20001, 2)"
            ]
          },
          "metadata": {
            "tags": []
          },
          "execution_count": 25
        }
      ]
    },
    {
      "cell_type": "code",
      "metadata": {
        "id": "vjOcOaOGBIPj",
        "colab_type": "code",
        "colab": {}
      },
      "source": [
        "# Inisiasi nilai K\n",
        "K = 3"
      ],
      "execution_count": 0,
      "outputs": []
    },
    {
      "cell_type": "markdown",
      "metadata": {
        "id": "CUQGTdfqip5j",
        "colab_type": "text"
      },
      "source": [
        "Plot sebaran data"
      ]
    },
    {
      "cell_type": "code",
      "metadata": {
        "id": "utsdWyNDdFu_",
        "colab_type": "code",
        "outputId": "b8a9474d-6ea4-4aea-8a22-7ca5ef572d86",
        "colab": {
          "base_uri": "https://localhost:8080/",
          "height": 265
        }
      },
      "source": [
        "import matplotlib.pyplot as plt\n",
        "plt.scatter(cluster[ : , 0], cluster[ :, 1], s = 50, c = 'b')\n",
        "plt.show()"
      ],
      "execution_count": 62,
      "outputs": [
        {
          "output_type": "display_data",
          "data": {
            "image/png": "[encoded data removed]",
            "text/plain": [
              "<Figure size 432x288 with 1 Axes>"
            ]
          },
          "metadata": {
            "tags": [],
            "needs_background": "light"
          }
        }
      ]
    },
    {
      "cell_type": "markdown",
      "metadata": {
        "id": "-0ovcl1FAS8E",
        "colab_type": "text"
      },
      "source": [
        "Buat centroid random"
      ]
    },
    {
      "cell_type": "code",
      "metadata": {
        "id": "93Cgu-vMcEfZ",
        "colab_type": "code",
        "colab": {}
      },
      "source": [
        "# Inisiasi kolom yang dipakai \n",
        "dx = cluster[ : , 0].tolist()\n",
        "dy = cluster[ : , 1].tolist()"
      ],
      "execution_count": 0,
      "outputs": []
    },
    {
      "cell_type": "code",
      "metadata": {
        "id": "v9ztPA77BkYp",
        "colab_type": "code",
        "colab": {}
      },
      "source": [
        "# Menggabungkan data kolom manufacture dan paint_color\n",
        "titik = list(zip(dx, dy))"
      ],
      "execution_count": 0,
      "outputs": []
    },
    {
      "cell_type": "code",
      "metadata": {
        "id": "rj-oMyo2CIS-",
        "colab_type": "code",
        "colab": {}
      },
      "source": [
        "import random"
      ],
      "execution_count": 0,
      "outputs": []
    },
    {
      "cell_type": "code",
      "metadata": {
        "id": "eH4kLUd_DXn_",
        "colab_type": "code",
        "colab": {}
      },
      "source": [
        "def cekcentroid(centroid1,centroid2): \n",
        "  cobax = random.uniform(0,1)\n",
        "  cobay = random.uniform(0,1)\n",
        "  if (cobax!=centroid1[0]) and (cobay!=centroid1[1]) and (centroid2==0):\n",
        "    centroid2 = [cobax,cobay]\n",
        "    return centroid2\n",
        "  elif(cobax!=centroid1[0]) and (cobay!=centroid1[1]) and (cobax!=centroid2[0]) and (cobay!=centroid2[1]):\n",
        "    centroid3 = [cobax,cobay]\n",
        "    return centroid3"
      ],
      "execution_count": 0,
      "outputs": []
    },
    {
      "cell_type": "code",
      "metadata": {
        "id": "Wlbi_ZIrrKYU",
        "colab_type": "code",
        "colab": {
          "base_uri": "https://localhost:8080/",
          "height": 68
        },
        "outputId": "15e0eded-5b9a-4435-dbc9-08aa81b23296"
      },
      "source": [
        "cobax = random.uniform(0,1)\n",
        "cobay = random.uniform(0,1)\n",
        "centroid1 = [cobax,cobay]\n",
        "centroid2 = cekcentroid(centroid1,0)\n",
        "centroid3 = cekcentroid(centroid1,centroid2)\n",
        "print(centroid1)\n",
        "print(centroid2)\n",
        "print(centroid3)"
      ],
      "execution_count": 76,
      "outputs": [
        {
          "output_type": "stream",
          "text": [
            "[0.5170352945784639, 0.06892538342783572]\n",
            "[0.7816017386681748, 0.9711562659659394]\n",
            "[0.24039125773989578, 0.12633636078335897]\n"
          ],
          "name": "stdout"
        }
      ]
    },
    {
      "cell_type": "code",
      "metadata": {
        "id": "ZVCeDp1wHPw2",
        "colab_type": "code",
        "outputId": "008cb962-41c8-45da-d014-1e7c26794fd0",
        "colab": {
          "base_uri": "https://localhost:8080/",
          "height": 296
        }
      },
      "source": [
        "plt.scatter(dx, dy, s = 10, c = 'b')\n",
        "plt.scatter(centroid1[0], centroid1[1], c='r')\n",
        "plt.scatter(centroid2[0], centroid2[1], c='y')\n",
        "plt.scatter(centroid3[0], centroid3[1], c='black')\n",
        "plt.xlabel('manufacturer')\n",
        "plt.ylabel('paint_color')"
      ],
      "execution_count": 77,
      "outputs": [
        {
          "output_type": "execute_result",
          "data": {
            "text/plain": [
              "Text(0, 0.5, 'paint_color')"
            ]
          },
          "metadata": {
            "tags": []
          },
          "execution_count": 77
        },
        {
          "output_type": "display_data",
          "data": {
            "image/png": "[encoded data removed]",
            "text/plain": [
              "<Figure size 432x288 with 1 Axes>"
            ]
          },
          "metadata": {
            "tags": [],
            "needs_background": "light"
          }
        }
      ]
    },
    {
      "cell_type": "markdown",
      "metadata": {
        "id": "q_oMgZBxI-By",
        "colab_type": "text"
      },
      "source": [
        "Perulangan untuk centroid dengan euclidian"
      ]
    },
    {
      "cell_type": "code",
      "metadata": {
        "id": "JXbB6pEOTeVH",
        "colab_type": "code",
        "colab": {}
      },
      "source": [
        "import math"
      ],
      "execution_count": 0,
      "outputs": []
    },
    {
      "cell_type": "code",
      "metadata": {
        "id": "613pWacaIPOs",
        "colab_type": "code",
        "colab": {
          "base_uri": "https://localhost:8080/",
          "height": 296
        },
        "outputId": "5d6f3c74-5cd9-4271-d02d-7e884536f211"
      },
      "source": [
        "cek = False\n",
        "clusterfix = []\n",
        "while cek != True:\n",
        "  # Proses menklusterkan\n",
        "  #clusAr = kolomA RED, clusAy = kolomA YELLOW, clusAb = kolomA BLACK\n",
        "  clusAr, clusAy, clusAb = [], [], []\n",
        "  clusBr, clusBy, clusBb = [], [], []\n",
        "  for i in titik:\n",
        "    # Menghitung jarak 2 titik dengan Euclidian Distance\n",
        "    #jarak antara titik i dengan centroid pertama (red))\n",
        "    hitung1 = (i[0] - centroid1[0])**2 + (i[1] - centroid1[1])**2\n",
        "    #jarak antara titik i dengan centroid kedua (yellow)\n",
        "    hitung2 = (i[0] - centroid2[0])**2 + (i[1] - centroid2[1])**2\n",
        "    #jarak antara titik i dengan centroid ketiga (black)\n",
        "    hitung3 = (i[0] - centroid3[0])**2 + (i[1] - centroid3[1])**2\n",
        "\n",
        "    if min(hitung1, hitung2, hitung3) == hitung1:\n",
        "      # red\n",
        "      clusAr.append(i[0])\n",
        "      clusBr.append(i[1])\n",
        "      clusterfix.append(1)\n",
        "    elif min(hitung1, hitung2, hitung3) == hitung2:\n",
        "      # yellow\n",
        "      clusAy.append(i[0])\n",
        "      clusBy.append(i[1])\n",
        "      clusterfix.append(2)\n",
        "    elif min(hitung1, hitung2, hitung3) == hitung3:\n",
        "      # black\n",
        "      clusAb.append(i[0])\n",
        "      clusBb.append(i[1])\n",
        "      clusterfix.append(3)\n",
        "  #endfor\n",
        "\n",
        "  # a,b,c untuk menyimpan centroid sebelumnya\n",
        "  a = centroid1\n",
        "  b = centroid2\n",
        "  c = centroid3\n",
        "\n",
        "  # Update centroid\n",
        "  centroid1 = [sum(clusAr)/len(clusAr), sum(clusBr)/len(clusBr)]\n",
        "  centroid2 = [sum(clusAy)/len(clusAy), sum(clusBy)/len(clusBy)]\n",
        "  centroid3 = [sum(clusAb)/len(clusAb), sum(clusBb)/len(clusBb)]\n",
        "\n",
        "  # Cek apakah centroid tetap atau berubah\n",
        "  if (centroid1 == a) and (centroid2 == b) and (centroid3 == c):\n",
        "      cek = True\n",
        "\n",
        "#endwhile\n",
        "\n",
        "# plt.scatter(dx, dy, s = 10, c = 'b')\n",
        "plt.scatter(clusAr, clusBr, c='r')\n",
        "plt.scatter(clusAy, clusBy, c='y')\n",
        "plt.scatter(clusAb, clusBb, c='black')\n",
        "plt.xlabel('manufacturer')\n",
        "plt.ylabel('paint_color')"
      ],
      "execution_count": 96,
      "outputs": [
        {
          "output_type": "execute_result",
          "data": {
            "text/plain": [
              "Text(0, 0.5, 'paint_color')"
            ]
          },
          "metadata": {
            "tags": []
          },
          "execution_count": 96
        },
        {
          "output_type": "display_data",
          "data": {
            "image/png": "[encoded data removed]",
            "text/plain": [
              "<Figure size 432x288 with 1 Axes>"
            ]
          },
          "metadata": {
            "tags": [],
            "needs_background": "light"
          }
        }
      ]
    },
    {
      "cell_type": "code",
      "metadata": {
        "id": "8GY66GIlyuFh",
        "colab_type": "code",
        "colab": {
          "base_uri": "https://localhost:8080/",
          "height": 34
        },
        "outputId": "4bf0074a-b93e-433c-a737-09d6987cdc86"
      },
      "source": [
        "print(len(clusterfix))"
      ],
      "execution_count": 97,
      "outputs": [
        {
          "output_type": "stream",
          "text": [
            "20001\n"
          ],
          "name": "stdout"
        }
      ]
    },
    {
      "cell_type": "code",
      "metadata": {
        "id": "uUqsUsa2zfo6",
        "colab_type": "code",
        "colab": {}
      },
      "source": [
        ""
      ],
      "execution_count": 0,
      "outputs": []
    }
  ]
}