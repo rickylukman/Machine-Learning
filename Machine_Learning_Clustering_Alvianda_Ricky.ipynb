{
  "nbformat": 4,
  "nbformat_minor": 0,
  "metadata": {
    "colab": {
      "name": "Machine Learning - Clustering - Alvianda Ricky",
      "provenance": [],
      "collapsed_sections": [],
      "authorship_tag": "ABX9TyPfP6qpXzs25JIxEAxE46hz",
      "include_colab_link": true
    },
    "kernelspec": {
      "name": "python3",
      "display_name": "Python 3"
    }
  },
  "cells": [
    {
      "cell_type": "markdown",
      "metadata": {
        "id": "view-in-github",
        "colab_type": "text"
      },
      "source": [
        "<a href=\"https://colab.research.google.com/github/rickylukman/Machine-Learning/blob/master/Machine_Learning_Clustering_Alvianda_Ricky.ipynb\" target=\"_parent\"><img src=\"https://colab.research.google.com/assets/colab-badge.svg\" alt=\"Open In Colab\"/></a>"
      ]
    },
    {
      "cell_type": "markdown",
      "metadata": {
        "id": "dOlwh1L7kHXs",
        "colab_type": "text"
      },
      "source": [
        "# Import File "
      ]
    },
    {
      "cell_type": "code",
      "metadata": {
        "id": "gFSMbTbTxGYm",
        "colab_type": "code",
        "outputId": "0dfea67d-7721-4db4-c1a4-b9a344932dbe",
        "colab": {
          "base_uri": "https://localhost:8080/",
          "height": 34
        }
      },
      "source": [
        "import pandas as pd\n",
        "\n",
        "#read data gdrive disimpan di variable df\n",
        "df=pd.read_csv('used_cars.csv')\n",
        "df.shape"
      ],
      "execution_count": 0,
      "outputs": [
        {
          "output_type": "execute_result",
          "data": {
            "text/plain": [
              "(20001, 26)"
            ]
          },
          "metadata": {
            "tags": []
          },
          "execution_count": 2
        }
      ]
    },
    {
      "cell_type": "code",
      "metadata": {
        "id": "CKorWFNtx0Ep",
        "colab_type": "code",
        "outputId": "e4456131-3d98-47a1-a984-bc608898b1c6",
        "colab": {
          "base_uri": "https://localhost:8080/",
          "height": 530
        }
      },
      "source": [
        "df.head()"
      ],
      "execution_count": 0,
      "outputs": [
        {
          "output_type": "execute_result",
          "data": {
            "text/html": [
              "<div>\n",
              "<style scoped>\n",
              "    .dataframe tbody tr th:only-of-type {\n",
              "        vertical-align: middle;\n",
              "    }\n",
              "\n",
              "    .dataframe tbody tr th {\n",
              "        vertical-align: top;\n",
              "    }\n",
              "\n",
              "    .dataframe thead th {\n",
              "        text-align: right;\n",
              "    }\n",
              "</style>\n",
              "<table border=\"1\" class=\"dataframe\">\n",
              "  <thead>\n",
              "    <tr style=\"text-align: right;\">\n",
              "      <th></th>\n",
              "      <th>Unnamed: 0</th>\n",
              "      <th>id</th>\n",
              "      <th>url</th>\n",
              "      <th>region</th>\n",
              "      <th>region_url</th>\n",
              "      <th>price</th>\n",
              "      <th>year</th>\n",
              "      <th>manufacturer</th>\n",
              "      <th>model</th>\n",
              "      <th>condition</th>\n",
              "      <th>cylinders</th>\n",
              "      <th>fuel</th>\n",
              "      <th>odometer</th>\n",
              "      <th>title_status</th>\n",
              "      <th>transmission</th>\n",
              "      <th>vin</th>\n",
              "      <th>drive</th>\n",
              "      <th>size</th>\n",
              "      <th>type</th>\n",
              "      <th>paint_color</th>\n",
              "      <th>image_url</th>\n",
              "      <th>description</th>\n",
              "      <th>county</th>\n",
              "      <th>state</th>\n",
              "      <th>lat</th>\n",
              "      <th>long</th>\n",
              "    </tr>\n",
              "  </thead>\n",
              "  <tbody>\n",
              "    <tr>\n",
              "      <th>0</th>\n",
              "      <td>0</td>\n",
              "      <td>7034441763</td>\n",
              "      <td>https://saltlakecity.craigslist.org/cto/d/salt...</td>\n",
              "      <td>salt lake city</td>\n",
              "      <td>https://saltlakecity.craigslist.org</td>\n",
              "      <td>17899</td>\n",
              "      <td>2012.0</td>\n",
              "      <td>volkswagen</td>\n",
              "      <td>golf r</td>\n",
              "      <td>excellent</td>\n",
              "      <td>4 cylinders</td>\n",
              "      <td>gas</td>\n",
              "      <td>63500.0</td>\n",
              "      <td>clean</td>\n",
              "      <td>manual</td>\n",
              "      <td>WVWPF7AJ6CW316713</td>\n",
              "      <td>4wd</td>\n",
              "      <td>compact</td>\n",
              "      <td>hatchback</td>\n",
              "      <td>black</td>\n",
              "      <td>https://images.craigslist.org/00G0G_fTLDWM5Xyv...</td>\n",
              "      <td>PRICE REDUCED!   -Garage kept -Low Miles (63K)...</td>\n",
              "      <td>NaN</td>\n",
              "      <td>ut</td>\n",
              "      <td>40.7372</td>\n",
              "      <td>-111.858</td>\n",
              "    </tr>\n",
              "    <tr>\n",
              "      <th>1</th>\n",
              "      <td>1</td>\n",
              "      <td>7034440610</td>\n",
              "      <td>https://saltlakecity.craigslist.org/ctd/d/sand...</td>\n",
              "      <td>salt lake city</td>\n",
              "      <td>https://saltlakecity.craigslist.org</td>\n",
              "      <td>0</td>\n",
              "      <td>2016.0</td>\n",
              "      <td>ford</td>\n",
              "      <td>f-150</td>\n",
              "      <td>excellent</td>\n",
              "      <td>NaN</td>\n",
              "      <td>gas</td>\n",
              "      <td>10.0</td>\n",
              "      <td>clean</td>\n",
              "      <td>automatic</td>\n",
              "      <td>1FTMF1EP3GKF13544</td>\n",
              "      <td>4wd</td>\n",
              "      <td>NaN</td>\n",
              "      <td>NaN</td>\n",
              "      <td>NaN</td>\n",
              "      <td>https://images.craigslist.org/00v0v_7Cu0buIofU...</td>\n",
              "      <td>Drive it home today. Call (Or Text) us now !!C...</td>\n",
              "      <td>NaN</td>\n",
              "      <td>ut</td>\n",
              "      <td>40.5881</td>\n",
              "      <td>-111.884</td>\n",
              "    </tr>\n",
              "    <tr>\n",
              "      <th>2</th>\n",
              "      <td>2</td>\n",
              "      <td>7034440588</td>\n",
              "      <td>https://saltlakecity.craigslist.org/ctd/d/sand...</td>\n",
              "      <td>salt lake city</td>\n",
              "      <td>https://saltlakecity.craigslist.org</td>\n",
              "      <td>46463</td>\n",
              "      <td>2015.0</td>\n",
              "      <td>gmc</td>\n",
              "      <td>sierra 1500</td>\n",
              "      <td>excellent</td>\n",
              "      <td>NaN</td>\n",
              "      <td>gas</td>\n",
              "      <td>7554.0</td>\n",
              "      <td>clean</td>\n",
              "      <td>automatic</td>\n",
              "      <td>3GTU2WEC6FG228025</td>\n",
              "      <td>4wd</td>\n",
              "      <td>NaN</td>\n",
              "      <td>NaN</td>\n",
              "      <td>white</td>\n",
              "      <td>https://images.craigslist.org/01515_lPvJ9bfbdY...</td>\n",
              "      <td>Drive it home today. Call (Or Text) us now !!C...</td>\n",
              "      <td>NaN</td>\n",
              "      <td>ut</td>\n",
              "      <td>40.5881</td>\n",
              "      <td>-111.884</td>\n",
              "    </tr>\n",
              "    <tr>\n",
              "      <th>3</th>\n",
              "      <td>3</td>\n",
              "      <td>7034440546</td>\n",
              "      <td>https://saltlakecity.craigslist.org/ctd/d/sand...</td>\n",
              "      <td>salt lake city</td>\n",
              "      <td>https://saltlakecity.craigslist.org</td>\n",
              "      <td>0</td>\n",
              "      <td>2016.0</td>\n",
              "      <td>ford</td>\n",
              "      <td>f-150</td>\n",
              "      <td>excellent</td>\n",
              "      <td>NaN</td>\n",
              "      <td>gas</td>\n",
              "      <td>10.0</td>\n",
              "      <td>clean</td>\n",
              "      <td>automatic</td>\n",
              "      <td>1FTEX1EF6GKD25447</td>\n",
              "      <td>4wd</td>\n",
              "      <td>NaN</td>\n",
              "      <td>NaN</td>\n",
              "      <td>NaN</td>\n",
              "      <td>https://images.craigslist.org/00T0T_6Rjfp3NS4O...</td>\n",
              "      <td>Drive it home today. Call (Or Text) us now !!C...</td>\n",
              "      <td>NaN</td>\n",
              "      <td>ut</td>\n",
              "      <td>40.5881</td>\n",
              "      <td>-111.884</td>\n",
              "    </tr>\n",
              "    <tr>\n",
              "      <th>4</th>\n",
              "      <td>4</td>\n",
              "      <td>7034406932</td>\n",
              "      <td>https://saltlakecity.craigslist.org/ctd/d/evan...</td>\n",
              "      <td>salt lake city</td>\n",
              "      <td>https://saltlakecity.craigslist.org</td>\n",
              "      <td>49999</td>\n",
              "      <td>2018.0</td>\n",
              "      <td>ford</td>\n",
              "      <td>f-450</td>\n",
              "      <td>NaN</td>\n",
              "      <td>NaN</td>\n",
              "      <td>diesel</td>\n",
              "      <td>70150.0</td>\n",
              "      <td>clean</td>\n",
              "      <td>automatic</td>\n",
              "      <td>1FT8W4DT8GEA90427</td>\n",
              "      <td>4wd</td>\n",
              "      <td>NaN</td>\n",
              "      <td>pickup</td>\n",
              "      <td>white</td>\n",
              "      <td>https://images.craigslist.org/00W0W_8yIUwRBXXd...</td>\n",
              "      <td>2018 Ford F-350 F350 F 350 SD Lariat Crew Cab ...</td>\n",
              "      <td>NaN</td>\n",
              "      <td>ut</td>\n",
              "      <td>40.3744</td>\n",
              "      <td>-104.694</td>\n",
              "    </tr>\n",
              "  </tbody>\n",
              "</table>\n",
              "</div>"
            ],
            "text/plain": [
              "   Unnamed: 0          id  ...      lat     long\n",
              "0           0  7034441763  ...  40.7372 -111.858\n",
              "1           1  7034440610  ...  40.5881 -111.884\n",
              "2           2  7034440588  ...  40.5881 -111.884\n",
              "3           3  7034440546  ...  40.5881 -111.884\n",
              "4           4  7034406932  ...  40.3744 -104.694\n",
              "\n",
              "[5 rows x 26 columns]"
            ]
          },
          "metadata": {
            "tags": []
          },
          "execution_count": 3
        }
      ]
    },
    {
      "cell_type": "markdown",
      "metadata": {
        "id": "0JC4Hdc2Ik7B",
        "colab_type": "text"
      },
      "source": [
        "# Missing Value"
      ]
    },
    {
      "cell_type": "code",
      "metadata": {
        "id": "jIWBaajpIoOU",
        "colab_type": "code",
        "outputId": "638b5bad-66ba-41d3-e34a-25526a232f48",
        "colab": {
          "base_uri": "https://localhost:8080/",
          "height": 297
        }
      },
      "source": [
        "df.describe()"
      ],
      "execution_count": 0,
      "outputs": [
        {
          "output_type": "execute_result",
          "data": {
            "text/html": [
              "<div>\n",
              "<style scoped>\n",
              "    .dataframe tbody tr th:only-of-type {\n",
              "        vertical-align: middle;\n",
              "    }\n",
              "\n",
              "    .dataframe tbody tr th {\n",
              "        vertical-align: top;\n",
              "    }\n",
              "\n",
              "    .dataframe thead th {\n",
              "        text-align: right;\n",
              "    }\n",
              "</style>\n",
              "<table border=\"1\" class=\"dataframe\">\n",
              "  <thead>\n",
              "    <tr style=\"text-align: right;\">\n",
              "      <th></th>\n",
              "      <th>Unnamed: 0</th>\n",
              "      <th>id</th>\n",
              "      <th>price</th>\n",
              "      <th>year</th>\n",
              "      <th>odometer</th>\n",
              "      <th>county</th>\n",
              "      <th>lat</th>\n",
              "      <th>long</th>\n",
              "    </tr>\n",
              "  </thead>\n",
              "  <tbody>\n",
              "    <tr>\n",
              "      <th>count</th>\n",
              "      <td>20001.000000</td>\n",
              "      <td>2.000100e+04</td>\n",
              "      <td>2.000100e+04</td>\n",
              "      <td>19989.000000</td>\n",
              "      <td>1.761200e+04</td>\n",
              "      <td>0.0</td>\n",
              "      <td>18970.000000</td>\n",
              "      <td>18970.000000</td>\n",
              "    </tr>\n",
              "    <tr>\n",
              "      <th>mean</th>\n",
              "      <td>10000.000000</td>\n",
              "      <td>7.043199e+09</td>\n",
              "      <td>7.664058e+04</td>\n",
              "      <td>2009.830657</td>\n",
              "      <td>9.916435e+04</td>\n",
              "      <td>NaN</td>\n",
              "      <td>40.394737</td>\n",
              "      <td>-86.300395</td>\n",
              "    </tr>\n",
              "    <tr>\n",
              "      <th>std</th>\n",
              "      <td>5773.935703</td>\n",
              "      <td>4.668820e+06</td>\n",
              "      <td>8.335762e+06</td>\n",
              "      <td>7.913613</td>\n",
              "      <td>7.963487e+04</td>\n",
              "      <td>NaN</td>\n",
              "      <td>4.440290</td>\n",
              "      <td>18.219242</td>\n",
              "    </tr>\n",
              "    <tr>\n",
              "      <th>min</th>\n",
              "      <td>0.000000</td>\n",
              "      <td>7.032597e+09</td>\n",
              "      <td>0.000000e+00</td>\n",
              "      <td>1917.000000</td>\n",
              "      <td>0.000000e+00</td>\n",
              "      <td>NaN</td>\n",
              "      <td>-51.812200</td>\n",
              "      <td>-155.901000</td>\n",
              "    </tr>\n",
              "    <tr>\n",
              "      <th>25%</th>\n",
              "      <td>5000.000000</td>\n",
              "      <td>7.040114e+09</td>\n",
              "      <td>3.970000e+03</td>\n",
              "      <td>2007.000000</td>\n",
              "      <td>5.013300e+04</td>\n",
              "      <td>NaN</td>\n",
              "      <td>37.273700</td>\n",
              "      <td>-80.166800</td>\n",
              "    </tr>\n",
              "    <tr>\n",
              "      <th>50%</th>\n",
              "      <td>10000.000000</td>\n",
              "      <td>7.043866e+09</td>\n",
              "      <td>8.795000e+03</td>\n",
              "      <td>2011.000000</td>\n",
              "      <td>9.389900e+04</td>\n",
              "      <td>NaN</td>\n",
              "      <td>38.258600</td>\n",
              "      <td>-77.514200</td>\n",
              "    </tr>\n",
              "    <tr>\n",
              "      <th>75%</th>\n",
              "      <td>15000.000000</td>\n",
              "      <td>7.047065e+09</td>\n",
              "      <td>1.749500e+04</td>\n",
              "      <td>2015.000000</td>\n",
              "      <td>1.339090e+05</td>\n",
              "      <td>NaN</td>\n",
              "      <td>44.439500</td>\n",
              "      <td>-76.238400</td>\n",
              "    </tr>\n",
              "    <tr>\n",
              "      <th>max</th>\n",
              "      <td>20000.000000</td>\n",
              "      <td>7.050101e+09</td>\n",
              "      <td>1.172420e+09</td>\n",
              "      <td>2020.000000</td>\n",
              "      <td>2.500005e+06</td>\n",
              "      <td>NaN</td>\n",
              "      <td>59.746600</td>\n",
              "      <td>9.095700</td>\n",
              "    </tr>\n",
              "  </tbody>\n",
              "</table>\n",
              "</div>"
            ],
            "text/plain": [
              "         Unnamed: 0            id  ...           lat          long\n",
              "count  20001.000000  2.000100e+04  ...  18970.000000  18970.000000\n",
              "mean   10000.000000  7.043199e+09  ...     40.394737    -86.300395\n",
              "std     5773.935703  4.668820e+06  ...      4.440290     18.219242\n",
              "min        0.000000  7.032597e+09  ...    -51.812200   -155.901000\n",
              "25%     5000.000000  7.040114e+09  ...     37.273700    -80.166800\n",
              "50%    10000.000000  7.043866e+09  ...     38.258600    -77.514200\n",
              "75%    15000.000000  7.047065e+09  ...     44.439500    -76.238400\n",
              "max    20000.000000  7.050101e+09  ...     59.746600      9.095700\n",
              "\n",
              "[8 rows x 8 columns]"
            ]
          },
          "metadata": {
            "tags": []
          },
          "execution_count": 4
        }
      ]
    },
    {
      "cell_type": "code",
      "metadata": {
        "id": "vMQUJSSMKWgP",
        "colab_type": "code",
        "outputId": "4671eab8-29eb-467a-8c97-34a02bec5aa6",
        "colab": {
          "base_uri": "https://localhost:8080/",
          "height": 377
        }
      },
      "source": [
        "import seaborn as sns\n",
        "ax = sns.heatmap(df.isna())"
      ],
      "execution_count": 0,
      "outputs": [
        {
          "output_type": "stream",
          "text": [
            "/usr/local/lib/python3.6/dist-packages/statsmodels/tools/_testing.py:19: FutureWarning: pandas.util.testing is deprecated. Use the functions in the public API at pandas.testing instead.\n",
            "  import pandas.util.testing as tm\n"
          ],
          "name": "stderr"
        },
        {
          "output_type": "display_data",
          "data": {
            "image/png": "[encoded data removed]",
            "text/plain": [
              "<Figure size 432x288 with 2 Axes>"
            ]
          },
          "metadata": {
            "tags": [],
            "needs_background": "light"
          }
        }
      ]
    },
    {
      "cell_type": "code",
      "metadata": {
        "id": "R1cbxWt7fCMU",
        "colab_type": "code",
        "outputId": "635ec075-b801-406b-e351-eafb96e410bf",
        "colab": {
          "base_uri": "https://localhost:8080/",
          "height": 476
        }
      },
      "source": [
        "# Melihat jumlah data setiap kolom\n",
        "print(df.isnull().sum())"
      ],
      "execution_count": 0,
      "outputs": [
        {
          "output_type": "stream",
          "text": [
            "Unnamed: 0          0\n",
            "id                  0\n",
            "url                 0\n",
            "region              0\n",
            "region_url          0\n",
            "price               0\n",
            "year               12\n",
            "manufacturer      705\n",
            "model             265\n",
            "condition        9152\n",
            "cylinders        7085\n",
            "fuel               73\n",
            "odometer         2389\n",
            "title_status      110\n",
            "transmission      190\n",
            "vin              6645\n",
            "drive            4642\n",
            "size            13115\n",
            "type             3659\n",
            "paint_color      5514\n",
            "image_url           0\n",
            "description         0\n",
            "county          20001\n",
            "state               0\n",
            "lat              1031\n",
            "long             1031\n",
            "dtype: int64\n"
          ],
          "name": "stdout"
        }
      ]
    },
    {
      "cell_type": "markdown",
      "metadata": {
        "id": "1CqiJ7uKq4Wo",
        "colab_type": "text"
      },
      "source": [
        "**Menghapus kolom yang tidak diperlukan**"
      ]
    },
    {
      "cell_type": "code",
      "metadata": {
        "id": "PUyx5OzNzsJB",
        "colab_type": "code",
        "colab": {}
      },
      "source": [
        "df = df.drop([\"Unnamed: 0\",\"id\",\"url\", \"region\",\"region_url\",\"cylinders\",\"odometer\",\"vin\",\"size\",\"type\",\"image_url\",\"description\",\"county\",\"lat\",\"long\"], axis = 1)"
      ],
      "execution_count": 0,
      "outputs": []
    },
    {
      "cell_type": "code",
      "metadata": {
        "id": "395V1mzF563T",
        "colab_type": "code",
        "outputId": "c2ceb680-3016-4d45-e9ac-2e179ef19d31",
        "colab": {
          "base_uri": "https://localhost:8080/",
          "height": 34
        }
      },
      "source": [
        "df.shape"
      ],
      "execution_count": 0,
      "outputs": [
        {
          "output_type": "execute_result",
          "data": {
            "text/plain": [
              "(20001, 11)"
            ]
          },
          "metadata": {
            "tags": []
          },
          "execution_count": 8
        }
      ]
    },
    {
      "cell_type": "code",
      "metadata": {
        "id": "UaDd4lmX54C-",
        "colab_type": "code",
        "outputId": "0e04e108-ba7c-4443-e560-5bc63e5c755a",
        "colab": {
          "base_uri": "https://localhost:8080/",
          "height": 204
        }
      },
      "source": [
        "df.head()"
      ],
      "execution_count": 0,
      "outputs": [
        {
          "output_type": "execute_result",
          "data": {
            "text/html": [
              "<div>\n",
              "<style scoped>\n",
              "    .dataframe tbody tr th:only-of-type {\n",
              "        vertical-align: middle;\n",
              "    }\n",
              "\n",
              "    .dataframe tbody tr th {\n",
              "        vertical-align: top;\n",
              "    }\n",
              "\n",
              "    .dataframe thead th {\n",
              "        text-align: right;\n",
              "    }\n",
              "</style>\n",
              "<table border=\"1\" class=\"dataframe\">\n",
              "  <thead>\n",
              "    <tr style=\"text-align: right;\">\n",
              "      <th></th>\n",
              "      <th>price</th>\n",
              "      <th>year</th>\n",
              "      <th>manufacturer</th>\n",
              "      <th>model</th>\n",
              "      <th>condition</th>\n",
              "      <th>fuel</th>\n",
              "      <th>title_status</th>\n",
              "      <th>transmission</th>\n",
              "      <th>drive</th>\n",
              "      <th>paint_color</th>\n",
              "      <th>state</th>\n",
              "    </tr>\n",
              "  </thead>\n",
              "  <tbody>\n",
              "    <tr>\n",
              "      <th>0</th>\n",
              "      <td>17899</td>\n",
              "      <td>2012.0</td>\n",
              "      <td>volkswagen</td>\n",
              "      <td>golf r</td>\n",
              "      <td>excellent</td>\n",
              "      <td>gas</td>\n",
              "      <td>clean</td>\n",
              "      <td>manual</td>\n",
              "      <td>4wd</td>\n",
              "      <td>black</td>\n",
              "      <td>ut</td>\n",
              "    </tr>\n",
              "    <tr>\n",
              "      <th>1</th>\n",
              "      <td>0</td>\n",
              "      <td>2016.0</td>\n",
              "      <td>ford</td>\n",
              "      <td>f-150</td>\n",
              "      <td>excellent</td>\n",
              "      <td>gas</td>\n",
              "      <td>clean</td>\n",
              "      <td>automatic</td>\n",
              "      <td>4wd</td>\n",
              "      <td>NaN</td>\n",
              "      <td>ut</td>\n",
              "    </tr>\n",
              "    <tr>\n",
              "      <th>2</th>\n",
              "      <td>46463</td>\n",
              "      <td>2015.0</td>\n",
              "      <td>gmc</td>\n",
              "      <td>sierra 1500</td>\n",
              "      <td>excellent</td>\n",
              "      <td>gas</td>\n",
              "      <td>clean</td>\n",
              "      <td>automatic</td>\n",
              "      <td>4wd</td>\n",
              "      <td>white</td>\n",
              "      <td>ut</td>\n",
              "    </tr>\n",
              "    <tr>\n",
              "      <th>3</th>\n",
              "      <td>0</td>\n",
              "      <td>2016.0</td>\n",
              "      <td>ford</td>\n",
              "      <td>f-150</td>\n",
              "      <td>excellent</td>\n",
              "      <td>gas</td>\n",
              "      <td>clean</td>\n",
              "      <td>automatic</td>\n",
              "      <td>4wd</td>\n",
              "      <td>NaN</td>\n",
              "      <td>ut</td>\n",
              "    </tr>\n",
              "    <tr>\n",
              "      <th>4</th>\n",
              "      <td>49999</td>\n",
              "      <td>2018.0</td>\n",
              "      <td>ford</td>\n",
              "      <td>f-450</td>\n",
              "      <td>NaN</td>\n",
              "      <td>diesel</td>\n",
              "      <td>clean</td>\n",
              "      <td>automatic</td>\n",
              "      <td>4wd</td>\n",
              "      <td>white</td>\n",
              "      <td>ut</td>\n",
              "    </tr>\n",
              "  </tbody>\n",
              "</table>\n",
              "</div>"
            ],
            "text/plain": [
              "   price    year manufacturer        model  ... transmission drive paint_color state\n",
              "0  17899  2012.0   volkswagen       golf r  ...       manual   4wd       black    ut\n",
              "1      0  2016.0         ford        f-150  ...    automatic   4wd         NaN    ut\n",
              "2  46463  2015.0          gmc  sierra 1500  ...    automatic   4wd       white    ut\n",
              "3      0  2016.0         ford        f-150  ...    automatic   4wd         NaN    ut\n",
              "4  49999  2018.0         ford        f-450  ...    automatic   4wd       white    ut\n",
              "\n",
              "[5 rows x 11 columns]"
            ]
          },
          "metadata": {
            "tags": []
          },
          "execution_count": 9
        }
      ]
    },
    {
      "cell_type": "markdown",
      "metadata": {
        "id": "BwfTDfxlX3MA",
        "colab_type": "text"
      },
      "source": [
        "**Cek data kosong/null**"
      ]
    },
    {
      "cell_type": "code",
      "metadata": {
        "id": "qJBZMf0uW72r",
        "colab_type": "code",
        "outputId": "7083e066-5976-441a-898f-de5095af6e49",
        "colab": {
          "base_uri": "https://localhost:8080/",
          "height": 419
        }
      },
      "source": [
        "df[df.isnull().any(axis=1)]"
      ],
      "execution_count": 0,
      "outputs": [
        {
          "output_type": "execute_result",
          "data": {
            "text/html": [
              "<div>\n",
              "<style scoped>\n",
              "    .dataframe tbody tr th:only-of-type {\n",
              "        vertical-align: middle;\n",
              "    }\n",
              "\n",
              "    .dataframe tbody tr th {\n",
              "        vertical-align: top;\n",
              "    }\n",
              "\n",
              "    .dataframe thead th {\n",
              "        text-align: right;\n",
              "    }\n",
              "</style>\n",
              "<table border=\"1\" class=\"dataframe\">\n",
              "  <thead>\n",
              "    <tr style=\"text-align: right;\">\n",
              "      <th></th>\n",
              "      <th>price</th>\n",
              "      <th>year</th>\n",
              "      <th>manufacturer</th>\n",
              "      <th>model</th>\n",
              "      <th>condition</th>\n",
              "      <th>fuel</th>\n",
              "      <th>title_status</th>\n",
              "      <th>transmission</th>\n",
              "      <th>drive</th>\n",
              "      <th>paint_color</th>\n",
              "      <th>state</th>\n",
              "    </tr>\n",
              "  </thead>\n",
              "  <tbody>\n",
              "    <tr>\n",
              "      <th>1</th>\n",
              "      <td>0</td>\n",
              "      <td>2016.0</td>\n",
              "      <td>ford</td>\n",
              "      <td>f-150</td>\n",
              "      <td>excellent</td>\n",
              "      <td>gas</td>\n",
              "      <td>clean</td>\n",
              "      <td>automatic</td>\n",
              "      <td>4wd</td>\n",
              "      <td>NaN</td>\n",
              "      <td>ut</td>\n",
              "    </tr>\n",
              "    <tr>\n",
              "      <th>3</th>\n",
              "      <td>0</td>\n",
              "      <td>2016.0</td>\n",
              "      <td>ford</td>\n",
              "      <td>f-150</td>\n",
              "      <td>excellent</td>\n",
              "      <td>gas</td>\n",
              "      <td>clean</td>\n",
              "      <td>automatic</td>\n",
              "      <td>4wd</td>\n",
              "      <td>NaN</td>\n",
              "      <td>ut</td>\n",
              "    </tr>\n",
              "    <tr>\n",
              "      <th>4</th>\n",
              "      <td>49999</td>\n",
              "      <td>2018.0</td>\n",
              "      <td>ford</td>\n",
              "      <td>f-450</td>\n",
              "      <td>NaN</td>\n",
              "      <td>diesel</td>\n",
              "      <td>clean</td>\n",
              "      <td>automatic</td>\n",
              "      <td>4wd</td>\n",
              "      <td>white</td>\n",
              "      <td>ut</td>\n",
              "    </tr>\n",
              "    <tr>\n",
              "      <th>5</th>\n",
              "      <td>13999</td>\n",
              "      <td>2009.0</td>\n",
              "      <td>ram</td>\n",
              "      <td>NaN</td>\n",
              "      <td>NaN</td>\n",
              "      <td>gas</td>\n",
              "      <td>clean</td>\n",
              "      <td>automatic</td>\n",
              "      <td>4wd</td>\n",
              "      <td>silver</td>\n",
              "      <td>ut</td>\n",
              "    </tr>\n",
              "    <tr>\n",
              "      <th>6</th>\n",
              "      <td>34500</td>\n",
              "      <td>2017.0</td>\n",
              "      <td>ford</td>\n",
              "      <td>f-350</td>\n",
              "      <td>NaN</td>\n",
              "      <td>diesel</td>\n",
              "      <td>clean</td>\n",
              "      <td>automatic</td>\n",
              "      <td>4wd</td>\n",
              "      <td>white</td>\n",
              "      <td>ut</td>\n",
              "    </tr>\n",
              "    <tr>\n",
              "      <th>...</th>\n",
              "      <td>...</td>\n",
              "      <td>...</td>\n",
              "      <td>...</td>\n",
              "      <td>...</td>\n",
              "      <td>...</td>\n",
              "      <td>...</td>\n",
              "      <td>...</td>\n",
              "      <td>...</td>\n",
              "      <td>...</td>\n",
              "      <td>...</td>\n",
              "      <td>...</td>\n",
              "    </tr>\n",
              "    <tr>\n",
              "      <th>19996</th>\n",
              "      <td>49999</td>\n",
              "      <td>2016.0</td>\n",
              "      <td>ram</td>\n",
              "      <td>cummin 2500 laramie</td>\n",
              "      <td>NaN</td>\n",
              "      <td>diesel</td>\n",
              "      <td>clean</td>\n",
              "      <td>automatic</td>\n",
              "      <td>4wd</td>\n",
              "      <td>grey</td>\n",
              "      <td>wa</td>\n",
              "    </tr>\n",
              "    <tr>\n",
              "      <th>19997</th>\n",
              "      <td>12127</td>\n",
              "      <td>2018.0</td>\n",
              "      <td>nissan</td>\n",
              "      <td>sentra</td>\n",
              "      <td>NaN</td>\n",
              "      <td>gas</td>\n",
              "      <td>clean</td>\n",
              "      <td>automatic</td>\n",
              "      <td>fwd</td>\n",
              "      <td>NaN</td>\n",
              "      <td>wa</td>\n",
              "    </tr>\n",
              "    <tr>\n",
              "      <th>19998</th>\n",
              "      <td>0</td>\n",
              "      <td>2019.0</td>\n",
              "      <td>jeep</td>\n",
              "      <td>grand cherokee limited</td>\n",
              "      <td>NaN</td>\n",
              "      <td>gas</td>\n",
              "      <td>clean</td>\n",
              "      <td>automatic</td>\n",
              "      <td>4wd</td>\n",
              "      <td>NaN</td>\n",
              "      <td>wa</td>\n",
              "    </tr>\n",
              "    <tr>\n",
              "      <th>19999</th>\n",
              "      <td>14661</td>\n",
              "      <td>2017.0</td>\n",
              "      <td>toyota</td>\n",
              "      <td>corolla</td>\n",
              "      <td>NaN</td>\n",
              "      <td>gas</td>\n",
              "      <td>clean</td>\n",
              "      <td>automatic</td>\n",
              "      <td>fwd</td>\n",
              "      <td>NaN</td>\n",
              "      <td>wa</td>\n",
              "    </tr>\n",
              "    <tr>\n",
              "      <th>20000</th>\n",
              "      <td>35999</td>\n",
              "      <td>2019.0</td>\n",
              "      <td>toyota</td>\n",
              "      <td>4runner sr5 4x4 gas suv</td>\n",
              "      <td>NaN</td>\n",
              "      <td>gas</td>\n",
              "      <td>clean</td>\n",
              "      <td>automatic</td>\n",
              "      <td>4wd</td>\n",
              "      <td>black</td>\n",
              "      <td>wa</td>\n",
              "    </tr>\n",
              "  </tbody>\n",
              "</table>\n",
              "<p>12567 rows × 11 columns</p>\n",
              "</div>"
            ],
            "text/plain": [
              "       price    year manufacturer  ... drive paint_color state\n",
              "1          0  2016.0         ford  ...   4wd         NaN    ut\n",
              "3          0  2016.0         ford  ...   4wd         NaN    ut\n",
              "4      49999  2018.0         ford  ...   4wd       white    ut\n",
              "5      13999  2009.0          ram  ...   4wd      silver    ut\n",
              "6      34500  2017.0         ford  ...   4wd       white    ut\n",
              "...      ...     ...          ...  ...   ...         ...   ...\n",
              "19996  49999  2016.0          ram  ...   4wd        grey    wa\n",
              "19997  12127  2018.0       nissan  ...   fwd         NaN    wa\n",
              "19998      0  2019.0         jeep  ...   4wd         NaN    wa\n",
              "19999  14661  2017.0       toyota  ...   fwd         NaN    wa\n",
              "20000  35999  2019.0       toyota  ...   4wd       black    wa\n",
              "\n",
              "[12567 rows x 11 columns]"
            ]
          },
          "metadata": {
            "tags": []
          },
          "execution_count": 10
        }
      ]
    },
    {
      "cell_type": "code",
      "metadata": {
        "id": "biXOP8MZcX7w",
        "colab_type": "code",
        "outputId": "69a508ea-6dbe-49e0-9677-88f0849dc89a",
        "colab": {
          "base_uri": "https://localhost:8080/",
          "height": 221
        }
      },
      "source": [
        "# Jumlah data kosong untuk setiap kolom\n",
        "print(df.isnull().sum())"
      ],
      "execution_count": 0,
      "outputs": [
        {
          "output_type": "stream",
          "text": [
            "price              0\n",
            "year              12\n",
            "manufacturer     705\n",
            "model            265\n",
            "condition       9152\n",
            "fuel              73\n",
            "title_status     110\n",
            "transmission     190\n",
            "drive           4642\n",
            "paint_color     5514\n",
            "state              0\n",
            "dtype: int64\n"
          ],
          "name": "stdout"
        }
      ]
    },
    {
      "cell_type": "code",
      "metadata": {
        "id": "sHFJJs5NP-GJ",
        "colab_type": "code",
        "outputId": "a40fa89e-d357-42f0-98f1-7f1f3f54fec4",
        "colab": {
          "base_uri": "https://localhost:8080/",
          "height": 221
        }
      },
      "source": [
        "df.dtypes"
      ],
      "execution_count": 0,
      "outputs": [
        {
          "output_type": "execute_result",
          "data": {
            "text/plain": [
              "price             int64\n",
              "year            float64\n",
              "manufacturer     object\n",
              "model            object\n",
              "condition        object\n",
              "fuel             object\n",
              "title_status     object\n",
              "transmission     object\n",
              "drive            object\n",
              "paint_color      object\n",
              "state            object\n",
              "dtype: object"
            ]
          },
          "metadata": {
            "tags": []
          },
          "execution_count": 12
        }
      ]
    },
    {
      "cell_type": "markdown",
      "metadata": {
        "id": "5xbjWk8RremD",
        "colab_type": "text"
      },
      "source": [
        "**Handling missing value untuk type int dan float**\n",
        "\n"
      ]
    },
    {
      "cell_type": "code",
      "metadata": {
        "id": "t-Krp4_-reDy",
        "colab_type": "code",
        "colab": {}
      },
      "source": [
        "# Untuk Missing value bertipe int dan float, mengisinya dengan mean (rata-rata) nilai\n",
        "df.year.fillna(df.year.mean(),inplace=True)"
      ],
      "execution_count": 0,
      "outputs": []
    },
    {
      "cell_type": "code",
      "metadata": {
        "id": "cNLQlZ4iQyhF",
        "colab_type": "code",
        "outputId": "86cafb5e-f78c-4913-f52d-aeac1d23e9ef",
        "colab": {
          "base_uri": "https://localhost:8080/",
          "height": 297
        }
      },
      "source": [
        "df.describe()"
      ],
      "execution_count": 0,
      "outputs": [
        {
          "output_type": "execute_result",
          "data": {
            "text/html": [
              "<div>\n",
              "<style scoped>\n",
              "    .dataframe tbody tr th:only-of-type {\n",
              "        vertical-align: middle;\n",
              "    }\n",
              "\n",
              "    .dataframe tbody tr th {\n",
              "        vertical-align: top;\n",
              "    }\n",
              "\n",
              "    .dataframe thead th {\n",
              "        text-align: right;\n",
              "    }\n",
              "</style>\n",
              "<table border=\"1\" class=\"dataframe\">\n",
              "  <thead>\n",
              "    <tr style=\"text-align: right;\">\n",
              "      <th></th>\n",
              "      <th>price</th>\n",
              "      <th>year</th>\n",
              "    </tr>\n",
              "  </thead>\n",
              "  <tbody>\n",
              "    <tr>\n",
              "      <th>count</th>\n",
              "      <td>2.000100e+04</td>\n",
              "      <td>20001.000000</td>\n",
              "    </tr>\n",
              "    <tr>\n",
              "      <th>mean</th>\n",
              "      <td>7.664058e+04</td>\n",
              "      <td>2009.830657</td>\n",
              "    </tr>\n",
              "    <tr>\n",
              "      <th>std</th>\n",
              "      <td>8.335762e+06</td>\n",
              "      <td>7.911238</td>\n",
              "    </tr>\n",
              "    <tr>\n",
              "      <th>min</th>\n",
              "      <td>0.000000e+00</td>\n",
              "      <td>1917.000000</td>\n",
              "    </tr>\n",
              "    <tr>\n",
              "      <th>25%</th>\n",
              "      <td>3.970000e+03</td>\n",
              "      <td>2007.000000</td>\n",
              "    </tr>\n",
              "    <tr>\n",
              "      <th>50%</th>\n",
              "      <td>8.795000e+03</td>\n",
              "      <td>2011.000000</td>\n",
              "    </tr>\n",
              "    <tr>\n",
              "      <th>75%</th>\n",
              "      <td>1.749500e+04</td>\n",
              "      <td>2015.000000</td>\n",
              "    </tr>\n",
              "    <tr>\n",
              "      <th>max</th>\n",
              "      <td>1.172420e+09</td>\n",
              "      <td>2020.000000</td>\n",
              "    </tr>\n",
              "  </tbody>\n",
              "</table>\n",
              "</div>"
            ],
            "text/plain": [
              "              price          year\n",
              "count  2.000100e+04  20001.000000\n",
              "mean   7.664058e+04   2009.830657\n",
              "std    8.335762e+06      7.911238\n",
              "min    0.000000e+00   1917.000000\n",
              "25%    3.970000e+03   2007.000000\n",
              "50%    8.795000e+03   2011.000000\n",
              "75%    1.749500e+04   2015.000000\n",
              "max    1.172420e+09   2020.000000"
            ]
          },
          "metadata": {
            "tags": []
          },
          "execution_count": 14
        }
      ]
    },
    {
      "cell_type": "markdown",
      "metadata": {
        "id": "sQbsojcSUwuf",
        "colab_type": "text"
      },
      "source": [
        "**Handling missing value untuk type object**"
      ]
    },
    {
      "cell_type": "code",
      "metadata": {
        "id": "SF2ot3SwVAb8",
        "colab_type": "code",
        "outputId": "252f5cf5-0c1a-4128-f518-0c5726448dcc",
        "colab": {
          "base_uri": "https://localhost:8080/",
          "height": 221
        }
      },
      "source": [
        "df.dtypes"
      ],
      "execution_count": 0,
      "outputs": [
        {
          "output_type": "execute_result",
          "data": {
            "text/plain": [
              "price             int64\n",
              "year            float64\n",
              "manufacturer     object\n",
              "model            object\n",
              "condition        object\n",
              "fuel             object\n",
              "title_status     object\n",
              "transmission     object\n",
              "drive            object\n",
              "paint_color      object\n",
              "state            object\n",
              "dtype: object"
            ]
          },
          "metadata": {
            "tags": []
          },
          "execution_count": 15
        }
      ]
    },
    {
      "cell_type": "code",
      "metadata": {
        "id": "OvNKPoYfYMiN",
        "colab_type": "code",
        "outputId": "99837b3e-f8ba-4922-929e-575e35f6bb1d",
        "colab": {
          "base_uri": "https://localhost:8080/",
          "height": 34
        }
      },
      "source": [
        "print(len(df['manufacturer'].unique()))\n",
        "# df.manufacturer.value_counts()\n",
        "df[\"manufacturer\"].fillna(\"ford\", inplace = True)"
      ],
      "execution_count": 0,
      "outputs": [
        {
          "output_type": "stream",
          "text": [
            "41\n"
          ],
          "name": "stdout"
        }
      ]
    },
    {
      "cell_type": "code",
      "metadata": {
        "id": "343wvZ1MxWUT",
        "colab_type": "code",
        "outputId": "94553316-9fea-45a1-9687-5f26dcc11098",
        "colab": {
          "base_uri": "https://localhost:8080/",
          "height": 34
        }
      },
      "source": [
        "print(len(df['model'].unique()))\n",
        "# df.model.value_counts()\n",
        "df[\"model\"].fillna(\"f-150\", inplace = True)"
      ],
      "execution_count": 0,
      "outputs": [
        {
          "output_type": "stream",
          "text": [
            "4145\n"
          ],
          "name": "stdout"
        }
      ]
    },
    {
      "cell_type": "code",
      "metadata": {
        "id": "EGvhIF89wtHF",
        "colab_type": "code",
        "outputId": "cedc62c0-b61b-45fd-cc8a-c35961dc264a",
        "colab": {
          "base_uri": "https://localhost:8080/",
          "height": 34
        }
      },
      "source": [
        "print(len(df['condition'].unique()))\n",
        "# df.condition.value_counts()\n",
        "df[\"condition\"].fillna(\"excellent\", inplace = True)"
      ],
      "execution_count": 0,
      "outputs": [
        {
          "output_type": "stream",
          "text": [
            "7\n"
          ],
          "name": "stdout"
        }
      ]
    },
    {
      "cell_type": "code",
      "metadata": {
        "id": "jFI1eoKLb2Gv",
        "colab_type": "code",
        "outputId": "275e99f2-993c-4d61-94bb-94b753af0cc4",
        "colab": {
          "base_uri": "https://localhost:8080/",
          "height": 34
        }
      },
      "source": [
        "print(len(df['fuel'].unique()))\n",
        "# df.fuel.value_counts()\n",
        "df[\"fuel\"].fillna(\"gas\", inplace = True)"
      ],
      "execution_count": 0,
      "outputs": [
        {
          "output_type": "stream",
          "text": [
            "6\n"
          ],
          "name": "stdout"
        }
      ]
    },
    {
      "cell_type": "code",
      "metadata": {
        "id": "5kKvicPzbzhN",
        "colab_type": "code",
        "outputId": "0fcdaa2c-fcbd-4a6a-95e8-a1522eed8945",
        "colab": {
          "base_uri": "https://localhost:8080/",
          "height": 34
        }
      },
      "source": [
        "print(len(df['title_status'].unique()))\n",
        "# df.title_status.value_counts()\n",
        "df[\"title_status\"].fillna(\"clean\", inplace = True)"
      ],
      "execution_count": 0,
      "outputs": [
        {
          "output_type": "stream",
          "text": [
            "7\n"
          ],
          "name": "stdout"
        }
      ]
    },
    {
      "cell_type": "code",
      "metadata": {
        "id": "2MdAs6DwcN8n",
        "colab_type": "code",
        "outputId": "7b8793fe-e3ce-46c9-a2d2-118c5d8aaad3",
        "colab": {
          "base_uri": "https://localhost:8080/",
          "height": 34
        }
      },
      "source": [
        "print(len(df['transmission'].unique()))\n",
        "df.transmission.value_counts()\n",
        "df[\"transmission\"].fillna(\"automatic\", inplace = True)"
      ],
      "execution_count": 0,
      "outputs": [
        {
          "output_type": "stream",
          "text": [
            "4\n"
          ],
          "name": "stdout"
        }
      ]
    },
    {
      "cell_type": "code",
      "metadata": {
        "id": "segmfGrWxAIB",
        "colab_type": "code",
        "outputId": "05d274a0-9fac-4b8d-edd8-59d482261b77",
        "colab": {
          "base_uri": "https://localhost:8080/",
          "height": 34
        }
      },
      "source": [
        "print(len(df['drive'].unique()))\n",
        "# df.drive.value_counts()\n",
        "df[\"drive\"].fillna(\"4wd\", inplace = True)"
      ],
      "execution_count": 0,
      "outputs": [
        {
          "output_type": "stream",
          "text": [
            "4\n"
          ],
          "name": "stdout"
        }
      ]
    },
    {
      "cell_type": "code",
      "metadata": {
        "id": "VhlQb-YrxLqZ",
        "colab_type": "code",
        "outputId": "1e134bf3-2e40-4027-9f19-f7c42a31503c",
        "colab": {
          "base_uri": "https://localhost:8080/",
          "height": 34
        }
      },
      "source": [
        "print(len(df['paint_color'].unique()))\n",
        "# df.paint_color.value_counts()\n",
        "df[\"paint_color\"].fillna(\"white\", inplace = True)"
      ],
      "execution_count": 0,
      "outputs": [
        {
          "output_type": "stream",
          "text": [
            "13\n"
          ],
          "name": "stdout"
        }
      ]
    },
    {
      "cell_type": "code",
      "metadata": {
        "id": "LJCuDr-LSL2G",
        "colab_type": "code",
        "outputId": "d203c597-64f4-4830-e693-d12fbe8099e4",
        "colab": {
          "base_uri": "https://localhost:8080/",
          "height": 221
        }
      },
      "source": [
        "print(df.isnull().sum())"
      ],
      "execution_count": 0,
      "outputs": [
        {
          "output_type": "stream",
          "text": [
            "price           0\n",
            "year            0\n",
            "manufacturer    0\n",
            "model           0\n",
            "condition       0\n",
            "fuel            0\n",
            "title_status    0\n",
            "transmission    0\n",
            "drive           0\n",
            "paint_color     0\n",
            "state           0\n",
            "dtype: int64\n"
          ],
          "name": "stdout"
        }
      ]
    },
    {
      "cell_type": "code",
      "metadata": {
        "id": "4xeCP_tsAZWO",
        "colab_type": "code",
        "outputId": "9bd9e3a8-9c94-439c-e369-1b1117b64433",
        "colab": {
          "base_uri": "https://localhost:8080/",
          "height": 221
        }
      },
      "source": [
        "df.dtypes"
      ],
      "execution_count": 0,
      "outputs": [
        {
          "output_type": "execute_result",
          "data": {
            "text/plain": [
              "price             int64\n",
              "year            float64\n",
              "manufacturer     object\n",
              "model            object\n",
              "condition        object\n",
              "fuel             object\n",
              "title_status     object\n",
              "transmission     object\n",
              "drive            object\n",
              "paint_color      object\n",
              "state            object\n",
              "dtype: object"
            ]
          },
          "metadata": {
            "tags": []
          },
          "execution_count": 25
        }
      ]
    },
    {
      "cell_type": "markdown",
      "metadata": {
        "id": "RsI4mycfJJVt",
        "colab_type": "text"
      },
      "source": [
        "# Encode object to int/float"
      ]
    },
    {
      "cell_type": "code",
      "metadata": {
        "id": "oc3PJUQvJOeu",
        "colab_type": "code",
        "colab": {}
      },
      "source": [
        "from sklearn.preprocessing import LabelEncoder\n",
        "encoder = LabelEncoder()"
      ],
      "execution_count": 0,
      "outputs": []
    },
    {
      "cell_type": "code",
      "metadata": {
        "id": "16pkQ-yECsco",
        "colab_type": "code",
        "colab": {}
      },
      "source": [
        "df['manufacturer'] = encoder.fit_transform(df['manufacturer'])\n",
        "df['model'] = encoder.fit_transform(df['model'])\n",
        "df['condition'] = encoder.fit_transform(df['condition'])\n",
        "df['fuel'] = encoder.fit_transform(df['fuel'])\n",
        "df['title_status'] = encoder.fit_transform(df['title_status'])\n",
        "df['transmission'] = encoder.fit_transform(df['transmission'])\n",
        "df['drive'] = encoder.fit_transform(df['drive'])\n",
        "df['paint_color'] = encoder.fit_transform(df['paint_color'])\n",
        "df['state'] = encoder.fit_transform(df['state'])"
      ],
      "execution_count": 0,
      "outputs": []
    },
    {
      "cell_type": "code",
      "metadata": {
        "id": "UwBxRUkSC2z7",
        "colab_type": "code",
        "outputId": "a02a2c07-605e-43d4-c9de-b324fc23d882",
        "colab": {
          "base_uri": "https://localhost:8080/",
          "height": 221
        }
      },
      "source": [
        "df.dtypes"
      ],
      "execution_count": 0,
      "outputs": [
        {
          "output_type": "execute_result",
          "data": {
            "text/plain": [
              "price             int64\n",
              "year            float64\n",
              "manufacturer      int64\n",
              "model             int64\n",
              "condition         int64\n",
              "fuel              int64\n",
              "title_status      int64\n",
              "transmission      int64\n",
              "drive             int64\n",
              "paint_color       int64\n",
              "state             int64\n",
              "dtype: object"
            ]
          },
          "metadata": {
            "tags": []
          },
          "execution_count": 28
        }
      ]
    },
    {
      "cell_type": "code",
      "metadata": {
        "id": "BIjP5UrGDBnh",
        "colab_type": "code",
        "outputId": "9cdb67c2-cfcc-4de5-a3e4-2eda0e690c0d",
        "colab": {
          "base_uri": "https://localhost:8080/",
          "height": 204
        }
      },
      "source": [
        "df.head()"
      ],
      "execution_count": 0,
      "outputs": [
        {
          "output_type": "execute_result",
          "data": {
            "text/html": [
              "<div>\n",
              "<style scoped>\n",
              "    .dataframe tbody tr th:only-of-type {\n",
              "        vertical-align: middle;\n",
              "    }\n",
              "\n",
              "    .dataframe tbody tr th {\n",
              "        vertical-align: top;\n",
              "    }\n",
              "\n",
              "    .dataframe thead th {\n",
              "        text-align: right;\n",
              "    }\n",
              "</style>\n",
              "<table border=\"1\" class=\"dataframe\">\n",
              "  <thead>\n",
              "    <tr style=\"text-align: right;\">\n",
              "      <th></th>\n",
              "      <th>price</th>\n",
              "      <th>year</th>\n",
              "      <th>manufacturer</th>\n",
              "      <th>model</th>\n",
              "      <th>condition</th>\n",
              "      <th>fuel</th>\n",
              "      <th>title_status</th>\n",
              "      <th>transmission</th>\n",
              "      <th>drive</th>\n",
              "      <th>paint_color</th>\n",
              "      <th>state</th>\n",
              "    </tr>\n",
              "  </thead>\n",
              "  <tbody>\n",
              "    <tr>\n",
              "      <th>0</th>\n",
              "      <td>17899</td>\n",
              "      <td>2012.0</td>\n",
              "      <td>38</td>\n",
              "      <td>2197</td>\n",
              "      <td>0</td>\n",
              "      <td>2</td>\n",
              "      <td>0</td>\n",
              "      <td>1</td>\n",
              "      <td>0</td>\n",
              "      <td>0</td>\n",
              "      <td>0</td>\n",
              "    </tr>\n",
              "    <tr>\n",
              "      <th>1</th>\n",
              "      <td>0</td>\n",
              "      <td>2016.0</td>\n",
              "      <td>12</td>\n",
              "      <td>1764</td>\n",
              "      <td>0</td>\n",
              "      <td>2</td>\n",
              "      <td>0</td>\n",
              "      <td>0</td>\n",
              "      <td>0</td>\n",
              "      <td>10</td>\n",
              "      <td>0</td>\n",
              "    </tr>\n",
              "    <tr>\n",
              "      <th>2</th>\n",
              "      <td>46463</td>\n",
              "      <td>2015.0</td>\n",
              "      <td>13</td>\n",
              "      <td>3285</td>\n",
              "      <td>0</td>\n",
              "      <td>2</td>\n",
              "      <td>0</td>\n",
              "      <td>0</td>\n",
              "      <td>0</td>\n",
              "      <td>10</td>\n",
              "      <td>0</td>\n",
              "    </tr>\n",
              "    <tr>\n",
              "      <th>3</th>\n",
              "      <td>0</td>\n",
              "      <td>2016.0</td>\n",
              "      <td>12</td>\n",
              "      <td>1764</td>\n",
              "      <td>0</td>\n",
              "      <td>2</td>\n",
              "      <td>0</td>\n",
              "      <td>0</td>\n",
              "      <td>0</td>\n",
              "      <td>10</td>\n",
              "      <td>0</td>\n",
              "    </tr>\n",
              "    <tr>\n",
              "      <th>4</th>\n",
              "      <td>49999</td>\n",
              "      <td>2018.0</td>\n",
              "      <td>12</td>\n",
              "      <td>1843</td>\n",
              "      <td>0</td>\n",
              "      <td>0</td>\n",
              "      <td>0</td>\n",
              "      <td>0</td>\n",
              "      <td>0</td>\n",
              "      <td>10</td>\n",
              "      <td>0</td>\n",
              "    </tr>\n",
              "  </tbody>\n",
              "</table>\n",
              "</div>"
            ],
            "text/plain": [
              "   price    year  manufacturer  model  ...  transmission  drive  paint_color  state\n",
              "0  17899  2012.0            38   2197  ...             1      0            0      0\n",
              "1      0  2016.0            12   1764  ...             0      0           10      0\n",
              "2  46463  2015.0            13   3285  ...             0      0           10      0\n",
              "3      0  2016.0            12   1764  ...             0      0           10      0\n",
              "4  49999  2018.0            12   1843  ...             0      0           10      0\n",
              "\n",
              "[5 rows x 11 columns]"
            ]
          },
          "metadata": {
            "tags": []
          },
          "execution_count": 29
        }
      ]
    },
    {
      "cell_type": "markdown",
      "metadata": {
        "id": "SOY8_v7N5c0J",
        "colab_type": "text"
      },
      "source": [
        "# Normalisasi"
      ]
    },
    {
      "cell_type": "code",
      "metadata": {
        "id": "RdK7udT1kJLj",
        "colab_type": "code",
        "colab": {}
      },
      "source": [
        "from sklearn.preprocessing import Normalizer\n",
        "norm = Normalizer()\n",
        "df = pd.DataFrame(norm.fit_transform(df))\n",
        "df.columns = ['price','year','manufacturer','model','condition','fuel','title_status','transmission','drive','paint_color','state']"
      ],
      "execution_count": 0,
      "outputs": []
    },
    {
      "cell_type": "markdown",
      "metadata": {
        "id": "CB5i3-px5ih3",
        "colab_type": "text"
      },
      "source": [
        "# Korelasi antar data"
      ]
    },
    {
      "cell_type": "code",
      "metadata": {
        "id": "td92jJtgzjbT",
        "colab_type": "code",
        "colab": {}
      },
      "source": [
        "import seaborn as sns\n",
        "from matplotlib import pyplot as plt\n",
        "sns.set_style(\"whitegrid\")"
      ],
      "execution_count": 0,
      "outputs": []
    },
    {
      "cell_type": "code",
      "metadata": {
        "id": "ScCmS_0ohdUA",
        "colab_type": "code",
        "outputId": "128e592b-f8b6-4b4a-c6fa-5d9c6bc3b4bd",
        "colab": {
          "base_uri": "https://localhost:8080/",
          "height": 375
        }
      },
      "source": [
        "ambil = df.select_dtypes(include = ['float64', 'int64',]).iloc[:, :].corr()\n",
        "plt.figure(figsize=(5, 5))\n",
        "ax = sns.heatmap(ambil, vmax=1, square=True)\n",
        "plt.xticks\n",
        "plt.yticks"
      ],
      "execution_count": 0,
      "outputs": [
        {
          "output_type": "execute_result",
          "data": {
            "text/plain": [
              "<function matplotlib.pyplot.yticks>"
            ]
          },
          "metadata": {
            "tags": []
          },
          "execution_count": 32
        },
        {
          "output_type": "display_data",
          "data": {
            "image/png": "[encoded data removed]",
            "text/plain": [
              "<Figure size 360x360 with 2 Axes>"
            ]
          },
          "metadata": {
            "tags": []
          }
        }
      ]
    },
    {
      "cell_type": "code",
      "metadata": {
        "id": "g90w_FM0ioCT",
        "colab_type": "code",
        "outputId": "e232295d-88d5-4f27-bc24-55ba57e60305",
        "colab": {
          "base_uri": "https://localhost:8080/",
          "height": 390
        }
      },
      "source": [
        "ambil"
      ],
      "execution_count": 0,
      "outputs": [
        {
          "output_type": "execute_result",
          "data": {
            "text/html": [
              "<div>\n",
              "<style scoped>\n",
              "    .dataframe tbody tr th:only-of-type {\n",
              "        vertical-align: middle;\n",
              "    }\n",
              "\n",
              "    .dataframe tbody tr th {\n",
              "        vertical-align: top;\n",
              "    }\n",
              "\n",
              "    .dataframe thead th {\n",
              "        text-align: right;\n",
              "    }\n",
              "</style>\n",
              "<table border=\"1\" class=\"dataframe\">\n",
              "  <thead>\n",
              "    <tr style=\"text-align: right;\">\n",
              "      <th></th>\n",
              "      <th>price</th>\n",
              "      <th>year</th>\n",
              "      <th>manufacturer</th>\n",
              "      <th>model</th>\n",
              "      <th>condition</th>\n",
              "      <th>fuel</th>\n",
              "      <th>title_status</th>\n",
              "      <th>transmission</th>\n",
              "      <th>drive</th>\n",
              "      <th>paint_color</th>\n",
              "      <th>state</th>\n",
              "    </tr>\n",
              "  </thead>\n",
              "  <tbody>\n",
              "    <tr>\n",
              "      <th>price</th>\n",
              "      <td>1.000000</td>\n",
              "      <td>-0.863927</td>\n",
              "      <td>-0.625674</td>\n",
              "      <td>-0.767579</td>\n",
              "      <td>-0.094181</td>\n",
              "      <td>-0.757673</td>\n",
              "      <td>-0.009833</td>\n",
              "      <td>-0.124441</td>\n",
              "      <td>-0.308154</td>\n",
              "      <td>-0.579383</td>\n",
              "      <td>-0.623870</td>\n",
              "    </tr>\n",
              "    <tr>\n",
              "      <th>year</th>\n",
              "      <td>-0.863927</td>\n",
              "      <td>1.000000</td>\n",
              "      <td>0.721438</td>\n",
              "      <td>0.607299</td>\n",
              "      <td>0.244024</td>\n",
              "      <td>0.865217</td>\n",
              "      <td>0.043851</td>\n",
              "      <td>0.181082</td>\n",
              "      <td>0.415462</td>\n",
              "      <td>0.693645</td>\n",
              "      <td>0.747828</td>\n",
              "    </tr>\n",
              "    <tr>\n",
              "      <th>manufacturer</th>\n",
              "      <td>-0.625674</td>\n",
              "      <td>0.721438</td>\n",
              "      <td>1.000000</td>\n",
              "      <td>0.446040</td>\n",
              "      <td>0.154302</td>\n",
              "      <td>0.594822</td>\n",
              "      <td>0.041729</td>\n",
              "      <td>0.144062</td>\n",
              "      <td>0.271809</td>\n",
              "      <td>0.514001</td>\n",
              "      <td>0.558153</td>\n",
              "    </tr>\n",
              "    <tr>\n",
              "      <th>model</th>\n",
              "      <td>-0.767579</td>\n",
              "      <td>0.607299</td>\n",
              "      <td>0.446040</td>\n",
              "      <td>1.000000</td>\n",
              "      <td>0.152343</td>\n",
              "      <td>0.590212</td>\n",
              "      <td>0.028770</td>\n",
              "      <td>0.097596</td>\n",
              "      <td>0.228497</td>\n",
              "      <td>0.419131</td>\n",
              "      <td>0.453840</td>\n",
              "    </tr>\n",
              "    <tr>\n",
              "      <th>condition</th>\n",
              "      <td>-0.094181</td>\n",
              "      <td>0.244024</td>\n",
              "      <td>0.154302</td>\n",
              "      <td>0.152343</td>\n",
              "      <td>1.000000</td>\n",
              "      <td>0.243563</td>\n",
              "      <td>0.111390</td>\n",
              "      <td>0.131833</td>\n",
              "      <td>0.197622</td>\n",
              "      <td>0.166668</td>\n",
              "      <td>0.241007</td>\n",
              "    </tr>\n",
              "    <tr>\n",
              "      <th>fuel</th>\n",
              "      <td>-0.757673</td>\n",
              "      <td>0.865217</td>\n",
              "      <td>0.594822</td>\n",
              "      <td>0.590212</td>\n",
              "      <td>0.243563</td>\n",
              "      <td>1.000000</td>\n",
              "      <td>0.047094</td>\n",
              "      <td>0.171787</td>\n",
              "      <td>0.393422</td>\n",
              "      <td>0.616275</td>\n",
              "      <td>0.655799</td>\n",
              "    </tr>\n",
              "    <tr>\n",
              "      <th>title_status</th>\n",
              "      <td>-0.009833</td>\n",
              "      <td>0.043851</td>\n",
              "      <td>0.041729</td>\n",
              "      <td>0.028770</td>\n",
              "      <td>0.111390</td>\n",
              "      <td>0.047094</td>\n",
              "      <td>1.000000</td>\n",
              "      <td>0.015087</td>\n",
              "      <td>0.026807</td>\n",
              "      <td>0.035012</td>\n",
              "      <td>0.073048</td>\n",
              "    </tr>\n",
              "    <tr>\n",
              "      <th>transmission</th>\n",
              "      <td>-0.124441</td>\n",
              "      <td>0.181082</td>\n",
              "      <td>0.144062</td>\n",
              "      <td>0.097596</td>\n",
              "      <td>0.131833</td>\n",
              "      <td>0.171787</td>\n",
              "      <td>0.015087</td>\n",
              "      <td>1.000000</td>\n",
              "      <td>0.134352</td>\n",
              "      <td>0.152440</td>\n",
              "      <td>0.208715</td>\n",
              "    </tr>\n",
              "    <tr>\n",
              "      <th>drive</th>\n",
              "      <td>-0.308154</td>\n",
              "      <td>0.415462</td>\n",
              "      <td>0.271809</td>\n",
              "      <td>0.228497</td>\n",
              "      <td>0.197622</td>\n",
              "      <td>0.393422</td>\n",
              "      <td>0.026807</td>\n",
              "      <td>0.134352</td>\n",
              "      <td>1.000000</td>\n",
              "      <td>0.249392</td>\n",
              "      <td>0.271451</td>\n",
              "    </tr>\n",
              "    <tr>\n",
              "      <th>paint_color</th>\n",
              "      <td>-0.579383</td>\n",
              "      <td>0.693645</td>\n",
              "      <td>0.514001</td>\n",
              "      <td>0.419131</td>\n",
              "      <td>0.166668</td>\n",
              "      <td>0.616275</td>\n",
              "      <td>0.035012</td>\n",
              "      <td>0.152440</td>\n",
              "      <td>0.249392</td>\n",
              "      <td>1.000000</td>\n",
              "      <td>0.560273</td>\n",
              "    </tr>\n",
              "    <tr>\n",
              "      <th>state</th>\n",
              "      <td>-0.623870</td>\n",
              "      <td>0.747828</td>\n",
              "      <td>0.558153</td>\n",
              "      <td>0.453840</td>\n",
              "      <td>0.241007</td>\n",
              "      <td>0.655799</td>\n",
              "      <td>0.073048</td>\n",
              "      <td>0.208715</td>\n",
              "      <td>0.271451</td>\n",
              "      <td>0.560273</td>\n",
              "      <td>1.000000</td>\n",
              "    </tr>\n",
              "  </tbody>\n",
              "</table>\n",
              "</div>"
            ],
            "text/plain": [
              "                 price      year  manufacturer  ...     drive  paint_color     state\n",
              "price         1.000000 -0.863927     -0.625674  ... -0.308154    -0.579383 -0.623870\n",
              "year         -0.863927  1.000000      0.721438  ...  0.415462     0.693645  0.747828\n",
              "manufacturer -0.625674  0.721438      1.000000  ...  0.271809     0.514001  0.558153\n",
              "model        -0.767579  0.607299      0.446040  ...  0.228497     0.419131  0.453840\n",
              "condition    -0.094181  0.244024      0.154302  ...  0.197622     0.166668  0.241007\n",
              "fuel         -0.757673  0.865217      0.594822  ...  0.393422     0.616275  0.655799\n",
              "title_status -0.009833  0.043851      0.041729  ...  0.026807     0.035012  0.073048\n",
              "transmission -0.124441  0.181082      0.144062  ...  0.134352     0.152440  0.208715\n",
              "drive        -0.308154  0.415462      0.271809  ...  1.000000     0.249392  0.271451\n",
              "paint_color  -0.579383  0.693645      0.514001  ...  0.249392     1.000000  0.560273\n",
              "state        -0.623870  0.747828      0.558153  ...  0.271451     0.560273  1.000000\n",
              "\n",
              "[11 rows x 11 columns]"
            ]
          },
          "metadata": {
            "tags": []
          },
          "execution_count": 33
        }
      ]
    },
    {
      "cell_type": "markdown",
      "metadata": {
        "colab_type": "text",
        "id": "GFwYxFQKkNJu"
      },
      "source": [
        "# Outlier detection\n"
      ]
    },
    {
      "cell_type": "code",
      "metadata": {
        "colab_type": "code",
        "outputId": "15878198-2ef3-4c63-f88f-dc6475aba33d",
        "id": "cTiB3JI6kNIc",
        "colab": {
          "base_uri": "https://localhost:8080/",
          "height": 356
        }
      },
      "source": [
        "import matplotlib as mpl\n",
        "from matplotlib import pyplot as plt\n",
        "mpl.rcParams['figure.dpi'] = 100\n",
        "plt.figure(figsize=(100, 100))\n",
        "f, axes = plt.subplots(1, 2)\n",
        "sns.boxplot(y=df[\"year\"], ax=axes[0])\n",
        "sns.boxplot(y=df[\"manufacturer\"], ax=axes[1])\n",
        "plt.subplots_adjust(wspace=1)"
      ],
      "execution_count": 0,
      "outputs": [
        {
          "output_type": "display_data",
          "data": {
            "text/plain": [
              "<Figure size 10000x10000 with 0 Axes>"
            ]
          },
          "metadata": {
            "tags": []
          }
        },
        {
          "output_type": "display_data",
          "data": {
            "image/png": "[encoded data removed]",
            "text/plain": [
              "<Figure size 600x400 with 2 Axes>"
            ]
          },
          "metadata": {
            "tags": []
          }
        }
      ]
    },
    {
      "cell_type": "code",
      "metadata": {
        "id": "h_sLX83f1DAh",
        "colab_type": "code",
        "outputId": "fa6c3619-8eca-4bd0-99ad-0e7b08bd2ac6",
        "colab": {
          "base_uri": "https://localhost:8080/",
          "height": 204
        }
      },
      "source": [
        "df.head()"
      ],
      "execution_count": 0,
      "outputs": [
        {
          "output_type": "execute_result",
          "data": {
            "text/html": [
              "<div>\n",
              "<style scoped>\n",
              "    .dataframe tbody tr th:only-of-type {\n",
              "        vertical-align: middle;\n",
              "    }\n",
              "\n",
              "    .dataframe tbody tr th {\n",
              "        vertical-align: top;\n",
              "    }\n",
              "\n",
              "    .dataframe thead th {\n",
              "        text-align: right;\n",
              "    }\n",
              "</style>\n",
              "<table border=\"1\" class=\"dataframe\">\n",
              "  <thead>\n",
              "    <tr style=\"text-align: right;\">\n",
              "      <th></th>\n",
              "      <th>price</th>\n",
              "      <th>year</th>\n",
              "      <th>manufacturer</th>\n",
              "      <th>model</th>\n",
              "      <th>condition</th>\n",
              "      <th>fuel</th>\n",
              "      <th>title_status</th>\n",
              "      <th>transmission</th>\n",
              "      <th>drive</th>\n",
              "      <th>paint_color</th>\n",
              "      <th>state</th>\n",
              "    </tr>\n",
              "  </thead>\n",
              "  <tbody>\n",
              "    <tr>\n",
              "      <th>0</th>\n",
              "      <td>0.986428</td>\n",
              "      <td>0.110883</td>\n",
              "      <td>0.002094</td>\n",
              "      <td>0.121078</td>\n",
              "      <td>0.0</td>\n",
              "      <td>0.000110</td>\n",
              "      <td>0.0</td>\n",
              "      <td>0.000055</td>\n",
              "      <td>0.0</td>\n",
              "      <td>0.000000</td>\n",
              "      <td>0.0</td>\n",
              "    </tr>\n",
              "    <tr>\n",
              "      <th>1</th>\n",
              "      <td>0.000000</td>\n",
              "      <td>0.752564</td>\n",
              "      <td>0.004480</td>\n",
              "      <td>0.658493</td>\n",
              "      <td>0.0</td>\n",
              "      <td>0.000747</td>\n",
              "      <td>0.0</td>\n",
              "      <td>0.000000</td>\n",
              "      <td>0.0</td>\n",
              "      <td>0.003733</td>\n",
              "      <td>0.0</td>\n",
              "    </tr>\n",
              "    <tr>\n",
              "      <th>2</th>\n",
              "      <td>0.996578</td>\n",
              "      <td>0.043219</td>\n",
              "      <td>0.000279</td>\n",
              "      <td>0.070459</td>\n",
              "      <td>0.0</td>\n",
              "      <td>0.000043</td>\n",
              "      <td>0.0</td>\n",
              "      <td>0.000000</td>\n",
              "      <td>0.0</td>\n",
              "      <td>0.000214</td>\n",
              "      <td>0.0</td>\n",
              "    </tr>\n",
              "    <tr>\n",
              "      <th>3</th>\n",
              "      <td>0.000000</td>\n",
              "      <td>0.752564</td>\n",
              "      <td>0.004480</td>\n",
              "      <td>0.658493</td>\n",
              "      <td>0.0</td>\n",
              "      <td>0.000747</td>\n",
              "      <td>0.0</td>\n",
              "      <td>0.000000</td>\n",
              "      <td>0.0</td>\n",
              "      <td>0.003733</td>\n",
              "      <td>0.0</td>\n",
              "    </tr>\n",
              "    <tr>\n",
              "      <th>4</th>\n",
              "      <td>0.998509</td>\n",
              "      <td>0.040301</td>\n",
              "      <td>0.000240</td>\n",
              "      <td>0.036806</td>\n",
              "      <td>0.0</td>\n",
              "      <td>0.000000</td>\n",
              "      <td>0.0</td>\n",
              "      <td>0.000000</td>\n",
              "      <td>0.0</td>\n",
              "      <td>0.000200</td>\n",
              "      <td>0.0</td>\n",
              "    </tr>\n",
              "  </tbody>\n",
              "</table>\n",
              "</div>"
            ],
            "text/plain": [
              "      price      year  manufacturer  ...  drive  paint_color  state\n",
              "0  0.986428  0.110883      0.002094  ...    0.0     0.000000    0.0\n",
              "1  0.000000  0.752564      0.004480  ...    0.0     0.003733    0.0\n",
              "2  0.996578  0.043219      0.000279  ...    0.0     0.000214    0.0\n",
              "3  0.000000  0.752564      0.004480  ...    0.0     0.003733    0.0\n",
              "4  0.998509  0.040301      0.000240  ...    0.0     0.000200    0.0\n",
              "\n",
              "[5 rows x 11 columns]"
            ]
          },
          "metadata": {
            "tags": []
          },
          "execution_count": 36
        }
      ]
    },
    {
      "cell_type": "code",
      "metadata": {
        "id": "i7kdjzZj7yRE",
        "colab_type": "code",
        "outputId": "41ceb2db-dc86-4f25-af85-a031733a52c3",
        "colab": {
          "base_uri": "https://localhost:8080/",
          "height": 221
        }
      },
      "source": [
        "df.count()"
      ],
      "execution_count": 0,
      "outputs": [
        {
          "output_type": "execute_result",
          "data": {
            "text/plain": [
              "price           20001\n",
              "year            20001\n",
              "manufacturer    20001\n",
              "model           20001\n",
              "condition       20001\n",
              "fuel            20001\n",
              "title_status    20001\n",
              "transmission    20001\n",
              "drive           20001\n",
              "paint_color     20001\n",
              "state           20001\n",
              "dtype: int64"
            ]
          },
          "metadata": {
            "tags": []
          },
          "execution_count": 37
        }
      ]
    },
    {
      "cell_type": "markdown",
      "metadata": {
        "id": "F3nr_-hwrsy7",
        "colab_type": "text"
      },
      "source": [
        "# Clustering"
      ]
    },
    {
      "cell_type": "markdown",
      "metadata": {
        "id": "KoUUdQgpieE7",
        "colab_type": "text"
      },
      "source": [
        "Ambil 2 kolom untuk clustering"
      ]
    },
    {
      "cell_type": "code",
      "metadata": {
        "id": "Vgdce8-gNoWe",
        "colab_type": "code",
        "colab": {}
      },
      "source": [
        "from sklearn.cluster import KMeans\n",
        "from scipy.spatial.distance import cdist"
      ],
      "execution_count": 0,
      "outputs": []
    },
    {
      "cell_type": "code",
      "metadata": {
        "id": "gPufIE0muUlJ",
        "colab_type": "code",
        "outputId": "ada05b1b-c527-4b62-df97-41058615a657",
        "colab": {
          "base_uri": "https://localhost:8080/",
          "height": 204
        }
      },
      "source": [
        "df.head()"
      ],
      "execution_count": 0,
      "outputs": [
        {
          "output_type": "execute_result",
          "data": {
            "text/html": [
              "<div>\n",
              "<style scoped>\n",
              "    .dataframe tbody tr th:only-of-type {\n",
              "        vertical-align: middle;\n",
              "    }\n",
              "\n",
              "    .dataframe tbody tr th {\n",
              "        vertical-align: top;\n",
              "    }\n",
              "\n",
              "    .dataframe thead th {\n",
              "        text-align: right;\n",
              "    }\n",
              "</style>\n",
              "<table border=\"1\" class=\"dataframe\">\n",
              "  <thead>\n",
              "    <tr style=\"text-align: right;\">\n",
              "      <th></th>\n",
              "      <th>price</th>\n",
              "      <th>year</th>\n",
              "      <th>manufacturer</th>\n",
              "      <th>model</th>\n",
              "      <th>condition</th>\n",
              "      <th>fuel</th>\n",
              "      <th>title_status</th>\n",
              "      <th>transmission</th>\n",
              "      <th>drive</th>\n",
              "      <th>paint_color</th>\n",
              "      <th>state</th>\n",
              "    </tr>\n",
              "  </thead>\n",
              "  <tbody>\n",
              "    <tr>\n",
              "      <th>0</th>\n",
              "      <td>0.986428</td>\n",
              "      <td>0.110883</td>\n",
              "      <td>0.002094</td>\n",
              "      <td>0.121078</td>\n",
              "      <td>0.0</td>\n",
              "      <td>0.000110</td>\n",
              "      <td>0.0</td>\n",
              "      <td>0.000055</td>\n",
              "      <td>0.0</td>\n",
              "      <td>0.000000</td>\n",
              "      <td>0.0</td>\n",
              "    </tr>\n",
              "    <tr>\n",
              "      <th>1</th>\n",
              "      <td>0.000000</td>\n",
              "      <td>0.752564</td>\n",
              "      <td>0.004480</td>\n",
              "      <td>0.658493</td>\n",
              "      <td>0.0</td>\n",
              "      <td>0.000747</td>\n",
              "      <td>0.0</td>\n",
              "      <td>0.000000</td>\n",
              "      <td>0.0</td>\n",
              "      <td>0.003733</td>\n",
              "      <td>0.0</td>\n",
              "    </tr>\n",
              "    <tr>\n",
              "      <th>2</th>\n",
              "      <td>0.996578</td>\n",
              "      <td>0.043219</td>\n",
              "      <td>0.000279</td>\n",
              "      <td>0.070459</td>\n",
              "      <td>0.0</td>\n",
              "      <td>0.000043</td>\n",
              "      <td>0.0</td>\n",
              "      <td>0.000000</td>\n",
              "      <td>0.0</td>\n",
              "      <td>0.000214</td>\n",
              "      <td>0.0</td>\n",
              "    </tr>\n",
              "    <tr>\n",
              "      <th>3</th>\n",
              "      <td>0.000000</td>\n",
              "      <td>0.752564</td>\n",
              "      <td>0.004480</td>\n",
              "      <td>0.658493</td>\n",
              "      <td>0.0</td>\n",
              "      <td>0.000747</td>\n",
              "      <td>0.0</td>\n",
              "      <td>0.000000</td>\n",
              "      <td>0.0</td>\n",
              "      <td>0.003733</td>\n",
              "      <td>0.0</td>\n",
              "    </tr>\n",
              "    <tr>\n",
              "      <th>4</th>\n",
              "      <td>0.998509</td>\n",
              "      <td>0.040301</td>\n",
              "      <td>0.000240</td>\n",
              "      <td>0.036806</td>\n",
              "      <td>0.0</td>\n",
              "      <td>0.000000</td>\n",
              "      <td>0.0</td>\n",
              "      <td>0.000000</td>\n",
              "      <td>0.0</td>\n",
              "      <td>0.000200</td>\n",
              "      <td>0.0</td>\n",
              "    </tr>\n",
              "  </tbody>\n",
              "</table>\n",
              "</div>"
            ],
            "text/plain": [
              "      price      year  manufacturer  ...  drive  paint_color  state\n",
              "0  0.986428  0.110883      0.002094  ...    0.0     0.000000    0.0\n",
              "1  0.000000  0.752564      0.004480  ...    0.0     0.003733    0.0\n",
              "2  0.996578  0.043219      0.000279  ...    0.0     0.000214    0.0\n",
              "3  0.000000  0.752564      0.004480  ...    0.0     0.003733    0.0\n",
              "4  0.998509  0.040301      0.000240  ...    0.0     0.000200    0.0\n",
              "\n",
              "[5 rows x 11 columns]"
            ]
          },
          "metadata": {
            "tags": []
          },
          "execution_count": 39
        }
      ]
    },
    {
      "cell_type": "code",
      "metadata": {
        "id": "IAjQplmV-thZ",
        "colab_type": "code",
        "outputId": "30ff94aa-5ad7-42fb-8cec-c88869e5fb98",
        "colab": {
          "base_uri": "https://localhost:8080/",
          "height": 255
        }
      },
      "source": [
        "# Mengambil year dan manufacture sebagai data yang ingin dikelompokkan\n",
        "print(df.iloc[:, [1, 2]])\n",
        "cluster = df.iloc[:, [1, 2]].values"
      ],
      "execution_count": 0,
      "outputs": [
        {
          "output_type": "stream",
          "text": [
            "           year  manufacturer\n",
            "0      0.110883      0.002094\n",
            "1      0.752564      0.004480\n",
            "2      0.043219      0.000279\n",
            "3      0.752564      0.004480\n",
            "4      0.040301      0.000240\n",
            "...         ...           ...\n",
            "19996  0.040273      0.000639\n",
            "19997  0.158722      0.002281\n",
            "19998  0.672141      0.006325\n",
            "19999  0.135788      0.002491\n",
            "20000  0.055994      0.001026\n",
            "\n",
            "[20001 rows x 2 columns]\n"
          ],
          "name": "stdout"
        }
      ]
    },
    {
      "cell_type": "markdown",
      "metadata": {
        "id": "epZUAiSQii5B",
        "colab_type": "text"
      },
      "source": [
        "Cari nilai K menggunakan elbow method distortion"
      ]
    },
    {
      "cell_type": "code",
      "metadata": {
        "id": "HsQQR4q1Gthk",
        "colab_type": "code",
        "colab": {}
      },
      "source": [
        "from matplotlib import pyplot as plt\n",
        "import numpy as np\n",
        "\n",
        "distortions = []\n",
        "K = range(1,10)\n",
        "for i in K:\n",
        "  kmeanModel = KMeans(n_clusters=i).fit(cluster)\n",
        "  kmeanModel.fit(cluster)\n",
        "  distortions.append(sum(np.min(cdist(cluster, kmeanModel.cluster_centers_, 'euclidean'), axis=1)) /cluster.shape[0] ) "
      ],
      "execution_count": 0,
      "outputs": []
    },
    {
      "cell_type": "code",
      "metadata": {
        "id": "M3GCpllEIIiK",
        "colab_type": "code",
        "outputId": "302a8c4b-c67a-4bfd-da14-5d4fa2a0e5ca",
        "colab": {
          "base_uri": "https://localhost:8080/",
          "height": 438
        }
      },
      "source": [
        "#plot elbow method\n",
        "plt.plot(K, distortions, 'bx-')\n",
        "plt.xlabel('values of k')\n",
        "plt.ylabel('distortion')\n",
        "plt.title('The Elbow Method using Distortion')\n",
        "fig = plt.figure(figsize=(5, 5))\n",
        "plt.show"
      ],
      "execution_count": 0,
      "outputs": [
        {
          "output_type": "execute_result",
          "data": {
            "text/plain": [
              "<function matplotlib.pyplot.show>"
            ]
          },
          "metadata": {
            "tags": []
          },
          "execution_count": 42
        },
        {
          "output_type": "display_data",
          "data": {
            "image/png": "[encoded data removed]",
            "text/plain": [
              "<Figure size 600x400 with 1 Axes>"
            ]
          },
          "metadata": {
            "tags": []
          }
        },
        {
          "output_type": "display_data",
          "data": {
            "text/plain": [
              "<Figure size 500x500 with 0 Axes>"
            ]
          },
          "metadata": {
            "tags": []
          }
        }
      ]
    },
    {
      "cell_type": "code",
      "metadata": {
        "id": "MCYmv4F6SnGC",
        "colab_type": "code",
        "outputId": "b986f23c-ab1d-4314-8e20-7c8343d0997b",
        "colab": {
          "base_uri": "https://localhost:8080/",
          "height": 34
        }
      },
      "source": [
        "cluster.shape"
      ],
      "execution_count": 0,
      "outputs": [
        {
          "output_type": "execute_result",
          "data": {
            "text/plain": [
              "(20001, 2)"
            ]
          },
          "metadata": {
            "tags": []
          },
          "execution_count": 43
        }
      ]
    },
    {
      "cell_type": "code",
      "metadata": {
        "id": "gWYTva346y0O",
        "colab_type": "code",
        "colab": {}
      },
      "source": [
        "import math"
      ],
      "execution_count": 0,
      "outputs": []
    },
    {
      "cell_type": "markdown",
      "metadata": {
        "id": "zkhqI4vGR9BV",
        "colab_type": "text"
      },
      "source": [
        "## Nilai K = 2"
      ]
    },
    {
      "cell_type": "code",
      "metadata": {
        "colab_type": "code",
        "id": "3__KUQ5SSR1f",
        "colab": {}
      },
      "source": [
        "# Inisiasi nilai K\n",
        "K = 2"
      ],
      "execution_count": 0,
      "outputs": []
    },
    {
      "cell_type": "code",
      "metadata": {
        "id": "cZsWzSx13EPh",
        "colab_type": "code",
        "colab": {}
      },
      "source": [
        "# manufacturer dan paint color untuk data yang akan di cluster\n",
        "cluster = df.iloc[:, [1, 2]].values"
      ],
      "execution_count": 0,
      "outputs": []
    },
    {
      "cell_type": "markdown",
      "metadata": {
        "colab_type": "text",
        "id": "e7JKI6KxSR2t"
      },
      "source": [
        "Plot sebaran data"
      ]
    },
    {
      "cell_type": "code",
      "metadata": {
        "colab_type": "code",
        "outputId": "feca2e18-5e0d-4e37-a958-6dfa8100dba1",
        "id": "5ppwDgIaSR2z",
        "colab": {
          "base_uri": "https://localhost:8080/",
          "height": 362
        }
      },
      "source": [
        "import matplotlib.pyplot as plt\n",
        "plt.scatter(cluster[ : , 0], cluster[ :, 1], s = 5, c = 'b')\n",
        "plt.show()"
      ],
      "execution_count": 0,
      "outputs": [
        {
          "output_type": "display_data",
          "data": {
            "image/png": "[encoded data removed]",
            "text/plain": [
              "<Figure size 600x400 with 1 Axes>"
            ]
          },
          "metadata": {
            "tags": []
          }
        }
      ]
    },
    {
      "cell_type": "code",
      "metadata": {
        "colab_type": "code",
        "id": "-Ejq7I4aSR3M",
        "outputId": "5b67c491-ef62-40b0-9df1-bf851d7fd601",
        "colab": {
          "base_uri": "https://localhost:8080/",
          "height": 51
        }
      },
      "source": [
        "# Inisiasi kolom yang dipakai \n",
        "dx = cluster[ : , 0].tolist()\n",
        "dy = cluster[ : , 1].tolist()\n",
        "print(max(dx))\n",
        "print(max(dy))"
      ],
      "execution_count": 0,
      "outputs": [
        {
          "output_type": "stream",
          "text": [
            "0.9999750015687108\n",
            "0.018158637138596657\n"
          ],
          "name": "stdout"
        }
      ]
    },
    {
      "cell_type": "code",
      "metadata": {
        "colab_type": "code",
        "id": "mum2SPMVSR3Y",
        "colab": {}
      },
      "source": [
        "# Menggabungkan data kolom manufacture dan paint_color\n",
        "titik = list(zip(dx, dy))"
      ],
      "execution_count": 0,
      "outputs": []
    },
    {
      "cell_type": "code",
      "metadata": {
        "colab_type": "code",
        "id": "qy60slBqSR3l",
        "colab": {}
      },
      "source": [
        "import random"
      ],
      "execution_count": 0,
      "outputs": []
    },
    {
      "cell_type": "code",
      "metadata": {
        "colab_type": "code",
        "id": "wxZLabGMSR3y",
        "colab": {}
      },
      "source": [
        "def cekcentroid(centroid1,centroid2): \n",
        "  cobax = random.uniform(0,1)\n",
        "  cobay = random.uniform(0,0.0182)\n",
        "  if (cobax!=centroid1[0]) and (cobay!=centroid1[1]) and (centroid2==0):\n",
        "    centroid2 = [cobax,cobay]\n",
        "    return centroid2"
      ],
      "execution_count": 0,
      "outputs": []
    },
    {
      "cell_type": "code",
      "metadata": {
        "colab_type": "code",
        "outputId": "a73e2f50-f802-4ec5-ffc6-4fcd8cbf42c8",
        "id": "_0V1yZKCSR4C",
        "colab": {
          "base_uri": "https://localhost:8080/",
          "height": 51
        }
      },
      "source": [
        "cobax = random.uniform(0,1)\n",
        "cobay = random.uniform(0,0.0182)\n",
        "centroid1 = [cobax,cobay]\n",
        "centroid2 = cekcentroid(centroid1,0)\n",
        "# centroid3 = cekcentroid(centroid1,centroid2)\n",
        "print(centroid1)\n",
        "print(centroid2)\n",
        "# print(centroid3)"
      ],
      "execution_count": 0,
      "outputs": [
        {
          "output_type": "stream",
          "text": [
            "[0.8656546445825793, 0.010592542961164405]\n",
            "[0.03178364602764594, 1.2987690437715728e-05]\n"
          ],
          "name": "stdout"
        }
      ]
    },
    {
      "cell_type": "code",
      "metadata": {
        "colab_type": "code",
        "outputId": "f91f42a0-cd15-4feb-c0b5-ad86e91f8823",
        "id": "3nrK3tCnSR4T",
        "colab": {
          "base_uri": "https://localhost:8080/",
          "height": 399
        }
      },
      "source": [
        "plt.scatter(dx, dy, s = 5, c = 'b')\n",
        "plt.scatter(centroid1[0], centroid1[1], c='r')\n",
        "plt.scatter(centroid2[0], centroid2[1], c='y')\n",
        "# plt.scatter(centroid3[0], centroid3[1], c='black')\n",
        "plt.xlabel('manufacturer')\n",
        "plt.ylabel('year')"
      ],
      "execution_count": 0,
      "outputs": [
        {
          "output_type": "execute_result",
          "data": {
            "text/plain": [
              "Text(0, 0.5, 'year')"
            ]
          },
          "metadata": {
            "tags": []
          },
          "execution_count": 53
        },
        {
          "output_type": "display_data",
          "data": {
            "image/png": "[encoded data removed]",
            "text/plain": [
              "<Figure size 600x400 with 1 Axes>"
            ]
          },
          "metadata": {
            "tags": []
          }
        }
      ]
    },
    {
      "cell_type": "code",
      "metadata": {
        "colab_type": "code",
        "outputId": "9a901c2c-03e8-426e-f74d-ea3f5a839f8a",
        "id": "hqHgkTvySR41",
        "colab": {
          "base_uri": "https://localhost:8080/",
          "height": 399
        }
      },
      "source": [
        "cek = False\n",
        "while cek != True:\n",
        "  # Proses menklusterkan\n",
        "  #clusAr = kolomA RED, clusAy = kolomA YELLOW, \n",
        "  clusAr, clusAy = [], []\n",
        "  clusBr, clusBy = [], []\n",
        "  clusterfix = []\n",
        "  for i in titik:\n",
        "    # Menghitung jarak 2 titik dengan Euclidian Distance\n",
        "    #jarak antara titik i dengan centroid pertama (red))\n",
        "    hitung1 = math.sqrt((i[0] - centroid1[0])**2 + (i[1] - centroid1[1])**2)\n",
        "    #jarak antara titik i dengan centroid kedua (yellow)\n",
        "    hitung2 = math.sqrt((i[0] - centroid2[0])**2 + (i[1] - centroid2[1])**2)\n",
        "\n",
        "    if min(hitung1, hitung2) == hitung1:\n",
        "      # red\n",
        "      clusAr.append(i[0])\n",
        "      clusBr.append(i[1])\n",
        "      clusterfix.append(1)\n",
        "    elif min(hitung1, hitung2) == hitung2:\n",
        "      # yellow\n",
        "      clusAy.append(i[0])\n",
        "      clusBy.append(i[1])\n",
        "      clusterfix.append(2)\n",
        "  #endfor\n",
        "\n",
        "  # a,b,c untuk menyimpan centroid sebelumnya\n",
        "  a = centroid1\n",
        "  b = centroid2\n",
        "\n",
        "  # Update centroid\n",
        "  centroid1 = [sum(clusAr)/len(clusAr), sum(clusBr)/len(clusBr)]\n",
        "  centroid2 = [sum(clusAy)/len(clusAy), sum(clusBy)/len(clusBy)]\n",
        "\n",
        "  # Cek apakah centroid tetap atau berubah\n",
        "  if (centroid1 == a) and (centroid2 == b):\n",
        "      cek = True\n",
        "\n",
        "#endwhile\n",
        "\n",
        "plt.scatter(dx, dy, s = 10, c = 'b')\n",
        "plt.scatter(clusAr, clusBr, c='r')\n",
        "plt.scatter(clusAy, clusBy, c='y')\n",
        "# plt.scatter(centroid1[0], centroid1[1], c='blue')\n",
        "# plt.scatter(centroid2[0], centroid2[1], c='black')\n",
        "plt.xlabel('manufacturer')\n",
        "plt.ylabel('year')"
      ],
      "execution_count": 0,
      "outputs": [
        {
          "output_type": "execute_result",
          "data": {
            "text/plain": [
              "Text(0, 0.5, 'year')"
            ]
          },
          "metadata": {
            "tags": []
          },
          "execution_count": 54
        },
        {
          "output_type": "display_data",
          "data": {
            "image/png": "[encoded data removed]",
            "text/plain": [
              "<Figure size 600x400 with 1 Axes>"
            ]
          },
          "metadata": {
            "tags": []
          }
        }
      ]
    },
    {
      "cell_type": "code",
      "metadata": {
        "id": "bgKBTscfOlr6",
        "colab_type": "code",
        "colab": {}
      },
      "source": [
        "clusterfix = pd.DataFrame(clusterfix, columns=['Cluster'] )"
      ],
      "execution_count": 0,
      "outputs": []
    },
    {
      "cell_type": "code",
      "metadata": {
        "id": "p-zYdT0zTmGo",
        "colab_type": "code",
        "colab": {}
      },
      "source": [
        "result = df.join(clusterfix)"
      ],
      "execution_count": 0,
      "outputs": []
    },
    {
      "cell_type": "code",
      "metadata": {
        "id": "hzwf5w32QlXs",
        "colab_type": "code",
        "colab": {}
      },
      "source": [
        "result.to_csv('used_cars_clusterK2.csv')"
      ],
      "execution_count": 0,
      "outputs": []
    },
    {
      "cell_type": "markdown",
      "metadata": {
        "colab_type": "text",
        "id": "HjHzExDj6TkF"
      },
      "source": [
        "### Evaluasi"
      ]
    },
    {
      "cell_type": "code",
      "metadata": {
        "colab_type": "code",
        "outputId": "c842d1ed-94a3-4e27-9a20-15b0da098988",
        "id": "C0-rkFQ46TkG",
        "colab": {
          "base_uri": "https://localhost:8080/",
          "height": 68
        }
      },
      "source": [
        "# Menggunakan SSE\n",
        "#centroid1 red\n",
        "jumlah1 = 0\n",
        "for i in range(len(clusAr)):\n",
        "  jarakcentro = (clusAr[i]-centroid1[0])**2 + (clusBr[i]-centroid1[1])**2\n",
        "  jumlah1 = jumlah1 + jarakcentro\n",
        "print(\"centroid 1 =\", jumlah1)\n",
        "#centroid2 yellow\n",
        "jumlah2 = 0\n",
        "for i in range(len(clusAy)):\n",
        "  jarakcentro = (clusAy[i]-centroid2[0])**2 + (clusBy[i]-centroid2[1])**2\n",
        "  jumlah2 = jumlah2 + jarakcentro\n",
        "print(\"centroid 2 =\",jumlah2)\n",
        "SSE = jumlah1 + jumlah2\n",
        "print(\"SSE =\", SSE)"
      ],
      "execution_count": 0,
      "outputs": [
        {
          "output_type": "stream",
          "text": [
            "centroid 1 = 158.46707526524975\n",
            "centroid 2 = 135.75017170275672\n",
            "SSE = 294.21724696800646\n"
          ],
          "name": "stdout"
        }
      ]
    },
    {
      "cell_type": "markdown",
      "metadata": {
        "id": "HSWvhzr6SCtA",
        "colab_type": "text"
      },
      "source": [
        "## Nilai K = 3"
      ]
    },
    {
      "cell_type": "code",
      "metadata": {
        "id": "vjOcOaOGBIPj",
        "colab_type": "code",
        "colab": {}
      },
      "source": [
        "# Inisiasi nilai K\n",
        "K = 3"
      ],
      "execution_count": 0,
      "outputs": []
    },
    {
      "cell_type": "markdown",
      "metadata": {
        "id": "CUQGTdfqip5j",
        "colab_type": "text"
      },
      "source": [
        "Plot sebaran data"
      ]
    },
    {
      "cell_type": "code",
      "metadata": {
        "id": "utsdWyNDdFu_",
        "colab_type": "code",
        "outputId": "930d4bcc-164e-4de7-bbfd-b04434493978",
        "colab": {
          "base_uri": "https://localhost:8080/",
          "height": 362
        }
      },
      "source": [
        "import matplotlib.pyplot as plt\n",
        "plt.scatter(cluster[ : , 0], cluster[ :, 1], s = 5, c = 'b')\n",
        "plt.show()"
      ],
      "execution_count": 0,
      "outputs": [
        {
          "output_type": "display_data",
          "data": {
            "image/png": "[encoded data removed]",
            "text/plain": [
              "<Figure size 600x400 with 1 Axes>"
            ]
          },
          "metadata": {
            "tags": []
          }
        }
      ]
    },
    {
      "cell_type": "markdown",
      "metadata": {
        "id": "-0ovcl1FAS8E",
        "colab_type": "text"
      },
      "source": [
        "Buat centroid random"
      ]
    },
    {
      "cell_type": "code",
      "metadata": {
        "id": "93Cgu-vMcEfZ",
        "colab_type": "code",
        "colab": {}
      },
      "source": [
        "# Inisiasi kolom yang dipakai \n",
        "dx = cluster[ : , 0].tolist()\n",
        "dy = cluster[ : , 1].tolist()"
      ],
      "execution_count": 0,
      "outputs": []
    },
    {
      "cell_type": "code",
      "metadata": {
        "id": "v9ztPA77BkYp",
        "colab_type": "code",
        "colab": {}
      },
      "source": [
        "# Menggabungkan data kolom manufacture dan paint_color\n",
        "titik = list(zip(dx, dy))"
      ],
      "execution_count": 0,
      "outputs": []
    },
    {
      "cell_type": "code",
      "metadata": {
        "id": "rj-oMyo2CIS-",
        "colab_type": "code",
        "colab": {}
      },
      "source": [
        "import random"
      ],
      "execution_count": 0,
      "outputs": []
    },
    {
      "cell_type": "code",
      "metadata": {
        "id": "eH4kLUd_DXn_",
        "colab_type": "code",
        "colab": {}
      },
      "source": [
        "def cekcentroid(centroid1,centroid2): \n",
        "  cobax = random.uniform(0,0.1)\n",
        "  cobay = random.uniform(0,0.019)\n",
        "  if (cobax!=centroid1[0]) and (cobay!=centroid1[1]) and (centroid2==0):\n",
        "    centroid2 = [cobax,cobay]\n",
        "    return centroid2\n",
        "  elif(cobax!=centroid1[0]) and (cobay!=centroid1[1]) and (cobax!=centroid2[0]) and (cobay!=centroid2[1]):\n",
        "    centroid3 = [cobax,cobay]\n",
        "    return centroid3"
      ],
      "execution_count": 0,
      "outputs": []
    },
    {
      "cell_type": "code",
      "metadata": {
        "id": "Wlbi_ZIrrKYU",
        "colab_type": "code",
        "outputId": "494ce0e0-4a6b-4e0b-9c50-9b8d4b1b8bcf",
        "colab": {
          "base_uri": "https://localhost:8080/",
          "height": 68
        }
      },
      "source": [
        "cobax = random.uniform(0,0.1)\n",
        "cobay = random.uniform(0,0.019)\n",
        "centroid1 = [cobax,cobay]\n",
        "centroid2 = cekcentroid(centroid1,0)\n",
        "centroid3 = cekcentroid(centroid1,centroid2)\n",
        "print(centroid1)\n",
        "print(centroid2)\n",
        "print(centroid3)"
      ],
      "execution_count": 0,
      "outputs": [
        {
          "output_type": "stream",
          "text": [
            "[0.0543118458668756, 0.011873539103135362]\n",
            "[0.09189728102713142, 0.015009918963601052]\n",
            "[0.041571689062153507, 0.005941897296874768]\n"
          ],
          "name": "stdout"
        }
      ]
    },
    {
      "cell_type": "code",
      "metadata": {
        "id": "ZVCeDp1wHPw2",
        "colab_type": "code",
        "outputId": "12a69972-d1a4-4650-dabf-d20878d33f58",
        "colab": {
          "base_uri": "https://localhost:8080/",
          "height": 399
        }
      },
      "source": [
        "plt.scatter(dx, dy, s = 10, c = 'b')\n",
        "plt.scatter(centroid1[0], centroid1[1], c='r')\n",
        "plt.scatter(centroid2[0], centroid2[1], c='y')\n",
        "plt.scatter(centroid3[0], centroid3[1], c='black')\n",
        "plt.xlabel('manufacturer')\n",
        "plt.ylabel('paint_color')"
      ],
      "execution_count": 0,
      "outputs": [
        {
          "output_type": "execute_result",
          "data": {
            "text/plain": [
              "Text(0, 0.5, 'paint_color')"
            ]
          },
          "metadata": {
            "tags": []
          },
          "execution_count": 66
        },
        {
          "output_type": "display_data",
          "data": {
            "image/png": "[encoded data removed]",
            "text/plain": [
              "<Figure size 600x400 with 1 Axes>"
            ]
          },
          "metadata": {
            "tags": []
          }
        }
      ]
    },
    {
      "cell_type": "markdown",
      "metadata": {
        "id": "q_oMgZBxI-By",
        "colab_type": "text"
      },
      "source": [
        "Perulangan untuk centroid dengan euclidian"
      ]
    },
    {
      "cell_type": "code",
      "metadata": {
        "id": "613pWacaIPOs",
        "colab_type": "code",
        "outputId": "f621478e-f6b3-4300-a30f-bb0bc3e8fb1e",
        "colab": {
          "base_uri": "https://localhost:8080/",
          "height": 399
        }
      },
      "source": [
        "cek = False\n",
        "while cek != True:\n",
        "  clusterfix = []\n",
        "  # Proses menklusterkan\n",
        "  #clusAr = kolomA RED, clusAy = kolomA YELLOW, clusAb = kolomA BLACK\n",
        "  clusAr, clusAy, clusAb = [], [], []\n",
        "  clusBr, clusBy, clusBb = [], [], []\n",
        "  for i in titik:\n",
        "    # Menghitung jarak 2 titik dengan Euclidian Distance\n",
        "    #jarak antara titik i dengan centroid pertama (red))\n",
        "    hitung1 = math.sqrt((i[0] - centroid1[0])**2 + (i[1] - centroid1[1])**2)\n",
        "    #jarak antara titik i dengan centroid kedua (yellow)\n",
        "    hitung2 = math.sqrt((i[0] - centroid2[0])**2 + (i[1] - centroid2[1])**2)\n",
        "    #jarak antara titik i dengan centroid ketiga (black)\n",
        "    hitung3 = math.sqrt((i[0] - centroid3[0])**2 + (i[1] - centroid3[1])**2)\n",
        "\n",
        "    if min(hitung1, hitung2, hitung3) == hitung1:\n",
        "      # red titik\n",
        "      clusAr.append(i[0])\n",
        "      clusBr.append(i[1])\n",
        "      # titik AB masuk diklaster 1\n",
        "      clusterfix.append(1)\n",
        "    elif min(hitung1, hitung2, hitung3) == hitung2:\n",
        "      # yellow titik\n",
        "      clusAy.append(i[0])\n",
        "      clusBy.append(i[1])\n",
        "      # titik AB masuk diklaster 2\n",
        "      clusterfix.append(2)\n",
        "    elif min(hitung1, hitung2, hitung3) == hitung3:\n",
        "      # black titik\n",
        "      clusAb.append(i[0])\n",
        "      clusBb.append(i[1])\n",
        "      # titik AB masuk diklaster 3\n",
        "      clusterfix.append(3)\n",
        "  #endfor\n",
        "\n",
        "  # a,b,c untuk menyimpan centroid sebelumnya\n",
        "  a = centroid1\n",
        "  b = centroid2\n",
        "  c = centroid3\n",
        "\n",
        "  # Update centroid menghitung rata rata jarak di cluster tersebut\n",
        "  centroid1 = [sum(clusAr)/len(clusAr), sum(clusBr)/len(clusBr)]\n",
        "  centroid2 = [sum(clusAy)/len(clusAy), sum(clusBy)/len(clusBy)]\n",
        "  centroid3 = [sum(clusAb)/len(clusAb), sum(clusBb)/len(clusBb)]\n",
        "\n",
        "  # Cek apakah centroid tetap atau berubah\n",
        "  if (centroid1 == a) and (centroid2 == b) and (centroid3 == c):\n",
        "    cek = True\n",
        "\n",
        "#endwhile\n",
        "\n",
        "# plt.scatter(dx, dy, s = 10, c = 'b')\n",
        "plt.scatter(clusAr, clusBr, c='r')\n",
        "plt.scatter(clusAy, clusBy, c='y')\n",
        "plt.scatter(clusAb, clusBb, c='black')\n",
        "plt.xlabel('manufacturer')\n",
        "plt.ylabel('paint_color')"
      ],
      "execution_count": 0,
      "outputs": [
        {
          "output_type": "execute_result",
          "data": {
            "text/plain": [
              "Text(0, 0.5, 'paint_color')"
            ]
          },
          "metadata": {
            "tags": []
          },
          "execution_count": 67
        },
        {
          "output_type": "display_data",
          "data": {
            "image/png": "[encoded data removed]",
            "text/plain": [
              "<Figure size 600x400 with 1 Axes>"
            ]
          },
          "metadata": {
            "tags": []
          }
        }
      ]
    },
    {
      "cell_type": "code",
      "metadata": {
        "id": "8GY66GIlyuFh",
        "colab_type": "code",
        "outputId": "2fd3ad37-b823-4fa3-971e-4a3b6297332c",
        "colab": {
          "base_uri": "https://localhost:8080/",
          "height": 34
        }
      },
      "source": [
        "print(len(clusterfix))"
      ],
      "execution_count": 0,
      "outputs": [
        {
          "output_type": "stream",
          "text": [
            "20001\n"
          ],
          "name": "stdout"
        }
      ]
    },
    {
      "cell_type": "code",
      "metadata": {
        "colab_type": "code",
        "id": "k4w3_6IsVPmb",
        "colab": {}
      },
      "source": [
        "clusterfix = pd.DataFrame(clusterfix, columns=['Cluster'] )"
      ],
      "execution_count": 0,
      "outputs": []
    },
    {
      "cell_type": "code",
      "metadata": {
        "colab_type": "code",
        "id": "5lsux7cCVPmk",
        "colab": {}
      },
      "source": [
        "result = df.join(clusterfix)"
      ],
      "execution_count": 0,
      "outputs": []
    },
    {
      "cell_type": "code",
      "metadata": {
        "id": "jtdPAIbvVBmM",
        "colab_type": "code",
        "colab": {}
      },
      "source": [
        "result.to_csv('used_cars_clusterK3.csv')"
      ],
      "execution_count": 0,
      "outputs": []
    },
    {
      "cell_type": "markdown",
      "metadata": {
        "id": "ADLlLnLuu9q3",
        "colab_type": "text"
      },
      "source": [
        "### Evaluasi"
      ]
    },
    {
      "cell_type": "code",
      "metadata": {
        "id": "IPIMuEvbvAvu",
        "colab_type": "code",
        "outputId": "d6c56952-e448-48bf-8659-64a4290688ff",
        "colab": {
          "base_uri": "https://localhost:8080/",
          "height": 85
        }
      },
      "source": [
        "# Menggunakan SSE\n",
        "#centroid1 red\n",
        "jumlah1 = 0\n",
        "for i in range(len(clusAr)):\n",
        "  jarakcentro = (clusAr[i]-centroid1[0])**2 + (clusBr[i]-centroid1[1])**2\n",
        "  jumlah1 = jumlah1 + jarakcentro\n",
        "print(\"centroid 1 =\",jumlah1)\n",
        "#centroid2 yellow\n",
        "jumlah2 = 0\n",
        "for i in range(len(clusAy)):\n",
        "  jarakcentro = (clusAy[i]-centroid2[0])**2 + (clusBy[i]-centroid2[1])**2\n",
        "  jumlah2 = jumlah2 + jarakcentro\n",
        "print(\"centroid 2 =\",jumlah2)\n",
        "#centroid3 black\n",
        "jumlah3 = 0\n",
        "for i in range(len(clusAb)):\n",
        "  jarakcentro = (clusAb[i]-centroid3[0])**2 + (clusBb[i]-centroid3[1])**2\n",
        "  jumlah3 = jumlah3 + jarakcentro\n",
        "print(\"centroid 3 =\",jumlah3)\n",
        "SSE = jumlah1 + jumlah2 + jumlah3\n",
        "print(\"SSE =\", SSE)"
      ],
      "execution_count": 0,
      "outputs": [
        {
          "output_type": "stream",
          "text": [
            "centroid 1 = 48.81695130383941\n",
            "centroid 2 = 37.97306279277712\n",
            "centroid 3 = 44.91210324494116\n",
            "SSE = 131.70211734155768\n"
          ],
          "name": "stdout"
        }
      ]
    },
    {
      "cell_type": "code",
      "metadata": {
        "id": "z7cjDVIT83Nj",
        "colab_type": "code",
        "colab": {}
      },
      "source": [
        ""
      ],
      "execution_count": 0,
      "outputs": []
    }
  ]
}