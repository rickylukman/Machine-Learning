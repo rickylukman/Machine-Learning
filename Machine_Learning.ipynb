{
  "nbformat": 4,
  "nbformat_minor": 0,
  "metadata": {
    "colab": {
      "name": "Machine Learning",
      "provenance": [],
      "collapsed_sections": [],
      "authorship_tag": "ABX9TyPiqlEUyvSGErc9WdlVJ5K/",
      "include_colab_link": true
    },
    "kernelspec": {
      "name": "python3",
      "display_name": "Python 3"
    }
  },
  "cells": [
    {
      "cell_type": "markdown",
      "metadata": {
        "id": "view-in-github",
        "colab_type": "text"
      },
      "source": [
        "<a href=\"https://colab.research.google.com/github/rickylukman/Machine-Learning/blob/master/Machine_Learning.ipynb\" target=\"_parent\"><img src=\"https://colab.research.google.com/assets/colab-badge.svg\" alt=\"Open In Colab\"/></a>"
      ]
    },
    {
      "cell_type": "markdown",
      "metadata": {
        "id": "oXyWF4V_hNul",
        "colab_type": "text"
      },
      "source": [
        "4/yQEmwvw8wPRdt_CQGZrKygb0qVtfSzf-ilJC0-QQhJzHyXqLiJRJrJA\n",
        "untuk drive^"
      ]
    },
    {
      "cell_type": "code",
      "metadata": {
        "id": "V3647QU2Obta",
        "colab_type": "code",
        "outputId": "6985696c-e664-47e1-d58f-e8d41f0437a6",
        "colab": {
          "base_uri": "https://localhost:8080/",
          "height": 122
        }
      },
      "source": [
        "from google.colab import drive\n",
        "drive.mount('/content/gdrive')"
      ],
      "execution_count": 1,
      "outputs": [
        {
          "output_type": "stream",
          "text": [
            "Go to this URL in a browser: https://accounts.google.com/o/oauth2/auth?client_id=947318989803-6bn6qk8qdgf4n4g3pfee6491hc0brc4i.apps.googleusercontent.com&redirect_uri=urn%3aietf%3awg%3aoauth%3a2.0%3aoob&response_type=code&scope=email%20https%3a%2f%2fwww.googleapis.com%2fauth%2fdocs.test%20https%3a%2f%2fwww.googleapis.com%2fauth%2fdrive%20https%3a%2f%2fwww.googleapis.com%2fauth%2fdrive.photos.readonly%20https%3a%2f%2fwww.googleapis.com%2fauth%2fpeopleapi.readonly\n",
            "\n",
            "Enter your authorization code:\n",
            "··········\n",
            "Mounted at /content/gdrive\n"
          ],
          "name": "stdout"
        }
      ]
    },
    {
      "cell_type": "code",
      "metadata": {
        "id": "gFSMbTbTxGYm",
        "colab_type": "code",
        "outputId": "56beaf3a-2706-4ee5-d302-869617ef7be4",
        "colab": {
          "base_uri": "https://localhost:8080/",
          "height": 34
        }
      },
      "source": [
        "import pandas as pd\n",
        "df=pd.read_csv('gdrive/My Drive/used_cars.csv')\n",
        "df.shape"
      ],
      "execution_count": 2,
      "outputs": [
        {
          "output_type": "execute_result",
          "data": {
            "text/plain": [
              "(20001, 26)"
            ]
          },
          "metadata": {
            "tags": []
          },
          "execution_count": 2
        }
      ]
    },
    {
      "cell_type": "code",
      "metadata": {
        "id": "CKorWFNtx0Ep",
        "colab_type": "code",
        "outputId": "931c9f23-bcc3-437f-ca09-8f9353bdcbaf",
        "colab": {
          "base_uri": "https://localhost:8080/",
          "height": 530
        }
      },
      "source": [
        "df.head()"
      ],
      "execution_count": 3,
      "outputs": [
        {
          "output_type": "execute_result",
          "data": {
            "text/html": [
              "<div>\n",
              "<style scoped>\n",
              "    .dataframe tbody tr th:only-of-type {\n",
              "        vertical-align: middle;\n",
              "    }\n",
              "\n",
              "    .dataframe tbody tr th {\n",
              "        vertical-align: top;\n",
              "    }\n",
              "\n",
              "    .dataframe thead th {\n",
              "        text-align: right;\n",
              "    }\n",
              "</style>\n",
              "<table border=\"1\" class=\"dataframe\">\n",
              "  <thead>\n",
              "    <tr style=\"text-align: right;\">\n",
              "      <th></th>\n",
              "      <th>Unnamed: 0</th>\n",
              "      <th>id</th>\n",
              "      <th>url</th>\n",
              "      <th>region</th>\n",
              "      <th>region_url</th>\n",
              "      <th>price</th>\n",
              "      <th>year</th>\n",
              "      <th>manufacturer</th>\n",
              "      <th>model</th>\n",
              "      <th>condition</th>\n",
              "      <th>cylinders</th>\n",
              "      <th>fuel</th>\n",
              "      <th>odometer</th>\n",
              "      <th>title_status</th>\n",
              "      <th>transmission</th>\n",
              "      <th>vin</th>\n",
              "      <th>drive</th>\n",
              "      <th>size</th>\n",
              "      <th>type</th>\n",
              "      <th>paint_color</th>\n",
              "      <th>image_url</th>\n",
              "      <th>description</th>\n",
              "      <th>county</th>\n",
              "      <th>state</th>\n",
              "      <th>lat</th>\n",
              "      <th>long</th>\n",
              "    </tr>\n",
              "  </thead>\n",
              "  <tbody>\n",
              "    <tr>\n",
              "      <th>0</th>\n",
              "      <td>0</td>\n",
              "      <td>7034441763</td>\n",
              "      <td>https://saltlakecity.craigslist.org/cto/d/salt...</td>\n",
              "      <td>salt lake city</td>\n",
              "      <td>https://saltlakecity.craigslist.org</td>\n",
              "      <td>17899</td>\n",
              "      <td>2012.0</td>\n",
              "      <td>volkswagen</td>\n",
              "      <td>golf r</td>\n",
              "      <td>excellent</td>\n",
              "      <td>4 cylinders</td>\n",
              "      <td>gas</td>\n",
              "      <td>63500.0</td>\n",
              "      <td>clean</td>\n",
              "      <td>manual</td>\n",
              "      <td>WVWPF7AJ6CW316713</td>\n",
              "      <td>4wd</td>\n",
              "      <td>compact</td>\n",
              "      <td>hatchback</td>\n",
              "      <td>black</td>\n",
              "      <td>https://images.craigslist.org/00G0G_fTLDWM5Xyv...</td>\n",
              "      <td>PRICE REDUCED!   -Garage kept -Low Miles (63K)...</td>\n",
              "      <td>NaN</td>\n",
              "      <td>ut</td>\n",
              "      <td>40.7372</td>\n",
              "      <td>-111.858</td>\n",
              "    </tr>\n",
              "    <tr>\n",
              "      <th>1</th>\n",
              "      <td>1</td>\n",
              "      <td>7034440610</td>\n",
              "      <td>https://saltlakecity.craigslist.org/ctd/d/sand...</td>\n",
              "      <td>salt lake city</td>\n",
              "      <td>https://saltlakecity.craigslist.org</td>\n",
              "      <td>0</td>\n",
              "      <td>2016.0</td>\n",
              "      <td>ford</td>\n",
              "      <td>f-150</td>\n",
              "      <td>excellent</td>\n",
              "      <td>NaN</td>\n",
              "      <td>gas</td>\n",
              "      <td>10.0</td>\n",
              "      <td>clean</td>\n",
              "      <td>automatic</td>\n",
              "      <td>1FTMF1EP3GKF13544</td>\n",
              "      <td>4wd</td>\n",
              "      <td>NaN</td>\n",
              "      <td>NaN</td>\n",
              "      <td>NaN</td>\n",
              "      <td>https://images.craigslist.org/00v0v_7Cu0buIofU...</td>\n",
              "      <td>Drive it home today. Call (Or Text) us now !!C...</td>\n",
              "      <td>NaN</td>\n",
              "      <td>ut</td>\n",
              "      <td>40.5881</td>\n",
              "      <td>-111.884</td>\n",
              "    </tr>\n",
              "    <tr>\n",
              "      <th>2</th>\n",
              "      <td>2</td>\n",
              "      <td>7034440588</td>\n",
              "      <td>https://saltlakecity.craigslist.org/ctd/d/sand...</td>\n",
              "      <td>salt lake city</td>\n",
              "      <td>https://saltlakecity.craigslist.org</td>\n",
              "      <td>46463</td>\n",
              "      <td>2015.0</td>\n",
              "      <td>gmc</td>\n",
              "      <td>sierra 1500</td>\n",
              "      <td>excellent</td>\n",
              "      <td>NaN</td>\n",
              "      <td>gas</td>\n",
              "      <td>7554.0</td>\n",
              "      <td>clean</td>\n",
              "      <td>automatic</td>\n",
              "      <td>3GTU2WEC6FG228025</td>\n",
              "      <td>4wd</td>\n",
              "      <td>NaN</td>\n",
              "      <td>NaN</td>\n",
              "      <td>white</td>\n",
              "      <td>https://images.craigslist.org/01515_lPvJ9bfbdY...</td>\n",
              "      <td>Drive it home today. Call (Or Text) us now !!C...</td>\n",
              "      <td>NaN</td>\n",
              "      <td>ut</td>\n",
              "      <td>40.5881</td>\n",
              "      <td>-111.884</td>\n",
              "    </tr>\n",
              "    <tr>\n",
              "      <th>3</th>\n",
              "      <td>3</td>\n",
              "      <td>7034440546</td>\n",
              "      <td>https://saltlakecity.craigslist.org/ctd/d/sand...</td>\n",
              "      <td>salt lake city</td>\n",
              "      <td>https://saltlakecity.craigslist.org</td>\n",
              "      <td>0</td>\n",
              "      <td>2016.0</td>\n",
              "      <td>ford</td>\n",
              "      <td>f-150</td>\n",
              "      <td>excellent</td>\n",
              "      <td>NaN</td>\n",
              "      <td>gas</td>\n",
              "      <td>10.0</td>\n",
              "      <td>clean</td>\n",
              "      <td>automatic</td>\n",
              "      <td>1FTEX1EF6GKD25447</td>\n",
              "      <td>4wd</td>\n",
              "      <td>NaN</td>\n",
              "      <td>NaN</td>\n",
              "      <td>NaN</td>\n",
              "      <td>https://images.craigslist.org/00T0T_6Rjfp3NS4O...</td>\n",
              "      <td>Drive it home today. Call (Or Text) us now !!C...</td>\n",
              "      <td>NaN</td>\n",
              "      <td>ut</td>\n",
              "      <td>40.5881</td>\n",
              "      <td>-111.884</td>\n",
              "    </tr>\n",
              "    <tr>\n",
              "      <th>4</th>\n",
              "      <td>4</td>\n",
              "      <td>7034406932</td>\n",
              "      <td>https://saltlakecity.craigslist.org/ctd/d/evan...</td>\n",
              "      <td>salt lake city</td>\n",
              "      <td>https://saltlakecity.craigslist.org</td>\n",
              "      <td>49999</td>\n",
              "      <td>2018.0</td>\n",
              "      <td>ford</td>\n",
              "      <td>f-450</td>\n",
              "      <td>NaN</td>\n",
              "      <td>NaN</td>\n",
              "      <td>diesel</td>\n",
              "      <td>70150.0</td>\n",
              "      <td>clean</td>\n",
              "      <td>automatic</td>\n",
              "      <td>1FT8W4DT8GEA90427</td>\n",
              "      <td>4wd</td>\n",
              "      <td>NaN</td>\n",
              "      <td>pickup</td>\n",
              "      <td>white</td>\n",
              "      <td>https://images.craigslist.org/00W0W_8yIUwRBXXd...</td>\n",
              "      <td>2018 Ford F-350 F350 F 350 SD Lariat Crew Cab ...</td>\n",
              "      <td>NaN</td>\n",
              "      <td>ut</td>\n",
              "      <td>40.3744</td>\n",
              "      <td>-104.694</td>\n",
              "    </tr>\n",
              "  </tbody>\n",
              "</table>\n",
              "</div>"
            ],
            "text/plain": [
              "   Unnamed: 0          id  ...      lat     long\n",
              "0           0  7034441763  ...  40.7372 -111.858\n",
              "1           1  7034440610  ...  40.5881 -111.884\n",
              "2           2  7034440588  ...  40.5881 -111.884\n",
              "3           3  7034440546  ...  40.5881 -111.884\n",
              "4           4  7034406932  ...  40.3744 -104.694\n",
              "\n",
              "[5 rows x 26 columns]"
            ]
          },
          "metadata": {
            "tags": []
          },
          "execution_count": 3
        }
      ]
    },
    {
      "cell_type": "markdown",
      "metadata": {
        "id": "0JC4Hdc2Ik7B",
        "colab_type": "text"
      },
      "source": [
        "**Mencari Missing Value**"
      ]
    },
    {
      "cell_type": "code",
      "metadata": {
        "id": "jIWBaajpIoOU",
        "colab_type": "code",
        "outputId": "e8eebaed-c599-4922-cc5d-b926b740e182",
        "colab": {
          "base_uri": "https://localhost:8080/",
          "height": 297
        }
      },
      "source": [
        "df.describe()"
      ],
      "execution_count": 4,
      "outputs": [
        {
          "output_type": "execute_result",
          "data": {
            "text/html": [
              "<div>\n",
              "<style scoped>\n",
              "    .dataframe tbody tr th:only-of-type {\n",
              "        vertical-align: middle;\n",
              "    }\n",
              "\n",
              "    .dataframe tbody tr th {\n",
              "        vertical-align: top;\n",
              "    }\n",
              "\n",
              "    .dataframe thead th {\n",
              "        text-align: right;\n",
              "    }\n",
              "</style>\n",
              "<table border=\"1\" class=\"dataframe\">\n",
              "  <thead>\n",
              "    <tr style=\"text-align: right;\">\n",
              "      <th></th>\n",
              "      <th>Unnamed: 0</th>\n",
              "      <th>id</th>\n",
              "      <th>price</th>\n",
              "      <th>year</th>\n",
              "      <th>odometer</th>\n",
              "      <th>county</th>\n",
              "      <th>lat</th>\n",
              "      <th>long</th>\n",
              "    </tr>\n",
              "  </thead>\n",
              "  <tbody>\n",
              "    <tr>\n",
              "      <th>count</th>\n",
              "      <td>20001.000000</td>\n",
              "      <td>2.000100e+04</td>\n",
              "      <td>2.000100e+04</td>\n",
              "      <td>19989.000000</td>\n",
              "      <td>1.761200e+04</td>\n",
              "      <td>0.0</td>\n",
              "      <td>18970.000000</td>\n",
              "      <td>18970.000000</td>\n",
              "    </tr>\n",
              "    <tr>\n",
              "      <th>mean</th>\n",
              "      <td>10000.000000</td>\n",
              "      <td>7.043199e+09</td>\n",
              "      <td>7.664058e+04</td>\n",
              "      <td>2009.830657</td>\n",
              "      <td>9.916435e+04</td>\n",
              "      <td>NaN</td>\n",
              "      <td>40.394737</td>\n",
              "      <td>-86.300395</td>\n",
              "    </tr>\n",
              "    <tr>\n",
              "      <th>std</th>\n",
              "      <td>5773.935703</td>\n",
              "      <td>4.668820e+06</td>\n",
              "      <td>8.335762e+06</td>\n",
              "      <td>7.913613</td>\n",
              "      <td>7.963487e+04</td>\n",
              "      <td>NaN</td>\n",
              "      <td>4.440290</td>\n",
              "      <td>18.219242</td>\n",
              "    </tr>\n",
              "    <tr>\n",
              "      <th>min</th>\n",
              "      <td>0.000000</td>\n",
              "      <td>7.032597e+09</td>\n",
              "      <td>0.000000e+00</td>\n",
              "      <td>1917.000000</td>\n",
              "      <td>0.000000e+00</td>\n",
              "      <td>NaN</td>\n",
              "      <td>-51.812200</td>\n",
              "      <td>-155.901000</td>\n",
              "    </tr>\n",
              "    <tr>\n",
              "      <th>25%</th>\n",
              "      <td>5000.000000</td>\n",
              "      <td>7.040114e+09</td>\n",
              "      <td>3.970000e+03</td>\n",
              "      <td>2007.000000</td>\n",
              "      <td>5.013300e+04</td>\n",
              "      <td>NaN</td>\n",
              "      <td>37.273700</td>\n",
              "      <td>-80.166800</td>\n",
              "    </tr>\n",
              "    <tr>\n",
              "      <th>50%</th>\n",
              "      <td>10000.000000</td>\n",
              "      <td>7.043866e+09</td>\n",
              "      <td>8.795000e+03</td>\n",
              "      <td>2011.000000</td>\n",
              "      <td>9.389900e+04</td>\n",
              "      <td>NaN</td>\n",
              "      <td>38.258600</td>\n",
              "      <td>-77.514200</td>\n",
              "    </tr>\n",
              "    <tr>\n",
              "      <th>75%</th>\n",
              "      <td>15000.000000</td>\n",
              "      <td>7.047065e+09</td>\n",
              "      <td>1.749500e+04</td>\n",
              "      <td>2015.000000</td>\n",
              "      <td>1.339090e+05</td>\n",
              "      <td>NaN</td>\n",
              "      <td>44.439500</td>\n",
              "      <td>-76.238400</td>\n",
              "    </tr>\n",
              "    <tr>\n",
              "      <th>max</th>\n",
              "      <td>20000.000000</td>\n",
              "      <td>7.050101e+09</td>\n",
              "      <td>1.172420e+09</td>\n",
              "      <td>2020.000000</td>\n",
              "      <td>2.500005e+06</td>\n",
              "      <td>NaN</td>\n",
              "      <td>59.746600</td>\n",
              "      <td>9.095700</td>\n",
              "    </tr>\n",
              "  </tbody>\n",
              "</table>\n",
              "</div>"
            ],
            "text/plain": [
              "         Unnamed: 0            id  ...           lat          long\n",
              "count  20001.000000  2.000100e+04  ...  18970.000000  18970.000000\n",
              "mean   10000.000000  7.043199e+09  ...     40.394737    -86.300395\n",
              "std     5773.935703  4.668820e+06  ...      4.440290     18.219242\n",
              "min        0.000000  7.032597e+09  ...    -51.812200   -155.901000\n",
              "25%     5000.000000  7.040114e+09  ...     37.273700    -80.166800\n",
              "50%    10000.000000  7.043866e+09  ...     38.258600    -77.514200\n",
              "75%    15000.000000  7.047065e+09  ...     44.439500    -76.238400\n",
              "max    20000.000000  7.050101e+09  ...     59.746600      9.095700\n",
              "\n",
              "[8 rows x 8 columns]"
            ]
          },
          "metadata": {
            "tags": []
          },
          "execution_count": 4
        }
      ]
    },
    {
      "cell_type": "code",
      "metadata": {
        "id": "vMQUJSSMKWgP",
        "colab_type": "code",
        "outputId": "cf9014e3-d2f9-4fec-cbd1-3f97f0496512",
        "colab": {
          "base_uri": "https://localhost:8080/",
          "height": 377
        }
      },
      "source": [
        "import seaborn as sns\n",
        "ax = sns.heatmap(df.isna())"
      ],
      "execution_count": 5,
      "outputs": [
        {
          "output_type": "stream",
          "text": [
            "/usr/local/lib/python3.6/dist-packages/statsmodels/tools/_testing.py:19: FutureWarning: pandas.util.testing is deprecated. Use the functions in the public API at pandas.testing instead.\n",
            "  import pandas.util.testing as tm\n"
          ],
          "name": "stderr"
        },
        {
          "output_type": "display_data",
          "data": {
            "image/png": "[encoded data removed]",
            "text/plain": [
              "<Figure size 432x288 with 2 Axes>"
            ]
          },
          "metadata": {
            "tags": [],
            "needs_background": "light"
          }
        }
      ]
    },
    {
      "cell_type": "markdown",
      "metadata": {
        "id": "Ek0RgEgSzYVV",
        "colab_type": "text"
      },
      "source": [
        "**Menghilangkan kolom yang tidak diperlukan**\n"
      ]
    },
    {
      "cell_type": "code",
      "metadata": {
        "id": "R1cbxWt7fCMU",
        "colab_type": "code",
        "outputId": "52706f9a-1ca5-4b59-e3e4-3c4a25166e69",
        "colab": {
          "base_uri": "https://localhost:8080/",
          "height": 476
        }
      },
      "source": [
        "print(df.isnull().sum())"
      ],
      "execution_count": 6,
      "outputs": [
        {
          "output_type": "stream",
          "text": [
            "Unnamed: 0          0\n",
            "id                  0\n",
            "url                 0\n",
            "region              0\n",
            "region_url          0\n",
            "price               0\n",
            "year               12\n",
            "manufacturer      705\n",
            "model             265\n",
            "condition        9152\n",
            "cylinders        7085\n",
            "fuel               73\n",
            "odometer         2389\n",
            "title_status      110\n",
            "transmission      190\n",
            "vin              6645\n",
            "drive            4642\n",
            "size            13115\n",
            "type             3659\n",
            "paint_color      5514\n",
            "image_url           0\n",
            "description         0\n",
            "county          20001\n",
            "state               0\n",
            "lat              1031\n",
            "long             1031\n",
            "dtype: int64\n"
          ],
          "name": "stdout"
        }
      ]
    },
    {
      "cell_type": "markdown",
      "metadata": {
        "id": "1CqiJ7uKq4Wo",
        "colab_type": "text"
      },
      "source": [
        "**Menghapus kolom yang tidak diperlukan dan yang missing value nya >2000**"
      ]
    },
    {
      "cell_type": "code",
      "metadata": {
        "id": "PUyx5OzNzsJB",
        "colab_type": "code",
        "colab": {}
      },
      "source": [
        "df = df.drop([\"Unnamed: 0\",\"id\",\"url\", \"region\",\"region_url\",\"model\",\"condition\",\"cylinders\",\"odometer\",\"vin\",\"drive\",\"size\",\"type\",\"paint_color\",\"image_url\",\"description\",\"county\",\"lat\",\"long\"], axis = 1)"
      ],
      "execution_count": 0,
      "outputs": []
    },
    {
      "cell_type": "code",
      "metadata": {
        "id": "395V1mzF563T",
        "colab_type": "code",
        "outputId": "aaa5bd9e-df72-47bc-e80a-e1d471e0025b",
        "colab": {
          "base_uri": "https://localhost:8080/",
          "height": 34
        }
      },
      "source": [
        "df.shape"
      ],
      "execution_count": 8,
      "outputs": [
        {
          "output_type": "execute_result",
          "data": {
            "text/plain": [
              "(20001, 7)"
            ]
          },
          "metadata": {
            "tags": []
          },
          "execution_count": 8
        }
      ]
    },
    {
      "cell_type": "code",
      "metadata": {
        "id": "UaDd4lmX54C-",
        "colab_type": "code",
        "outputId": "3c198564-bbab-4767-c6f7-3b2ee62759d9",
        "colab": {
          "base_uri": "https://localhost:8080/",
          "height": 204
        }
      },
      "source": [
        "df.head()"
      ],
      "execution_count": 9,
      "outputs": [
        {
          "output_type": "execute_result",
          "data": {
            "text/html": [
              "<div>\n",
              "<style scoped>\n",
              "    .dataframe tbody tr th:only-of-type {\n",
              "        vertical-align: middle;\n",
              "    }\n",
              "\n",
              "    .dataframe tbody tr th {\n",
              "        vertical-align: top;\n",
              "    }\n",
              "\n",
              "    .dataframe thead th {\n",
              "        text-align: right;\n",
              "    }\n",
              "</style>\n",
              "<table border=\"1\" class=\"dataframe\">\n",
              "  <thead>\n",
              "    <tr style=\"text-align: right;\">\n",
              "      <th></th>\n",
              "      <th>price</th>\n",
              "      <th>year</th>\n",
              "      <th>manufacturer</th>\n",
              "      <th>fuel</th>\n",
              "      <th>title_status</th>\n",
              "      <th>transmission</th>\n",
              "      <th>state</th>\n",
              "    </tr>\n",
              "  </thead>\n",
              "  <tbody>\n",
              "    <tr>\n",
              "      <th>0</th>\n",
              "      <td>17899</td>\n",
              "      <td>2012.0</td>\n",
              "      <td>volkswagen</td>\n",
              "      <td>gas</td>\n",
              "      <td>clean</td>\n",
              "      <td>manual</td>\n",
              "      <td>ut</td>\n",
              "    </tr>\n",
              "    <tr>\n",
              "      <th>1</th>\n",
              "      <td>0</td>\n",
              "      <td>2016.0</td>\n",
              "      <td>ford</td>\n",
              "      <td>gas</td>\n",
              "      <td>clean</td>\n",
              "      <td>automatic</td>\n",
              "      <td>ut</td>\n",
              "    </tr>\n",
              "    <tr>\n",
              "      <th>2</th>\n",
              "      <td>46463</td>\n",
              "      <td>2015.0</td>\n",
              "      <td>gmc</td>\n",
              "      <td>gas</td>\n",
              "      <td>clean</td>\n",
              "      <td>automatic</td>\n",
              "      <td>ut</td>\n",
              "    </tr>\n",
              "    <tr>\n",
              "      <th>3</th>\n",
              "      <td>0</td>\n",
              "      <td>2016.0</td>\n",
              "      <td>ford</td>\n",
              "      <td>gas</td>\n",
              "      <td>clean</td>\n",
              "      <td>automatic</td>\n",
              "      <td>ut</td>\n",
              "    </tr>\n",
              "    <tr>\n",
              "      <th>4</th>\n",
              "      <td>49999</td>\n",
              "      <td>2018.0</td>\n",
              "      <td>ford</td>\n",
              "      <td>diesel</td>\n",
              "      <td>clean</td>\n",
              "      <td>automatic</td>\n",
              "      <td>ut</td>\n",
              "    </tr>\n",
              "  </tbody>\n",
              "</table>\n",
              "</div>"
            ],
            "text/plain": [
              "   price    year manufacturer    fuel title_status transmission state\n",
              "0  17899  2012.0   volkswagen     gas        clean       manual    ut\n",
              "1      0  2016.0         ford     gas        clean    automatic    ut\n",
              "2  46463  2015.0          gmc     gas        clean    automatic    ut\n",
              "3      0  2016.0         ford     gas        clean    automatic    ut\n",
              "4  49999  2018.0         ford  diesel        clean    automatic    ut"
            ]
          },
          "metadata": {
            "tags": []
          },
          "execution_count": 9
        }
      ]
    },
    {
      "cell_type": "markdown",
      "metadata": {
        "id": "BwfTDfxlX3MA",
        "colab_type": "text"
      },
      "source": [
        "**Cek data kosong/null**"
      ]
    },
    {
      "cell_type": "code",
      "metadata": {
        "id": "qJBZMf0uW72r",
        "colab_type": "code",
        "outputId": "be67cd28-c02e-4008-c304-d5171d067e08",
        "colab": {
          "base_uri": "https://localhost:8080/",
          "height": 419
        }
      },
      "source": [
        "df[df.isnull().any(axis=1)]"
      ],
      "execution_count": 10,
      "outputs": [
        {
          "output_type": "execute_result",
          "data": {
            "text/html": [
              "<div>\n",
              "<style scoped>\n",
              "    .dataframe tbody tr th:only-of-type {\n",
              "        vertical-align: middle;\n",
              "    }\n",
              "\n",
              "    .dataframe tbody tr th {\n",
              "        vertical-align: top;\n",
              "    }\n",
              "\n",
              "    .dataframe thead th {\n",
              "        text-align: right;\n",
              "    }\n",
              "</style>\n",
              "<table border=\"1\" class=\"dataframe\">\n",
              "  <thead>\n",
              "    <tr style=\"text-align: right;\">\n",
              "      <th></th>\n",
              "      <th>price</th>\n",
              "      <th>year</th>\n",
              "      <th>manufacturer</th>\n",
              "      <th>fuel</th>\n",
              "      <th>title_status</th>\n",
              "      <th>transmission</th>\n",
              "      <th>state</th>\n",
              "    </tr>\n",
              "  </thead>\n",
              "  <tbody>\n",
              "    <tr>\n",
              "      <th>23</th>\n",
              "      <td>57995</td>\n",
              "      <td>NaN</td>\n",
              "      <td>NaN</td>\n",
              "      <td>NaN</td>\n",
              "      <td>clean</td>\n",
              "      <td>automatic</td>\n",
              "      <td>ut</td>\n",
              "    </tr>\n",
              "    <tr>\n",
              "      <th>25</th>\n",
              "      <td>32995</td>\n",
              "      <td>2014.0</td>\n",
              "      <td>gmc</td>\n",
              "      <td>NaN</td>\n",
              "      <td>clean</td>\n",
              "      <td>automatic</td>\n",
              "      <td>ut</td>\n",
              "    </tr>\n",
              "    <tr>\n",
              "      <th>26</th>\n",
              "      <td>39995</td>\n",
              "      <td>NaN</td>\n",
              "      <td>NaN</td>\n",
              "      <td>NaN</td>\n",
              "      <td>clean</td>\n",
              "      <td>automatic</td>\n",
              "      <td>ut</td>\n",
              "    </tr>\n",
              "    <tr>\n",
              "      <th>30</th>\n",
              "      <td>30000</td>\n",
              "      <td>1992.0</td>\n",
              "      <td>NaN</td>\n",
              "      <td>diesel</td>\n",
              "      <td>clean</td>\n",
              "      <td>automatic</td>\n",
              "      <td>ut</td>\n",
              "    </tr>\n",
              "    <tr>\n",
              "      <th>31</th>\n",
              "      <td>43995</td>\n",
              "      <td>NaN</td>\n",
              "      <td>NaN</td>\n",
              "      <td>NaN</td>\n",
              "      <td>clean</td>\n",
              "      <td>automatic</td>\n",
              "      <td>ut</td>\n",
              "    </tr>\n",
              "    <tr>\n",
              "      <th>...</th>\n",
              "      <td>...</td>\n",
              "      <td>...</td>\n",
              "      <td>...</td>\n",
              "      <td>...</td>\n",
              "      <td>...</td>\n",
              "      <td>...</td>\n",
              "      <td>...</td>\n",
              "    </tr>\n",
              "    <tr>\n",
              "      <th>19787</th>\n",
              "      <td>14991</td>\n",
              "      <td>2018.0</td>\n",
              "      <td>nissan</td>\n",
              "      <td>NaN</td>\n",
              "      <td>clean</td>\n",
              "      <td>automatic</td>\n",
              "      <td>wa</td>\n",
              "    </tr>\n",
              "    <tr>\n",
              "      <th>19819</th>\n",
              "      <td>2400</td>\n",
              "      <td>1954.0</td>\n",
              "      <td>NaN</td>\n",
              "      <td>gas</td>\n",
              "      <td>clean</td>\n",
              "      <td>other</td>\n",
              "      <td>wa</td>\n",
              "    </tr>\n",
              "    <tr>\n",
              "      <th>19845</th>\n",
              "      <td>0</td>\n",
              "      <td>2015.0</td>\n",
              "      <td>NaN</td>\n",
              "      <td>diesel</td>\n",
              "      <td>clean</td>\n",
              "      <td>manual</td>\n",
              "      <td>wa</td>\n",
              "    </tr>\n",
              "    <tr>\n",
              "      <th>19872</th>\n",
              "      <td>0</td>\n",
              "      <td>2020.0</td>\n",
              "      <td>NaN</td>\n",
              "      <td>diesel</td>\n",
              "      <td>clean</td>\n",
              "      <td>manual</td>\n",
              "      <td>wa</td>\n",
              "    </tr>\n",
              "    <tr>\n",
              "      <th>19947</th>\n",
              "      <td>32500</td>\n",
              "      <td>2007.0</td>\n",
              "      <td>NaN</td>\n",
              "      <td>diesel</td>\n",
              "      <td>clean</td>\n",
              "      <td>manual</td>\n",
              "      <td>wa</td>\n",
              "    </tr>\n",
              "  </tbody>\n",
              "</table>\n",
              "<p>1030 rows × 7 columns</p>\n",
              "</div>"
            ],
            "text/plain": [
              "       price    year manufacturer    fuel title_status transmission state\n",
              "23     57995     NaN          NaN     NaN        clean    automatic    ut\n",
              "25     32995  2014.0          gmc     NaN        clean    automatic    ut\n",
              "26     39995     NaN          NaN     NaN        clean    automatic    ut\n",
              "30     30000  1992.0          NaN  diesel        clean    automatic    ut\n",
              "31     43995     NaN          NaN     NaN        clean    automatic    ut\n",
              "...      ...     ...          ...     ...          ...          ...   ...\n",
              "19787  14991  2018.0       nissan     NaN        clean    automatic    wa\n",
              "19819   2400  1954.0          NaN     gas        clean        other    wa\n",
              "19845      0  2015.0          NaN  diesel        clean       manual    wa\n",
              "19872      0  2020.0          NaN  diesel        clean       manual    wa\n",
              "19947  32500  2007.0          NaN  diesel        clean       manual    wa\n",
              "\n",
              "[1030 rows x 7 columns]"
            ]
          },
          "metadata": {
            "tags": []
          },
          "execution_count": 10
        }
      ]
    },
    {
      "cell_type": "code",
      "metadata": {
        "id": "biXOP8MZcX7w",
        "colab_type": "code",
        "outputId": "04b33f03-3a18-4646-9371-bbb1eb614e07",
        "colab": {
          "base_uri": "https://localhost:8080/",
          "height": 153
        }
      },
      "source": [
        "print(df.isnull().sum())"
      ],
      "execution_count": 11,
      "outputs": [
        {
          "output_type": "stream",
          "text": [
            "price             0\n",
            "year             12\n",
            "manufacturer    705\n",
            "fuel             73\n",
            "title_status    110\n",
            "transmission    190\n",
            "state             0\n",
            "dtype: int64\n"
          ],
          "name": "stdout"
        }
      ]
    },
    {
      "cell_type": "code",
      "metadata": {
        "id": "sHFJJs5NP-GJ",
        "colab_type": "code",
        "outputId": "c2e39895-b88b-4907-cd28-f92c05fa649d",
        "colab": {
          "base_uri": "https://localhost:8080/",
          "height": 153
        }
      },
      "source": [
        "df.dtypes"
      ],
      "execution_count": 12,
      "outputs": [
        {
          "output_type": "execute_result",
          "data": {
            "text/plain": [
              "price             int64\n",
              "year            float64\n",
              "manufacturer     object\n",
              "fuel             object\n",
              "title_status     object\n",
              "transmission     object\n",
              "state            object\n",
              "dtype: object"
            ]
          },
          "metadata": {
            "tags": []
          },
          "execution_count": 12
        }
      ]
    },
    {
      "cell_type": "markdown",
      "metadata": {
        "id": "5xbjWk8RremD",
        "colab_type": "text"
      },
      "source": [
        "**Handling missing value untuk type int dan float**\n",
        "\n"
      ]
    },
    {
      "cell_type": "code",
      "metadata": {
        "id": "t-Krp4_-reDy",
        "colab_type": "code",
        "colab": {}
      },
      "source": [
        "df.year.fillna(df.year.mean(),inplace=True)"
      ],
      "execution_count": 0,
      "outputs": []
    },
    {
      "cell_type": "code",
      "metadata": {
        "id": "cNLQlZ4iQyhF",
        "colab_type": "code",
        "outputId": "ee813efa-8260-4951-a54c-17177bc4cc5a",
        "colab": {
          "base_uri": "https://localhost:8080/",
          "height": 297
        }
      },
      "source": [
        "df.describe()"
      ],
      "execution_count": 14,
      "outputs": [
        {
          "output_type": "execute_result",
          "data": {
            "text/html": [
              "<div>\n",
              "<style scoped>\n",
              "    .dataframe tbody tr th:only-of-type {\n",
              "        vertical-align: middle;\n",
              "    }\n",
              "\n",
              "    .dataframe tbody tr th {\n",
              "        vertical-align: top;\n",
              "    }\n",
              "\n",
              "    .dataframe thead th {\n",
              "        text-align: right;\n",
              "    }\n",
              "</style>\n",
              "<table border=\"1\" class=\"dataframe\">\n",
              "  <thead>\n",
              "    <tr style=\"text-align: right;\">\n",
              "      <th></th>\n",
              "      <th>price</th>\n",
              "      <th>year</th>\n",
              "    </tr>\n",
              "  </thead>\n",
              "  <tbody>\n",
              "    <tr>\n",
              "      <th>count</th>\n",
              "      <td>2.000100e+04</td>\n",
              "      <td>20001.000000</td>\n",
              "    </tr>\n",
              "    <tr>\n",
              "      <th>mean</th>\n",
              "      <td>7.664058e+04</td>\n",
              "      <td>2009.830657</td>\n",
              "    </tr>\n",
              "    <tr>\n",
              "      <th>std</th>\n",
              "      <td>8.335762e+06</td>\n",
              "      <td>7.911238</td>\n",
              "    </tr>\n",
              "    <tr>\n",
              "      <th>min</th>\n",
              "      <td>0.000000e+00</td>\n",
              "      <td>1917.000000</td>\n",
              "    </tr>\n",
              "    <tr>\n",
              "      <th>25%</th>\n",
              "      <td>3.970000e+03</td>\n",
              "      <td>2007.000000</td>\n",
              "    </tr>\n",
              "    <tr>\n",
              "      <th>50%</th>\n",
              "      <td>8.795000e+03</td>\n",
              "      <td>2011.000000</td>\n",
              "    </tr>\n",
              "    <tr>\n",
              "      <th>75%</th>\n",
              "      <td>1.749500e+04</td>\n",
              "      <td>2015.000000</td>\n",
              "    </tr>\n",
              "    <tr>\n",
              "      <th>max</th>\n",
              "      <td>1.172420e+09</td>\n",
              "      <td>2020.000000</td>\n",
              "    </tr>\n",
              "  </tbody>\n",
              "</table>\n",
              "</div>"
            ],
            "text/plain": [
              "              price          year\n",
              "count  2.000100e+04  20001.000000\n",
              "mean   7.664058e+04   2009.830657\n",
              "std    8.335762e+06      7.911238\n",
              "min    0.000000e+00   1917.000000\n",
              "25%    3.970000e+03   2007.000000\n",
              "50%    8.795000e+03   2011.000000\n",
              "75%    1.749500e+04   2015.000000\n",
              "max    1.172420e+09   2020.000000"
            ]
          },
          "metadata": {
            "tags": []
          },
          "execution_count": 14
        }
      ]
    },
    {
      "cell_type": "markdown",
      "metadata": {
        "id": "sQbsojcSUwuf",
        "colab_type": "text"
      },
      "source": [
        "**Handling missing value untuk type object**"
      ]
    },
    {
      "cell_type": "code",
      "metadata": {
        "id": "SF2ot3SwVAb8",
        "colab_type": "code",
        "outputId": "3eadfe68-9713-441e-c5b0-43faf37866b9",
        "colab": {
          "base_uri": "https://localhost:8080/",
          "height": 153
        }
      },
      "source": [
        "df.dtypes"
      ],
      "execution_count": 15,
      "outputs": [
        {
          "output_type": "execute_result",
          "data": {
            "text/plain": [
              "price             int64\n",
              "year            float64\n",
              "manufacturer     object\n",
              "fuel             object\n",
              "title_status     object\n",
              "transmission     object\n",
              "state            object\n",
              "dtype: object"
            ]
          },
          "metadata": {
            "tags": []
          },
          "execution_count": 15
        }
      ]
    },
    {
      "cell_type": "code",
      "metadata": {
        "id": "OvNKPoYfYMiN",
        "colab_type": "code",
        "outputId": "cbfa15cd-3933-48ae-b253-3c0f0b2271f2",
        "colab": {
          "base_uri": "https://localhost:8080/",
          "height": 34
        }
      },
      "source": [
        "print(len(df['manufacturer'].unique()))\n",
        "# df.manufacturer.value_counts()\n",
        "df[\"manufacturer\"].fillna(\"ford\", inplace = True)"
      ],
      "execution_count": 16,
      "outputs": [
        {
          "output_type": "stream",
          "text": [
            "41\n"
          ],
          "name": "stdout"
        }
      ]
    },
    {
      "cell_type": "code",
      "metadata": {
        "id": "jFI1eoKLb2Gv",
        "colab_type": "code",
        "outputId": "a37131e1-f6ad-4ae0-d137-95085bc7c4e2",
        "colab": {
          "base_uri": "https://localhost:8080/",
          "height": 34
        }
      },
      "source": [
        "print(len(df['fuel'].unique()))\n",
        "# df.fuel.value_counts()\n",
        "df[\"fuel\"].fillna(\"gas\", inplace = True)"
      ],
      "execution_count": 17,
      "outputs": [
        {
          "output_type": "stream",
          "text": [
            "6\n"
          ],
          "name": "stdout"
        }
      ]
    },
    {
      "cell_type": "code",
      "metadata": {
        "id": "5kKvicPzbzhN",
        "colab_type": "code",
        "outputId": "f676a192-1c58-40cc-ed6d-5b6b3116f042",
        "colab": {
          "base_uri": "https://localhost:8080/",
          "height": 34
        }
      },
      "source": [
        "print(len(df['title_status'].unique()))\n",
        "# df.title_status.value_counts()\n",
        "df[\"title_status\"].fillna(\"clean\", inplace = True)"
      ],
      "execution_count": 18,
      "outputs": [
        {
          "output_type": "stream",
          "text": [
            "7\n"
          ],
          "name": "stdout"
        }
      ]
    },
    {
      "cell_type": "code",
      "metadata": {
        "id": "2MdAs6DwcN8n",
        "colab_type": "code",
        "outputId": "61e0a500-c6ee-4f8f-fbaa-b5f77930e6d0",
        "colab": {
          "base_uri": "https://localhost:8080/",
          "height": 34
        }
      },
      "source": [
        "print(len(df['transmission'].unique()))\n",
        "df.transmission.value_counts()\n",
        "df[\"transmission\"].fillna(\"automatic\", inplace = True)"
      ],
      "execution_count": 19,
      "outputs": [
        {
          "output_type": "stream",
          "text": [
            "4\n"
          ],
          "name": "stdout"
        }
      ]
    },
    {
      "cell_type": "code",
      "metadata": {
        "id": "LJCuDr-LSL2G",
        "colab_type": "code",
        "outputId": "f7b00eb3-57f6-4237-8574-e06d8867bbe8",
        "colab": {
          "base_uri": "https://localhost:8080/",
          "height": 153
        }
      },
      "source": [
        "print(df.isnull().sum())"
      ],
      "execution_count": 20,
      "outputs": [
        {
          "output_type": "stream",
          "text": [
            "price           0\n",
            "year            0\n",
            "manufacturer    0\n",
            "fuel            0\n",
            "title_status    0\n",
            "transmission    0\n",
            "state           0\n",
            "dtype: int64\n"
          ],
          "name": "stdout"
        }
      ]
    },
    {
      "cell_type": "code",
      "metadata": {
        "id": "4xeCP_tsAZWO",
        "colab_type": "code",
        "outputId": "0745befe-5c24-450e-a745-52f83dd44892",
        "colab": {
          "base_uri": "https://localhost:8080/",
          "height": 153
        }
      },
      "source": [
        "df.dtypes"
      ],
      "execution_count": 21,
      "outputs": [
        {
          "output_type": "execute_result",
          "data": {
            "text/plain": [
              "price             int64\n",
              "year            float64\n",
              "manufacturer     object\n",
              "fuel             object\n",
              "title_status     object\n",
              "transmission     object\n",
              "state            object\n",
              "dtype: object"
            ]
          },
          "metadata": {
            "tags": []
          },
          "execution_count": 21
        }
      ]
    },
    {
      "cell_type": "markdown",
      "metadata": {
        "id": "RsI4mycfJJVt",
        "colab_type": "text"
      },
      "source": [
        "**Encode object to int/float COBA DI CEK LAGI WEI, MASA 0**"
      ]
    },
    {
      "cell_type": "code",
      "metadata": {
        "id": "oc3PJUQvJOeu",
        "colab_type": "code",
        "colab": {}
      },
      "source": [
        "from sklearn.preprocessing import LabelEncoder\n",
        "encoder = LabelEncoder()"
      ],
      "execution_count": 0,
      "outputs": []
    },
    {
      "cell_type": "code",
      "metadata": {
        "id": "16pkQ-yECsco",
        "colab_type": "code",
        "colab": {}
      },
      "source": [
        "df['manufacturer'] = encoder.fit_transform(df['manufacturer'])\n",
        "df['fuel'] = encoder.fit_transform(df['fuel'])\n",
        "df['title_status'] = encoder.fit_transform(df['title_status'])\n",
        "df['transmission'] = encoder.fit_transform(df['transmission'])\n",
        "df['state'] = encoder.fit_transform(df['state'])"
      ],
      "execution_count": 0,
      "outputs": []
    },
    {
      "cell_type": "code",
      "metadata": {
        "id": "UwBxRUkSC2z7",
        "colab_type": "code",
        "outputId": "d5d67598-2a44-463a-bc99-ad83f1d558a2",
        "colab": {
          "base_uri": "https://localhost:8080/",
          "height": 153
        }
      },
      "source": [
        "df.dtypes"
      ],
      "execution_count": 24,
      "outputs": [
        {
          "output_type": "execute_result",
          "data": {
            "text/plain": [
              "price             int64\n",
              "year            float64\n",
              "manufacturer      int64\n",
              "fuel              int64\n",
              "title_status      int64\n",
              "transmission      int64\n",
              "state             int64\n",
              "dtype: object"
            ]
          },
          "metadata": {
            "tags": []
          },
          "execution_count": 24
        }
      ]
    },
    {
      "cell_type": "code",
      "metadata": {
        "id": "BIjP5UrGDBnh",
        "colab_type": "code",
        "outputId": "95273cb5-4a8a-40c9-8953-2de2b07eb5c7",
        "colab": {
          "base_uri": "https://localhost:8080/",
          "height": 204
        }
      },
      "source": [
        "df.head()"
      ],
      "execution_count": 25,
      "outputs": [
        {
          "output_type": "execute_result",
          "data": {
            "text/html": [
              "<div>\n",
              "<style scoped>\n",
              "    .dataframe tbody tr th:only-of-type {\n",
              "        vertical-align: middle;\n",
              "    }\n",
              "\n",
              "    .dataframe tbody tr th {\n",
              "        vertical-align: top;\n",
              "    }\n",
              "\n",
              "    .dataframe thead th {\n",
              "        text-align: right;\n",
              "    }\n",
              "</style>\n",
              "<table border=\"1\" class=\"dataframe\">\n",
              "  <thead>\n",
              "    <tr style=\"text-align: right;\">\n",
              "      <th></th>\n",
              "      <th>price</th>\n",
              "      <th>year</th>\n",
              "      <th>manufacturer</th>\n",
              "      <th>fuel</th>\n",
              "      <th>title_status</th>\n",
              "      <th>transmission</th>\n",
              "      <th>state</th>\n",
              "    </tr>\n",
              "  </thead>\n",
              "  <tbody>\n",
              "    <tr>\n",
              "      <th>0</th>\n",
              "      <td>17899</td>\n",
              "      <td>2012.0</td>\n",
              "      <td>38</td>\n",
              "      <td>2</td>\n",
              "      <td>0</td>\n",
              "      <td>1</td>\n",
              "      <td>0</td>\n",
              "    </tr>\n",
              "    <tr>\n",
              "      <th>1</th>\n",
              "      <td>0</td>\n",
              "      <td>2016.0</td>\n",
              "      <td>12</td>\n",
              "      <td>2</td>\n",
              "      <td>0</td>\n",
              "      <td>0</td>\n",
              "      <td>0</td>\n",
              "    </tr>\n",
              "    <tr>\n",
              "      <th>2</th>\n",
              "      <td>46463</td>\n",
              "      <td>2015.0</td>\n",
              "      <td>13</td>\n",
              "      <td>2</td>\n",
              "      <td>0</td>\n",
              "      <td>0</td>\n",
              "      <td>0</td>\n",
              "    </tr>\n",
              "    <tr>\n",
              "      <th>3</th>\n",
              "      <td>0</td>\n",
              "      <td>2016.0</td>\n",
              "      <td>12</td>\n",
              "      <td>2</td>\n",
              "      <td>0</td>\n",
              "      <td>0</td>\n",
              "      <td>0</td>\n",
              "    </tr>\n",
              "    <tr>\n",
              "      <th>4</th>\n",
              "      <td>49999</td>\n",
              "      <td>2018.0</td>\n",
              "      <td>12</td>\n",
              "      <td>0</td>\n",
              "      <td>0</td>\n",
              "      <td>0</td>\n",
              "      <td>0</td>\n",
              "    </tr>\n",
              "  </tbody>\n",
              "</table>\n",
              "</div>"
            ],
            "text/plain": [
              "   price    year  manufacturer  fuel  title_status  transmission  state\n",
              "0  17899  2012.0            38     2             0             1      0\n",
              "1      0  2016.0            12     2             0             0      0\n",
              "2  46463  2015.0            13     2             0             0      0\n",
              "3      0  2016.0            12     2             0             0      0\n",
              "4  49999  2018.0            12     0             0             0      0"
            ]
          },
          "metadata": {
            "tags": []
          },
          "execution_count": 25
        }
      ]
    },
    {
      "cell_type": "code",
      "metadata": {
        "id": "o0_hhUpyfeQA",
        "colab_type": "code",
        "outputId": "39c31a2e-2c14-4583-ea8d-a35283e385bb",
        "colab": {
          "base_uri": "https://localhost:8080/",
          "height": 360
        }
      },
      "source": [
        "import matplotlib as mpl\n",
        "from matplotlib import pyplot as plt\n",
        "mpl.rcParams['figure.dpi'] = 100\n",
        "plt.figure(figsize=(100, 100))\n",
        "f, axes = plt.subplots(1, 2)\n",
        "sns.boxplot(y=df[\"manufacturer\"], ax=axes[0])\n",
        "sns.boxplot(y=df[\"state\"], ax=axes[1])\n",
        "plt.subplots_adjust(wspace=1)"
      ],
      "execution_count": 28,
      "outputs": [
        {
          "output_type": "display_data",
          "data": {
            "text/plain": [
              "<Figure size 10000x10000 with 0 Axes>"
            ]
          },
          "metadata": {
            "tags": []
          }
        },
        {
          "output_type": "display_data",
          "data": {
            "image/png": "[encoded data removed]",
            "text/plain": [
              "<Figure size 600x400 with 2 Axes>"
            ]
          },
          "metadata": {
            "tags": [],
            "needs_background": "light"
          }
        }
      ]
    },
    {
      "cell_type": "markdown",
      "metadata": {
        "id": "Y7PG_RXdkFIE",
        "colab_type": "text"
      },
      "source": [
        "**Normalisasi Coloum**"
      ]
    },
    {
      "cell_type": "code",
      "metadata": {
        "id": "RdK7udT1kJLj",
        "colab_type": "code",
        "outputId": "172c02a0-e3be-447c-a3ed-59114895bab9",
        "colab": {
          "base_uri": "https://localhost:8080/",
          "height": 204
        }
      },
      "source": [
        "from sklearn import preprocessing\n",
        "\n",
        "x = df.values #returns a numpy array\n",
        "min_max_scaler = preprocessing.MinMaxScaler()\n",
        "x_scaled = min_max_scaler.fit_transform(x)\n",
        "df = pd.DataFrame(x_scaled)\n",
        "df.columns = ['price','year','manufacturer','fuel','title_status','transmission','state']\n",
        "df.head()"
      ],
      "execution_count": 31,
      "outputs": [
        {
          "output_type": "execute_result",
          "data": {
            "text/html": [
              "<div>\n",
              "<style scoped>\n",
              "    .dataframe tbody tr th:only-of-type {\n",
              "        vertical-align: middle;\n",
              "    }\n",
              "\n",
              "    .dataframe tbody tr th {\n",
              "        vertical-align: top;\n",
              "    }\n",
              "\n",
              "    .dataframe thead th {\n",
              "        text-align: right;\n",
              "    }\n",
              "</style>\n",
              "<table border=\"1\" class=\"dataframe\">\n",
              "  <thead>\n",
              "    <tr style=\"text-align: right;\">\n",
              "      <th></th>\n",
              "      <th>price</th>\n",
              "      <th>year</th>\n",
              "      <th>manufacturer</th>\n",
              "      <th>fuel</th>\n",
              "      <th>title_status</th>\n",
              "      <th>transmission</th>\n",
              "      <th>state</th>\n",
              "    </tr>\n",
              "  </thead>\n",
              "  <tbody>\n",
              "    <tr>\n",
              "      <th>0</th>\n",
              "      <td>0.000015</td>\n",
              "      <td>0.922330</td>\n",
              "      <td>0.974359</td>\n",
              "      <td>0.5</td>\n",
              "      <td>0.0</td>\n",
              "      <td>0.5</td>\n",
              "      <td>0.0</td>\n",
              "    </tr>\n",
              "    <tr>\n",
              "      <th>1</th>\n",
              "      <td>0.000000</td>\n",
              "      <td>0.961165</td>\n",
              "      <td>0.307692</td>\n",
              "      <td>0.5</td>\n",
              "      <td>0.0</td>\n",
              "      <td>0.0</td>\n",
              "      <td>0.0</td>\n",
              "    </tr>\n",
              "    <tr>\n",
              "      <th>2</th>\n",
              "      <td>0.000040</td>\n",
              "      <td>0.951456</td>\n",
              "      <td>0.333333</td>\n",
              "      <td>0.5</td>\n",
              "      <td>0.0</td>\n",
              "      <td>0.0</td>\n",
              "      <td>0.0</td>\n",
              "    </tr>\n",
              "    <tr>\n",
              "      <th>3</th>\n",
              "      <td>0.000000</td>\n",
              "      <td>0.961165</td>\n",
              "      <td>0.307692</td>\n",
              "      <td>0.5</td>\n",
              "      <td>0.0</td>\n",
              "      <td>0.0</td>\n",
              "      <td>0.0</td>\n",
              "    </tr>\n",
              "    <tr>\n",
              "      <th>4</th>\n",
              "      <td>0.000043</td>\n",
              "      <td>0.980583</td>\n",
              "      <td>0.307692</td>\n",
              "      <td>0.0</td>\n",
              "      <td>0.0</td>\n",
              "      <td>0.0</td>\n",
              "      <td>0.0</td>\n",
              "    </tr>\n",
              "  </tbody>\n",
              "</table>\n",
              "</div>"
            ],
            "text/plain": [
              "      price      year  manufacturer  fuel  title_status  transmission  state\n",
              "0  0.000015  0.922330      0.974359   0.5           0.0           0.5    0.0\n",
              "1  0.000000  0.961165      0.307692   0.5           0.0           0.0    0.0\n",
              "2  0.000040  0.951456      0.333333   0.5           0.0           0.0    0.0\n",
              "3  0.000000  0.961165      0.307692   0.5           0.0           0.0    0.0\n",
              "4  0.000043  0.980583      0.307692   0.0           0.0           0.0    0.0"
            ]
          },
          "metadata": {
            "tags": []
          },
          "execution_count": 31
        }
      ]
    },
    {
      "cell_type": "markdown",
      "metadata": {
        "id": "t95Yf46chm5n",
        "colab_type": "text"
      },
      "source": [
        "**Korelasi** **antar** **data**"
      ]
    },
    {
      "cell_type": "code",
      "metadata": {
        "id": "td92jJtgzjbT",
        "colab_type": "code",
        "colab": {}
      },
      "source": [
        "import seaborn as sns\n",
        "from matplotlib import pyplot as plt\n",
        "sns.set_style(\"whitegrid\")"
      ],
      "execution_count": 0,
      "outputs": []
    },
    {
      "cell_type": "code",
      "metadata": {
        "id": "ScCmS_0ohdUA",
        "colab_type": "code",
        "outputId": "2d5536bc-1d59-4bfa-d960-afa936f2855f",
        "colab": {
          "base_uri": "https://localhost:8080/",
          "height": 506
        }
      },
      "source": [
        "ambil = df.select_dtypes(include = ['float64', 'int64',]).iloc[:, :].corr()\n",
        "plt.figure(figsize=(5, 5))\n",
        "ax = sns.heatmap(ambil, vmax=1, square=True)\n",
        "plt.xticks(rotation=45)\n",
        "plt.yticks(rotation=45)"
      ],
      "execution_count": 33,
      "outputs": [
        {
          "output_type": "execute_result",
          "data": {
            "text/plain": [
              "(array([0.5, 1.5, 2.5, 3.5, 4.5, 5.5, 6.5]),\n",
              " <a list of 7 Text major ticklabel objects>)"
            ]
          },
          "metadata": {
            "tags": []
          },
          "execution_count": 33
        },
        {
          "output_type": "display_data",
          "data": {
            "image/png": "[encoded data removed]",
            "text/plain": [
              "<Figure size 500x500 with 2 Axes>"
            ]
          },
          "metadata": {
            "tags": []
          }
        }
      ]
    },
    {
      "cell_type": "code",
      "metadata": {
        "id": "g90w_FM0ioCT",
        "colab_type": "code",
        "outputId": "18eb1139-2da6-4719-e9dc-3db746b29fc8",
        "colab": {
          "base_uri": "https://localhost:8080/",
          "height": 266
        }
      },
      "source": [
        "ambil"
      ],
      "execution_count": 34,
      "outputs": [
        {
          "output_type": "execute_result",
          "data": {
            "text/html": [
              "<div>\n",
              "<style scoped>\n",
              "    .dataframe tbody tr th:only-of-type {\n",
              "        vertical-align: middle;\n",
              "    }\n",
              "\n",
              "    .dataframe tbody tr th {\n",
              "        vertical-align: top;\n",
              "    }\n",
              "\n",
              "    .dataframe thead th {\n",
              "        text-align: right;\n",
              "    }\n",
              "</style>\n",
              "<table border=\"1\" class=\"dataframe\">\n",
              "  <thead>\n",
              "    <tr style=\"text-align: right;\">\n",
              "      <th></th>\n",
              "      <th>price</th>\n",
              "      <th>year</th>\n",
              "      <th>manufacturer</th>\n",
              "      <th>fuel</th>\n",
              "      <th>title_status</th>\n",
              "      <th>transmission</th>\n",
              "      <th>state</th>\n",
              "    </tr>\n",
              "  </thead>\n",
              "  <tbody>\n",
              "    <tr>\n",
              "      <th>price</th>\n",
              "      <td>1.000000</td>\n",
              "      <td>-0.004382</td>\n",
              "      <td>-0.006752</td>\n",
              "      <td>-0.020615</td>\n",
              "      <td>-0.001208</td>\n",
              "      <td>-0.002562</td>\n",
              "      <td>-0.003147</td>\n",
              "    </tr>\n",
              "    <tr>\n",
              "      <th>year</th>\n",
              "      <td>-0.004382</td>\n",
              "      <td>1.000000</td>\n",
              "      <td>0.069177</td>\n",
              "      <td>0.036020</td>\n",
              "      <td>0.025964</td>\n",
              "      <td>-0.085660</td>\n",
              "      <td>0.122458</td>\n",
              "    </tr>\n",
              "    <tr>\n",
              "      <th>manufacturer</th>\n",
              "      <td>-0.006752</td>\n",
              "      <td>0.069177</td>\n",
              "      <td>1.000000</td>\n",
              "      <td>0.006257</td>\n",
              "      <td>0.048211</td>\n",
              "      <td>0.041105</td>\n",
              "      <td>0.063490</td>\n",
              "    </tr>\n",
              "    <tr>\n",
              "      <th>fuel</th>\n",
              "      <td>-0.020615</td>\n",
              "      <td>0.036020</td>\n",
              "      <td>0.006257</td>\n",
              "      <td>1.000000</td>\n",
              "      <td>0.014437</td>\n",
              "      <td>0.031500</td>\n",
              "      <td>0.004221</td>\n",
              "    </tr>\n",
              "    <tr>\n",
              "      <th>title_status</th>\n",
              "      <td>-0.001208</td>\n",
              "      <td>0.025964</td>\n",
              "      <td>0.048211</td>\n",
              "      <td>0.014437</td>\n",
              "      <td>1.000000</td>\n",
              "      <td>-0.010784</td>\n",
              "      <td>0.041385</td>\n",
              "    </tr>\n",
              "    <tr>\n",
              "      <th>transmission</th>\n",
              "      <td>-0.002562</td>\n",
              "      <td>-0.085660</td>\n",
              "      <td>0.041105</td>\n",
              "      <td>0.031500</td>\n",
              "      <td>-0.010784</td>\n",
              "      <td>1.000000</td>\n",
              "      <td>0.036316</td>\n",
              "    </tr>\n",
              "    <tr>\n",
              "      <th>state</th>\n",
              "      <td>-0.003147</td>\n",
              "      <td>0.122458</td>\n",
              "      <td>0.063490</td>\n",
              "      <td>0.004221</td>\n",
              "      <td>0.041385</td>\n",
              "      <td>0.036316</td>\n",
              "      <td>1.000000</td>\n",
              "    </tr>\n",
              "  </tbody>\n",
              "</table>\n",
              "</div>"
            ],
            "text/plain": [
              "                 price      year  ...  transmission     state\n",
              "price         1.000000 -0.004382  ...     -0.002562 -0.003147\n",
              "year         -0.004382  1.000000  ...     -0.085660  0.122458\n",
              "manufacturer -0.006752  0.069177  ...      0.041105  0.063490\n",
              "fuel         -0.020615  0.036020  ...      0.031500  0.004221\n",
              "title_status -0.001208  0.025964  ...     -0.010784  0.041385\n",
              "transmission -0.002562 -0.085660  ...      1.000000  0.036316\n",
              "state        -0.003147  0.122458  ...      0.036316  1.000000\n",
              "\n",
              "[7 rows x 7 columns]"
            ]
          },
          "metadata": {
            "tags": []
          },
          "execution_count": 34
        }
      ]
    },
    {
      "cell_type": "code",
      "metadata": {
        "id": "hkOjAnmZgqd4",
        "colab_type": "code",
        "colab": {}
      },
      "source": [
        "df.to_csv('gdrive/My Drive/used_cars_olah.csv')"
      ],
      "execution_count": 0,
      "outputs": []
    }
  ]
}